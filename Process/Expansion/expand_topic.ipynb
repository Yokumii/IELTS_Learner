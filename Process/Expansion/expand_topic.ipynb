{
 "cells": [
  {
   "cell_type": "code",
   "execution_count": null,
   "metadata": {},
   "outputs": [],
   "source": [
    "import json\n",
    "from openai import OpenAI\n",
    "import os\n",
    "from pathlib import Path"
   ]
  },
  {
   "cell_type": "code",
   "execution_count": null,
   "metadata": {},
   "outputs": [],
   "source": [
    "PROMPT_TEMPLATE = \"\"\"\n",
    "You are an experienced IELTS speaking examiner, expanding the IELTS speaking topic \"{core_topic['name']}\".  \n",
    "\n",
    "### Topic Overview:  \n",
    "{core_topic['description']}  \n",
    "\n",
    "### Reference Subtopics:  \n",
    "{json.dumps(core_topic['sub_topics'], ensure_ascii=False, indent=2)}  \n",
    "\n",
    "### Your Task:  \n",
    "Generate 10 specific expanded subtopics based on the core theme \"{core_topic['name']}\", following these guidelines:  \n",
    "\n",
    "1. Real-life Contexts: Consider how this topic applies to different settings (e.g., home, school, workplace, social interactions).  \n",
    "2. Cultural Perspectives: Compare attitudes, habits, and traditions across different cultures or countries.  \n",
    "3. Personalized Angles: Include aspects related to personal experiences, future possibilities, or changes over time.  \n",
    "4. IELTS Relevance: Ensure that each expanded topic allows test-takers to develop detailed responses.  \n",
    "\n",
    "### Output Format:  \n",
    "Core Theme: {core_topic['name']}  \n",
    "- Expanded Topic 1: [Topic Name] – [Short Explanation]  \n",
    "- Expanded Topic 2: [Topic Name] – [Short Explanation]  \n",
    "- Expanded Topic 3: [Topic Name] – [Short Explanation]  \n",
    "- Expanded Topic 4: [Topic Name] – [Short Explanation]  \n",
    "- Expanded Topic 5: [Topic Name] – [Short Explanation]  \n",
    "...  \n",
    "\n",
    "### Example Output:  \n",
    "Core Theme: Travel  \n",
    "- Solo vs. Group Travel – Discuss advantages and challenges of traveling alone versus with others.  \n",
    "- Travel and Technology – How mobile apps and digital platforms have changed the way people travel.  \n",
    "- Eco-friendly Tourism – The impact of sustainable travel and how individuals can reduce their carbon footprint.  \n",
    "- Cultural Sensitivity in Travel – How travelers should respect and adapt to different cultures.  \n",
    "- The Future of Space Tourism – Would you travel to space if given the chance? Why or why not?  \n",
    "\n",
    "Ensure that the expanded topics are engaging, diverse, and practical for IELTS test preparation.  \n",
    "\"\"\""
   ]
  },
  {
   "cell_type": "code",
   "execution_count": null,
   "metadata": {},
   "outputs": [],
   "source": [
    "def expand_topic_with_llm(theme_data, client):\n",
    "    prompt = PROMPT_TEMPLATE.format(\n",
    "        theme_name=theme_data[\"theme_name\"],\n",
    "        reasoning=theme_data[\"reasoning\"],\n",
    "        subtopics=\"\\n\".join(f\"- {t}\" for t in theme_data[\"subtopics\"])\n",
    "    )\n",
    "    response = client.chat.completions.create(\n",
    "        model=\"deepseek-chat\",\n",
    "        messages=[\n",
    "            {\"role\": \"system\", \"content\": \"You are an experienced IELTS speaking examiner\"},\n",
    "            {\"role\": \"user\", \"content\": prompt}\n",
    "        ],\n",
    "        temperature=1.3,\n",
    "        stream=False\n",
    "    )\n",
    "    \n",
    "    result = response.choices[0].message.content\n",
    "    return result;"
   ]
  },
  {
   "cell_type": "code",
   "execution_count": null,
   "metadata": {},
   "outputs": [],
   "source": [
    "def save_expanded_topics(theme_name, content, output_dir):\n",
    "    # 确保目录存在\n",
    "    output_dir = Path(output_dir)\n",
    "    output_dir.mkdir(parents=True, exist_ok=True)\n",
    "    \n",
    "    # 生成文件名\n",
    "    safe_theme_name = re.sub(r'[^\\w\\u4e00-\\u9fff-]', '_', theme_name)\n",
    "    output_path = output_dir / f\"{safe_theme_name}.txt\"\n",
    "    \n",
    "    # 保存文件\n",
    "    with open(output_path, 'w', encoding='utf-8') as f:\n",
    "        f.write(content)\n",
    "    print(f\"主题 '{theme_name}' 的扩展已保存到: {output_path}\")"
   ]
  },
  {
   "cell_type": "code",
   "execution_count": null,
   "metadata": {},
   "outputs": [],
   "source": [
    "# 从环境变量获取API密钥\n",
    "api_key = os.getenv('DEEPSEEK_API_KEY')\n",
    "if not api_key:\n",
    "    raise ValueError(\"请在.env文件中设置DEEPSEEK_API_KEY环境变量\")\n",
    "\n",
    "client = OpenAI(api_key=api_key, base_url=\"https://api.deepseek.com\")"
   ]
  },
  {
   "cell_type": "code",
   "execution_count": null,
   "metadata": {},
   "outputs": [],
   "source": [
    "# 读取summary.json\n",
    "summary_path = Path(\"../Extraction/Part1/summary/summary.json\")\n",
    "with open(summary_path, 'r', encoding='utf-8') as f:\n",
    "    summary_data = json.load(f)"
   ]
  },
  {
   "cell_type": "code",
   "execution_count": null,
   "metadata": {},
   "outputs": [],
   "source": [
    "# 输出目录\n",
    "output_dir = \"expanded_topics\"\n",
    "\n",
    "# 逐个处理核心主题\n",
    "for theme in summary_data[\"core_themes\"]:\n",
    "    try:\n",
    "        # 生成扩展主题\n",
    "        expanded_content = expand_topic_with_llm(theme, client)\n",
    "        \n",
    "        # 保存结果\n",
    "        save_expanded_topics(theme[\"theme_name\"], expanded_content, output_dir)\n",
    "    except Exception as e:\n",
    "        print(f\"处理主题 '{theme['theme_name']}' 时出错: {str(e)}\")"
   ]
  }
 ],
 "metadata": {
  "kernelspec": {
   "display_name": "IELTS",
   "language": "python",
   "name": "python3"
  },
  "language_info": {
   "name": "python",
   "version": "3.10.16"
  }
 },
 "nbformat": 4,
 "nbformat_minor": 2
}
