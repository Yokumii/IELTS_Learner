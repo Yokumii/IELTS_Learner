{
 "cells": [
  {
   "cell_type": "code",
   "execution_count": 1,
   "metadata": {},
   "outputs": [
    {
     "name": "stderr",
     "output_type": "stream",
     "text": [
      "/opt/homebrew/anaconda3/envs/IELTS/lib/python3.10/site-packages/tqdm/auto.py:21: TqdmWarning: IProgress not found. Please update jupyter and ipywidgets. See https://ipywidgets.readthedocs.io/en/stable/user_install.html\n",
      "  from .autonotebook import tqdm as notebook_tqdm\n"
     ]
    }
   ],
   "source": [
    "import json\n",
    "import os\n",
    "from pathlib import Path\n",
    "from sklearn.cluster import KMeans\n",
    "from sentence_transformers import SentenceTransformer\n",
    "import numpy as np"
   ]
  },
  {
   "cell_type": "code",
   "execution_count": 2,
   "metadata": {},
   "outputs": [],
   "source": [
    "# 定义相对路径\n",
    "themes_dir = Path(\"../../Data/Process/Part1/themes\")\n",
    "# 检查路径是否存在\n",
    "if not themes_dir.exists():\n",
    "    raise FileNotFoundError(f\"无法找到主题文件夹: {themes_dir}\")\n",
    "\n",
    "# 读取所有JSON文件并构建题库\n",
    "ielts_questions = []\n",
    "for json_file in themes_dir.glob(\"*.json\"):\n",
    "    with open(json_file, 'r', encoding='utf-8') as f:\n",
    "        data = json.load(f)\n",
    "        ielts_questions.append({\n",
    "            \"theme\": data[\"theme\"],\n",
    "            \"questions\": data[\"questions\"]\n",
    "        })"
   ]
  },
  {
   "cell_type": "code",
   "execution_count": 3,
   "metadata": {},
   "outputs": [],
   "source": [
    "# 获取主题列表\n",
    "themes = [item[\"theme\"] for item in ielts_questions]\n",
    "\n",
    "# 加载预训练 BERT 模型用于语义嵌入\n",
    "model = SentenceTransformer(\"all-MiniLM-L6-v2\")\n",
    "\n",
    "# 计算主题的向量表示\n",
    "theme_embeddings = model.encode(themes)"
   ]
  },
  {
   "cell_type": "code",
   "execution_count": 4,
   "metadata": {},
   "outputs": [
    {
     "name": "stderr",
     "output_type": "stream",
     "text": [
      "huggingface/tokenizers: The current process just got forked, after parallelism has already been used. Disabling parallelism to avoid deadlocks...\n",
      "To disable this warning, you can either:\n",
      "\t- Avoid using `tokenizers` before the fork if possible\n",
      "\t- Explicitly set the environment variable TOKENIZERS_PARALLELISM=(true | false)\n"
     ]
    }
   ],
   "source": [
    "# 进行聚类\n",
    "num_clusters = 5  # 设定核心主题数目\n",
    "kmeans = KMeans(n_clusters=num_clusters, random_state=42)\n",
    "clusters = kmeans.fit_predict(theme_embeddings)"
   ]
  },
  {
   "cell_type": "code",
   "execution_count": 5,
   "metadata": {},
   "outputs": [],
   "source": [
    "# 归类核心主题\n",
    "core_themes = {}\n",
    "for idx, label in enumerate(clusters):\n",
    "    if label not in core_themes:\n",
    "        core_themes[label] = []\n",
    "    core_themes[label].append(themes[idx])"
   ]
  },
  {
   "cell_type": "code",
   "execution_count": 6,
   "metadata": {},
   "outputs": [
    {
     "name": "stdout",
     "output_type": "stream",
     "text": [
      "\n",
      "核心主题 1: Old buildings, Borrowing and lending, Accommodation, Sitting down, Area you live in, Hometown, Street markets\n",
      "\n",
      "核心主题 3: Friends, Lost and found, Feeling bored, Stories, Work, Swimming, Sports, Art\n",
      "\n",
      "核心主题 2: Dreams, Mirrors\n",
      "\n",
      "核心主题 5: Study, Advertisements, Websites, Reading, Cars, Hats/Caps, Emails, Collecting things, Computers, Talents, Colors\n",
      "\n",
      "核心主题 4: Evening time, Watches, Time management\n"
     ]
    }
   ],
   "source": [
    "# 输出核心主题归类结果\n",
    "for cluster, grouped_themes in core_themes.items():\n",
    "    print(f\"\\n核心主题 {cluster + 1}: {', '.join(grouped_themes)}\")"
   ]
  },
  {
   "cell_type": "code",
   "execution_count": 7,
   "metadata": {},
   "outputs": [],
   "source": [
    "from openai import OpenAI"
   ]
  },
  {
   "cell_type": "code",
   "execution_count": 10,
   "metadata": {},
   "outputs": [],
   "source": [
    "# 构造 Prompt\n",
    "PROMPT_TEMPLATE = \"\"\"\n",
    "You are an experienced IELTS speaking examiner. Below is a collection of common Part 1 IELTS speaking topics:  \n",
    "\n",
    "{text}  \n",
    "\n",
    "### Your Task: \n",
    "1. Summarize 5-7 core themes, each covering multiple original topics.  \n",
    "2. Explain the reasoning behind your categorization to ensure alignment with IELTS exam logic.  \n",
    "3. Ensure the theme names are concise and clear.  \n",
    "\n",
    "### Output Format: \n",
    "Core Theme 1: [Theme Name]  \n",
    "- [Subtopic]  \n",
    "- [Subtopic]  \n",
    "- [Subtopic]  \n",
    "(Reasoning: …)  \n",
    "\n",
    "Core Theme 2: [Theme Name]  \n",
    "- [Subtopic]  \n",
    "- [Subtopic]  \n",
    "- [Subtopic]  \n",
    "(Reasoning: …) \n",
    "\n",
    "...  \n",
    "\"\"\""
   ]
  },
  {
   "cell_type": "code",
   "execution_count": 24,
   "metadata": {},
   "outputs": [],
   "source": [
    "def extract_theme_with_llm(text, client):\n",
    "    prompt = PROMPT_TEMPLATE.format(text=text)\n",
    "    response = client.chat.completions.create(\n",
    "        model=\"deepseek-chat\",\n",
    "        messages=[\n",
    "            {\"role\": \"system\", \"content\": \"You are an experienced IELTS speaking examiner\"},\n",
    "            {\"role\": \"user\", \"content\": prompt}\n",
    "        ],\n",
    "        temperature=1.0,\n",
    "        stream=False\n",
    "    )\n",
    "    \n",
    "    result = response.choices[0].message.content\n",
    "    return result;"
   ]
  },
  {
   "cell_type": "code",
   "execution_count": 25,
   "metadata": {},
   "outputs": [
    {
     "name": "stdout",
     "output_type": "stream",
     "text": [
      "### Core Theme 1: Daily Life and Personal Preferences  \n",
      "- Old buildings  \n",
      "- Accommodation  \n",
      "- Evening time  \n",
      "- Sitting down  \n",
      "- Colors  \n",
      "(Reasoning: These topics revolve around personal habits, living environments, and preferences, which are common in IELTS Part 1 to assess the candidate's ability to describe their daily life and express opinions about familiar settings.)  \n",
      "\n",
      "---\n",
      "\n",
      "### Core Theme 2: Social Interactions and Relationships  \n",
      "- Friends  \n",
      "- Borrowing and lending  \n",
      "- Stories  \n",
      "- Hometown  \n",
      "(Reasoning: These topics focus on interpersonal relationships, social activities, and community connections, which are essential for evaluating the candidate's ability to discuss social dynamics and personal experiences.)  \n",
      "\n",
      "---\n",
      "\n",
      "### Core Theme 3: Hobbies and Leisure Activities  \n",
      "- Reading  \n",
      "- Sports  \n",
      "- Swimming  \n",
      "- Art  \n",
      "- Collecting things  \n",
      "(Reasoning: These topics explore the candidate's interests, hobbies, and leisure activities, allowing them to demonstrate vocabulary related to recreation and personal enjoyment.)  \n",
      "\n",
      "---\n",
      "\n",
      "### Core Theme 4: Technology and Modern Life  \n",
      "- Websites  \n",
      "- Computers  \n",
      "- Emails  \n",
      "- Advertisements  \n",
      "(Reasoning: These topics reflect the influence of technology and digital communication in modern life, providing opportunities for candidates to discuss contemporary trends and their personal experiences with technology.)  \n",
      "\n",
      "---\n",
      "\n",
      "### Core Theme 5: Personal Development and Aspirations  \n",
      "- Study  \n",
      "- Work  \n",
      "- Dreams  \n",
      "- Talents  \n",
      "- Time management  \n",
      "(Reasoning: These topics focus on personal growth, career, and future goals, enabling candidates to showcase their ability to discuss aspirations, challenges, and self-improvement.)  \n",
      "\n",
      "---\n",
      "\n",
      "### Core Theme 6: Cultural and Historical Awareness  \n",
      "- Old buildings  \n",
      "- Hometown  \n",
      "- Art  \n",
      "- Street markets  \n",
      "(Reasoning: These topics encourage candidates to reflect on cultural heritage, traditions, and historical significance, which are often explored in IELTS to assess cultural awareness and descriptive skills.)  \n",
      "\n",
      "---\n",
      "\n",
      "### Core Theme 7: Emotions and Experiences  \n",
      "- Feeling bored  \n",
      "- Lost and found  \n",
      "- Mirrors  \n",
      "- Watches  \n",
      "(Reasoning: These topics delve into personal emotions, memories, and experiences, allowing candidates to express themselves creatively and demonstrate their ability to narrate and reflect on past events.)  \n",
      "\n",
      "---\n",
      "\n",
      "### Summary of Reasoning:  \n",
      "The categorization aligns with IELTS exam logic by grouping topics into themes that reflect common areas of human experience, such as daily life, social interactions, hobbies, technology, personal development, cultural awareness, and emotions. This structure ensures that candidates can demonstrate a wide range of vocabulary, fluency, and coherence while addressing familiar and relatable subjects.\n"
     ]
    }
   ],
   "source": [
    "# 从环境变量获取API密钥\n",
    "api_key = os.getenv('DEEPSEEK_API_KEY')\n",
    "if not api_key:\n",
    "    raise ValueError(\"请在.env文件中设置DEEPSEEK_API_KEY环境变量\")\n",
    "\n",
    "client = OpenAI(api_key=api_key, base_url=\"https://api.deepseek.com\")\n",
    "result = extract_theme_with_llm(ielts_questions, client)\n",
    "print(result)"
   ]
  },
  {
   "cell_type": "code",
   "execution_count": 17,
   "metadata": {},
   "outputs": [],
   "source": [
    "import re"
   ]
  },
  {
   "cell_type": "code",
   "execution_count": 18,
   "metadata": {},
   "outputs": [],
   "source": [
    "def parse_theme_text_to_json(text):\n",
    "    # 定义正则表达式模式\n",
    "    theme_pattern = r\"### Core Theme (\\d+): \\*\\*(.*?)\\*\\*\\s*(.*?)\\s*\\(Reasoning: (.*?)\\)\"\n",
    "    summary_pattern = r\"### Summary of Reasoning:\\s*(.*)\"\n",
    "    \n",
    "    # 查找所有主题\n",
    "    themes = re.findall(theme_pattern, text, re.DOTALL)\n",
    "    \n",
    "    # 查找总结\n",
    "    summary_match = re.search(summary_pattern, text, re.DOTALL)\n",
    "    summary = summary_match.group(1).strip() if summary_match else \"\"\n",
    "    \n",
    "    # 构建JSON结构\n",
    "    result = {\n",
    "        \"core_themes\": [],\n",
    "        \"summary\": summary\n",
    "    }\n",
    "    \n",
    "    for theme in themes:\n",
    "        theme_number, theme_name, subtopics_text, reasoning = theme\n",
    "        subtopics = [s.strip() for s in subtopics_text.split(\"-\") if s.strip()]\n",
    "        \n",
    "        theme_data = {\n",
    "            \"theme_number\": int(theme_number),\n",
    "            \"theme_name\": theme_name.strip(),\n",
    "            \"subtopics\": subtopics,\n",
    "            \"reasoning\": reasoning.strip()\n",
    "        }\n",
    "        result[\"core_themes\"].append(theme_data)\n",
    "    \n",
    "    return result"
   ]
  },
  {
   "cell_type": "code",
   "execution_count": 26,
   "metadata": {},
   "outputs": [
    {
     "name": "stdout",
     "output_type": "stream",
     "text": [
      "{\n",
      "  \"core_themes\": [\n",
      "    {\n",
      "      \"theme_number\": 1,\n",
      "      \"theme_name\": \"Daily Life and Personal Preferences\",\n",
      "      \"subtopics\": [\n",
      "        \"Old buildings\",\n",
      "        \"Accommodation\",\n",
      "        \"Evening time\",\n",
      "        \"Sitting down\",\n",
      "        \"Colors\"\n",
      "      ],\n",
      "      \"reasoning\": \"These topics revolve around personal habits, living environments, and preferences, which are common in IELTS Part 1 to assess the candidate's ability to describe their daily life and express opinions about familiar settings.\"\n",
      "    },\n",
      "    {\n",
      "      \"theme_number\": 2,\n",
      "      \"theme_name\": \"Social Interactions and Relationships\",\n",
      "      \"subtopics\": [\n",
      "        \"Friends\",\n",
      "        \"Borrowing and lending\",\n",
      "        \"Stories\",\n",
      "        \"Hometown\"\n",
      "      ],\n",
      "      \"reasoning\": \"These topics focus on interpersonal relationships, social activities, and community connections, which are essential for evaluating the candidate's ability to discuss social dynamics and personal experiences.\"\n",
      "    },\n",
      "    {\n",
      "      \"theme_number\": 3,\n",
      "      \"theme_name\": \"Hobbies and Leisure Activities\",\n",
      "      \"subtopics\": [\n",
      "        \"Reading\",\n",
      "        \"Sports\",\n",
      "        \"Swimming\",\n",
      "        \"Art\",\n",
      "        \"Collecting things\"\n",
      "      ],\n",
      "      \"reasoning\": \"These topics explore the candidate's interests, hobbies, and leisure activities, allowing them to demonstrate vocabulary related to recreation and personal enjoyment.\"\n",
      "    },\n",
      "    {\n",
      "      \"theme_number\": 4,\n",
      "      \"theme_name\": \"Technology and Modern Life\",\n",
      "      \"subtopics\": [\n",
      "        \"Websites\",\n",
      "        \"Computers\",\n",
      "        \"Emails\",\n",
      "        \"Advertisements\"\n",
      "      ],\n",
      "      \"reasoning\": \"These topics reflect the influence of technology and digital communication in modern life, providing opportunities for candidates to discuss contemporary trends and their personal experiences with technology.\"\n",
      "    },\n",
      "    {\n",
      "      \"theme_number\": 5,\n",
      "      \"theme_name\": \"Personal Development and Aspirations\",\n",
      "      \"subtopics\": [\n",
      "        \"Study\",\n",
      "        \"Work\",\n",
      "        \"Dreams\",\n",
      "        \"Talents\",\n",
      "        \"Time management\"\n",
      "      ],\n",
      "      \"reasoning\": \"These topics focus on personal growth, career, and future goals, enabling candidates to showcase their ability to discuss aspirations, challenges, and self-improvement.\"\n",
      "    },\n",
      "    {\n",
      "      \"theme_number\": 6,\n",
      "      \"theme_name\": \"Cultural and Historical Awareness\",\n",
      "      \"subtopics\": [\n",
      "        \"Old buildings\",\n",
      "        \"Hometown\",\n",
      "        \"Art\",\n",
      "        \"Street markets\"\n",
      "      ],\n",
      "      \"reasoning\": \"These topics encourage candidates to reflect on cultural heritage, traditions, and historical significance, which are often explored in IELTS to assess cultural awareness and descriptive skills.\"\n",
      "    },\n",
      "    {\n",
      "      \"theme_number\": 7,\n",
      "      \"theme_name\": \"Emotions and Experiences\",\n",
      "      \"subtopics\": [\n",
      "        \"Feeling bored\",\n",
      "        \"Lost and found\",\n",
      "        \"Mirrors\",\n",
      "        \"Watches\"\n",
      "      ],\n",
      "      \"reasoning\": \"These topics delve into personal emotions, memories, and experiences, allowing candidates to express themselves creatively and demonstrate their ability to narrate and reflect on past events.\"\n",
      "    }\n",
      "  ],\n",
      "  \"summary\": \"The categorization aligns with IELTS exam logic by grouping topics into themes that reflect common areas of human experience, such as daily life, social interactions, hobbies, technology, personal development, cultural awareness, and emotions. This structure ensures that candidates can demonstrate a wide range of vocabulary, fluency, and coherence while addressing familiar and relatable subjects.\"\n",
      "}\n"
     ]
    }
   ],
   "source": [
    "chunk_res = parse_theme_text_to_json(result)\n",
    "print(json.dumps(chunk_res, indent=2, ensure_ascii=False))"
   ]
  },
  {
   "cell_type": "code",
   "execution_count": 20,
   "metadata": {},
   "outputs": [],
   "source": [
    "def save_json_to_file(data, file_path):\n",
    "    # 确保目录存在\n",
    "    file_path = Path(file_path)\n",
    "    file_path.parent.mkdir(parents=True, exist_ok=True)\n",
    "    \n",
    "    # 保存JSON文件\n",
    "    with open(file_path, 'w', encoding='utf-8') as f:\n",
    "        json.dump(data, f, indent=2, ensure_ascii=False)\n",
    "    print(f\"文件已成功保存到: {file_path.absolute()}\")"
   ]
  },
  {
   "cell_type": "code",
   "execution_count": 27,
   "metadata": {},
   "outputs": [
    {
     "name": "stdout",
     "output_type": "stream",
     "text": [
      "文件已成功保存到: /Users/yokumi/Documents/IELTS_Learner/Process/Extraction/Part1/summary/summary.json\n"
     ]
    }
   ],
   "source": [
    "# 保存到文件\n",
    "output_path = \"Part1/summary/summary.json\"\n",
    "save_json_to_file(chunk_res, output_path)"
   ]
  }
 ],
 "metadata": {
  "kernelspec": {
   "display_name": "IELTS",
   "language": "python",
   "name": "python3"
  },
  "language_info": {
   "codemirror_mode": {
    "name": "ipython",
    "version": 3
   },
   "file_extension": ".py",
   "mimetype": "text/x-python",
   "name": "python",
   "nbconvert_exporter": "python",
   "pygments_lexer": "ipython3",
   "version": "3.10.16"
  }
 },
 "nbformat": 4,
 "nbformat_minor": 2
}
