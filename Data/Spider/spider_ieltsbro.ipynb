{
 "cells": [
  {
   "cell_type": "markdown",
   "metadata": {},
   "source": [
    "```bash\n",
    "conda create -n IELTS python=3.10\n",
    "conda activate IELTS\n",
    "pip install requests\n",
    "```"
   ]
  },
  {
   "cell_type": "code",
   "execution_count": 1,
   "metadata": {},
   "outputs": [],
   "source": [
    "import requests"
   ]
  },
  {
   "cell_type": "code",
   "execution_count": 2,
   "metadata": {},
   "outputs": [],
   "source": [
    "url = \"https://hcp-server.ieltsbro.com/hcp/qsBank/topicChange/getDataV2/1\""
   ]
  },
  {
   "cell_type": "code",
   "execution_count": 3,
   "metadata": {},
   "outputs": [],
   "source": [
    "# 构造请求头\n",
    "headers = {\n",
    "    \"accept\": \"application/json, text/plain, */*\",\n",
    "    \"accept-encoding\": \"gzip, deflate, br, zstd\",\n",
    "    \"accept-language\": \"zh-CN,zh;q=0.9,en;q=0.8\",\n",
    "    \"origin\": \"https://next.ieltsbro.com\",\n",
    "    \"referer\": \"https://next.ieltsbro.com/\",\n",
    "    \"sec-ch-ua\": '\"Not(A:Brand\";v=\"99\", \"Google Chrome\";v=\"133\", \"Chromium\";v=\"133\")',\n",
    "    \"sec-ch-ua-mobile\": \"?0\",\n",
    "    \"sec-ch-ua-platform\": '\"macOS\"',\n",
    "    \"sec-fetch-dest\": \"empty\",\n",
    "    \"sec-fetch-mode\": \"cors\",\n",
    "    \"sec-fetch-site\": \"same-site\",\n",
    "    \"user-agent\": \"Mozilla/5.0 (Macintosh; Intel Mac OS X 10_15_7) AppleWebKit/537.36 (KHTML, like Gecko) Chrome/133.0.0.0 Safari/537.36\"\n",
    "}"
   ]
  },
  {
   "cell_type": "code",
   "execution_count": 4,
   "metadata": {},
   "outputs": [],
   "source": [
    "# 发送GET请求\n",
    "response = requests.get(url, headers=headers)"
   ]
  },
  {
   "cell_type": "code",
   "execution_count": 5,
   "metadata": {},
   "outputs": [
    {
     "name": "stdout",
     "output_type": "stream",
     "text": [
      "{'status': 0, 'message': 'success', 'content': {'finishedFlag': False, 'p1List': [{'partType': 0, 'oralTopicName': 'Traffic', 'questionType': 1, 'questionPic': 'https://static.ieltsbro.com/uploads/topic_change_question/images/1741337355062.jpg', 'oralTopicCode': '320250308174015', 'topicCreateDate': '2025-03-07 16:48:38', 'ifNew': False, 'updateDate': '2025-03-08T17:43:48.000+0800', 'createDate': '2025-03-07T16:48:38.000+0800', 'updateFlag': True}, {'partType': 0, 'oralTopicName': 'Public gardens and parks', 'questionType': 1, 'questionPic': 'https://static.ieltsbro.com/uploads/topic_change_question/images/1740470387825.jpg', 'oralTopicCode': '320210902180838', 'topicCreateDate': '2025-02-25 15:58:35', 'ifNew': False, 'updateDate': '2025-02-25T16:01:11.000+0800', 'createDate': '2025-02-25T15:58:35.000+0800', 'updateFlag': True}, {'partType': 0, 'oralTopicName': 'Electronic\\xa0devices/Technology', 'questionType': 1, 'questionPic': 'https://static.ieltsbro.com/uploads/topic_change_question/images/1740390444840.jpg', 'oralTopicCode': '320220906155243', 'topicCreateDate': '2025-02-24 17:40:41', 'ifNew': False, 'updateDate': '2025-02-24T17:47:25.000+0800', 'createDate': '2025-02-24T17:40:41.000+0800', 'updateFlag': True}, {'partType': 0, 'oralTopicName': 'Young people', 'questionType': 1, 'questionPic': 'https://static.ieltsbro.com/uploads/topic_change_question/images/1740218009728.jpg', 'oralTopicCode': '320250223160847', 'topicCreateDate': '2025-02-22 17:52:34', 'ifNew': False, 'updateDate': '2025-02-23T16:10:00.000+0800', 'createDate': '2025-02-22T17:52:34.000+0800', 'updateFlag': True}, {'partType': 0, 'oralTopicName': 'Quiet/noisy places', 'questionType': 1, 'questionPic': 'https://static.ieltsbro.com/uploads/topic_change_question/images/1739950498823.jpg', 'oralTopicCode': '320250219153531', 'topicCreateDate': '2025-02-19 15:34:05', 'ifNew': False, 'updateDate': '2025-02-19T15:36:46.000+0800', 'createDate': '2025-02-19T15:34:05.000+0800', 'updateFlag': True}, {'partType': 0, 'oralTopicName': 'App', 'questionType': 1, 'questionPic': 'https://static.ieltsbro.com/uploads/topic_change_question/images/1740391390188.jpg', 'oralTopicCode': '320250224175927', 'topicCreateDate': '2025-02-14 17:11:48', 'ifNew': False, 'updateDate': '2025-02-24T18:03:33.000+0800', 'createDate': '2025-02-14T17:11:48.000+0800', 'updateFlag': True}, {'partType': 0, 'oralTopicName': 'Housework and cooking', 'questionType': 1, 'questionPic': 'https://static.ieltsbro.com/uploads/topic_change_question/images/1739521549455.jpg', 'oralTopicCode': '320220907093950', 'topicCreateDate': '2025-02-14 16:24:07', 'ifNew': False, 'updateDate': '2025-02-14T16:27:23.000+0800', 'createDate': '2025-02-14T16:24:07.000+0800', 'updateFlag': True}, {'partType': 0, 'oralTopicName': 'Party', 'questionType': 1, 'questionPic': 'https://static.ieltsbro.com/uploads/topic_change_question/images/1739094494092.jpg', 'oralTopicCode': '320250209182741', 'topicCreateDate': '2025-02-09 09:54:22', 'ifNew': False, 'updateDate': '2025-02-09T18:29:53.000+0800', 'createDate': '2025-02-09T09:54:22.000+0800', 'updateFlag': True}, {'partType': 0, 'oralTopicName': 'Gifts', 'questionType': 1, 'questionPic': 'https://static.ieltsbro.com/uploads/topic_change_question/images/1737693176681.jpg', 'oralTopicCode': '320230906154051', 'topicCreateDate': '2025-01-24 12:26:28', 'ifNew': False, 'updateDate': '2025-01-24T12:32:57.000+0800', 'createDate': '2025-01-24T12:26:28.000+0800', 'updateFlag': True}, {'partType': 0, 'oralTopicName': 'Hats/caps', 'questionType': 1, 'questionPic': 'https://static.ieltsbro.com/uploads/topic_change_question/images/1736911537914.jpg', 'oralTopicCode': '320250111161216', 'topicCreateDate': '2025-01-09 13:02:36', 'ifNew': False, 'updateDate': '2025-01-15T11:25:38.000+0800', 'createDate': '2025-01-09T13:02:36.000+0800', 'updateFlag': True}, {'partType': 0, 'oralTopicName': 'Borrowing/lending', 'questionType': 1, 'questionPic': 'https://static.ieltsbro.com/uploads/topic_change_question/images/1736911622068.jpg', 'oralTopicCode': '213', 'topicCreateDate': '2025-01-06 10:57:23', 'ifNew': False, 'updateDate': '2025-01-15T11:27:02.000+0800', 'createDate': '2025-01-06T10:57:23.000+0800', 'updateFlag': True}, {'partType': 0, 'oralTopicName': 'Stories', 'questionType': 1, 'questionPic': 'https://static.ieltsbro.com/uploads/topic_change_question/images/1739611446226.jpg', 'oralTopicCode': '320250122094558', 'topicCreateDate': '2025-01-04 11:48:05', 'ifNew': False, 'updateDate': '2025-02-15T17:24:07.000+0800', 'createDate': '2025-01-04T11:48:05.000+0800', 'updateFlag': True}, {'partType': 0, 'oralTopicName': 'Colours', 'questionType': 1, 'questionPic': 'https://static.ieltsbro.com/uploads/topic_change_question/images/1736911660155.jpg', 'oralTopicCode': '320210903141956', 'topicCreateDate': '2025-01-04 11:40:37', 'ifNew': False, 'updateDate': '2025-01-15T11:27:40.000+0800', 'createDate': '2025-01-04T11:40:37.000+0800', 'updateFlag': True}], 'p23List': [{'partType': 1, 'oralTopicName': '朋友做过的趣事', 'questionType': 1, 'questionPic': 'https://static.ieltsbro.com/uploads/topic_change_question/images/1741525102194.jpg', 'oralTopicCode': None, 'topicCreateDate': '2025-03-09 20:08:33', 'ifNew': False, 'updateDate': '2025-03-09T20:58:22.000+0800', 'createDate': '2025-03-09T20:08:33.000+0800', 'updateFlag': True}, {'partType': 1, 'oralTopicName': '交通工具抛锚', 'questionType': 1, 'questionPic': 'https://static.ieltsbro.com/uploads/topic_change_question/images/1741520807096.jpg', 'oralTopicCode': '10635', 'topicCreateDate': '2025-03-09 19:45:03', 'ifNew': False, 'updateDate': '2025-03-09T19:46:59.000+0800', 'createDate': '2025-03-09T19:45:03.000+0800', 'updateFlag': True}, {'partType': 1, 'oralTopicName': '外国食物', 'questionType': 1, 'questionPic': 'https://static.ieltsbro.com/uploads/topic_change_question/images/1741340332035.jpg', 'oralTopicCode': '320250308174445', 'topicCreateDate': '2025-03-07 17:37:31', 'ifNew': False, 'updateDate': '2025-03-08T17:48:01.000+0800', 'createDate': '2025-03-07T17:37:31.000+0800', 'updateFlag': True}, {'partType': 1, 'oralTopicName': '陌生人的电话', 'questionType': 1, 'questionPic': 'https://static.ieltsbro.com/uploads/topic_change_question/images/1741338586748.jpg', 'oralTopicCode': '10638', 'topicCreateDate': '2025-03-07 17:02:00', 'ifNew': False, 'updateDate': '2025-03-07T17:09:47.000+0800', 'createDate': '2025-03-07T17:02:00.000+0800', 'updateFlag': True}, {'partType': 1, 'oralTopicName': '想去的多树之地', 'questionType': 1, 'questionPic': 'https://static.ieltsbro.com/uploads/topic_change_question/images/1740474300499.jpg', 'oralTopicCode': '320250227144205', 'topicCreateDate': '2025-02-25 17:03:43', 'ifNew': False, 'updateDate': '2025-02-27T14:44:43.000+0800', 'createDate': '2025-02-25T17:03:43.000+0800', 'updateFlag': True}, {'partType': 1, 'oralTopicName': '不用工作或学习的一天', 'questionType': 1, 'questionPic': 'https://static.ieltsbro.com/uploads/topic_change_question/images/1740473145969.jpg', 'oralTopicCode': '10715', 'topicCreateDate': '2025-02-25 16:44:20', 'ifNew': False, 'updateDate': '2025-02-25T16:46:46.000+0800', 'createDate': '2025-02-25T16:44:20.000+0800', 'updateFlag': True}, {'partType': 1, 'oralTopicName': '仰慕的运动员/体育队', 'questionType': 1, 'questionPic': 'https://static.ieltsbro.com/uploads/topic_change_question/images/1740303058210.jpg', 'oralTopicCode': '320250224211320', 'topicCreateDate': '2025-02-23 17:27:48', 'ifNew': False, 'updateDate': '2025-02-24T21:15:52.000+0800', 'createDate': '2025-02-23T17:27:48.000+0800', 'updateFlag': True}, {'partType': 1, 'oralTopicName': '现场表演', 'questionType': 1, 'questionPic': 'https://static.ieltsbro.com/uploads/topic_change_question/images/1739784087242.jpg', 'oralTopicCode': '320250218155332', 'topicCreateDate': '2025-02-17 17:19:14', 'ifNew': False, 'updateDate': '2025-02-18T16:02:35.000+0800', 'createDate': '2025-02-17T17:19:14.000+0800', 'updateFlag': True}, {'partType': 1, 'oralTopicName': '想做部分修改的新法律', 'questionType': 1, 'questionPic': 'https://static.ieltsbro.com/uploads/topic_change_question/images/1739693794648.jpg', 'oralTopicCode': '320250218150047', 'topicCreateDate': '2025-02-16 16:15:24', 'ifNew': False, 'updateDate': '2025-02-18T15:12:09.000+0800', 'createDate': '2025-02-16T16:15:24.000+0800', 'updateFlag': True}, {'partType': 1, 'oralTopicName': '环保人士', 'questionType': 1, 'questionPic': 'https://static.ieltsbro.com/uploads/topic_change_question/images/1739326890861.jpg', 'oralTopicCode': '320250212101602', 'topicCreateDate': '2025-02-12 10:19:36', 'ifNew': False, 'updateDate': '2025-02-12T10:21:31.000+0800', 'createDate': '2025-02-12T10:19:36.000+0800', 'updateFlag': True}, {'partType': 1, 'oralTopicName': '智力游戏', 'questionType': 1, 'questionPic': 'https://static.ieltsbro.com/uploads/topic_change_question/images/1739167270195.jpg', 'oralTopicCode': '320210506112911', 'topicCreateDate': '2025-02-09 09:33:09', 'ifNew': False, 'updateDate': '2025-02-10T14:01:10.000+0800', 'createDate': '2025-02-09T09:33:09.000+0800', 'updateFlag': True}, {'partType': 1, 'oralTopicName': '最喜欢的运动', 'questionType': 1, 'questionPic': 'https://static.ieltsbro.com/uploads/topic_change_question/images/1740364727101.jpg', 'oralTopicCode': '320250207195635', 'topicCreateDate': '2025-02-06 20:37:57', 'ifNew': False, 'updateDate': '2025-02-24T10:38:47.000+0800', 'createDate': '2025-02-06T20:37:57.000+0800', 'updateFlag': True}, {'partType': 1, 'oralTopicName': '和你分享东西的人', 'questionType': 1, 'questionPic': 'https://static.ieltsbro.com/uploads/topic_change_question/images/1738729371856.jpg', 'oralTopicCode': '320250205122105', 'topicCreateDate': '2025-02-04 16:43:36', 'ifNew': False, 'updateDate': '2025-02-05T13:00:02.000+0800', 'createDate': '2025-02-04T16:43:36.000+0800', 'updateFlag': True}, {'partType': 1, 'oralTopicName': '喜欢的电视剧', 'questionType': 1, 'questionPic': 'https://static.ieltsbro.com/uploads/topic_change_question/images/1738577127015.jpg', 'oralTopicCode': '320250204162330', 'topicCreateDate': '2025-02-03 18:03:06', 'ifNew': False, 'updateDate': '2025-02-04T16:26:09.000+0800', 'createDate': '2025-02-03T18:03:06.000+0800', 'updateFlag': True}, {'partType': 1, 'oralTopicName': '家庭重要设备', 'questionType': 1, 'questionPic': 'https://static.ieltsbro.com/uploads/topic_change_question/images/1738575296988.jpg', 'oralTopicCode': '320210515162326', 'topicCreateDate': '2025-02-03 17:32:47', 'ifNew': False, 'updateDate': '2025-02-03T17:40:32.000+0800', 'createDate': '2025-02-03T17:32:47.000+0800', 'updateFlag': True}, {'partType': 1, 'oralTopicName': '有趣的建筑', 'questionType': 1, 'questionPic': 'https://static.ieltsbro.com/uploads/topic_change_question/images/1737692412621.jpg', 'oralTopicCode': '320250125150609', 'topicCreateDate': '2025-01-24 12:13:57', 'ifNew': False, 'updateDate': '2025-01-25T15:11:23.000+0800', 'createDate': '2025-01-24T12:13:57.000+0800', 'updateFlag': True}, {'partType': 1, 'oralTopicName': '近期改变的计划', 'questionType': 1, 'questionPic': 'https://static.ieltsbro.com/uploads/topic_change_question/images/1737976278282.jpg', 'oralTopicCode': '320250125151335', 'topicCreateDate': '2025-01-21 17:20:19', 'ifNew': False, 'updateDate': '2025-01-27T19:11:19.000+0800', 'createDate': '2025-01-21T17:20:19.000+0800', 'updateFlag': True}, {'partType': 1, 'oralTopicName': '许下的承诺', 'questionType': 1, 'questionPic': 'https://static.ieltsbro.com/uploads/topic_change_question/images/1737510113370.jpg', 'oralTopicCode': '320210107162105', 'topicCreateDate': '2025-01-21 17:02:16', 'ifNew': False, 'updateDate': '2025-01-22T09:41:54.000+0800', 'createDate': '2025-01-21T17:02:16.000+0800', 'updateFlag': True}, {'partType': 1, 'oralTopicName': '诗句或歌词', 'questionType': 1, 'questionPic': 'https://static.ieltsbro.com/uploads/topic_change_question/images/1740475146518.jpg', 'oralTopicCode': '320200902134808', 'topicCreateDate': '2025-01-21 15:46:35', 'ifNew': False, 'updateDate': '2025-02-25T17:19:07.000+0800', 'createDate': '2025-01-21T15:46:35.000+0800', 'updateFlag': True}, {'partType': 1, 'oralTopicName': '重要决定', 'questionType': 1, 'questionPic': 'https://static.ieltsbro.com/uploads/topic_change_question/images/1736923330375.jpg', 'oralTopicCode': '320230513170924', 'topicCreateDate': '2025-01-10 17:34:39', 'ifNew': False, 'updateDate': '2025-01-15T14:42:11.000+0800', 'createDate': '2025-01-10T17:34:39.000+0800', 'updateFlag': True}, {'partType': 1, 'oralTopicName': '学校/工作中的重要规则', 'questionType': 1, 'questionPic': 'https://static.ieltsbro.com/uploads/topic_change_question/images/1736911790022.jpg', 'oralTopicCode': '320230909233136', 'topicCreateDate': '2025-01-10 17:30:36', 'ifNew': False, 'updateDate': '2025-01-15T11:29:50.000+0800', 'createDate': '2025-01-10T17:30:36.000+0800', 'updateFlag': True}, {'partType': 1, 'oralTopicName': '想去的外国', 'questionType': 1, 'questionPic': 'https://static.ieltsbro.com/uploads/topic_change_question/images/1736911833584.jpg', 'oralTopicCode': '320250111161827', 'topicCreateDate': '2025-01-06 11:31:48', 'ifNew': False, 'updateDate': '2025-01-15T11:30:34.000+0800', 'createDate': '2025-01-06T11:31:48.000+0800', 'updateFlag': True}, {'partType': 1, 'oralTopicName': '感兴趣的科学学科/领域', 'questionType': 1, 'questionPic': 'https://static.ieltsbro.com/uploads/topic_change_question/images/1736911874215.jpg', 'oralTopicCode': '320230906155610', 'topicCreateDate': '2025-01-06 10:58:59', 'ifNew': False, 'updateDate': '2025-01-15T11:31:16.000+0800', 'createDate': '2025-01-06T10:58:59.000+0800', 'updateFlag': True}, {'partType': 1, 'oralTopicName': '祖辈工作', 'questionType': 1, 'questionPic': 'https://static.ieltsbro.com/uploads/topic_change_question/images/1739950927288.jpg', 'oralTopicCode': '320250219154326', 'topicCreateDate': '2025-01-06 10:40:18', 'ifNew': False, 'updateDate': '2025-02-19T15:53:58.000+0800', 'createDate': '2025-01-06T10:40:18.000+0800', 'updateFlag': True}, {'partType': 1, 'oralTopicName': '近期日常改变', 'questionType': 1, 'questionPic': 'https://static.ieltsbro.com/uploads/topic_change_question/images/1736130653608.jpg', 'oralTopicCode': '320250107100154', 'topicCreateDate': '2025-01-06 10:28:57', 'ifNew': False, 'updateDate': '2025-01-07T10:16:31.000+0800', 'createDate': '2025-01-06T10:28:57.000+0800', 'updateFlag': True}, {'partType': 1, 'oralTopicName': '精力充沛的人', 'questionType': 1, 'questionPic': 'https://static.ieltsbro.com/uploads/topic_change_question/images/1736920308694.jpg', 'oralTopicCode': '320200902154933', 'topicCreateDate': '2025-01-04 11:57:08', 'ifNew': False, 'updateDate': '2025-01-15T13:51:49.000+0800', 'createDate': '2025-01-04T11:57:08.000+0800', 'updateFlag': True}], 'p1UpdateDate': '2025-03-08T17:43:48.000+0800', 'p23UpdateDate': '2025-03-09T20:58:22.000+0800'}, 'showMessage': None}\n"
     ]
    }
   ],
   "source": [
    "# 解析返回的JSON数据\n",
    "if response.status_code == 200:\n",
    "    data = response.json()\n",
    "    print(data)\n",
    "else:\n",
    "    print(f\"请求失败，状态码：{response.status_code}\")"
   ]
  },
  {
   "cell_type": "code",
   "execution_count": 6,
   "metadata": {},
   "outputs": [],
   "source": [
    "import os"
   ]
  },
  {
   "cell_type": "code",
   "execution_count": 7,
   "metadata": {},
   "outputs": [],
   "source": [
    "# 解析 p1List 和 p23List\n",
    "def download_images(list_name, items):\n",
    "    save_dir = \"downloaded_images\"  # 根路径\n",
    "    for item in items:\n",
    "        pic_url = item.get(\"questionPic\")\n",
    "        topic_name = item.get(\"oralTopicName\", \"unknown\").replace(\"/\", \"_\")  # 替换可能导致路径错误的字符\n",
    "        if pic_url:\n",
    "            try:\n",
    "                response = requests.get(pic_url, stream=True)\n",
    "                response.raise_for_status()  # 检查请求是否成功\n",
    "                \n",
    "                # 确保文件格式正确\n",
    "                file_ext = os.path.splitext(pic_url)[-1]\n",
    "                file_name = f\"{topic_name}{file_ext}\"\n",
    "                os.makedirs(f\"{save_dir}/{list_name}\", exist_ok=True)\n",
    "                file_path = os.path.join(f\"{save_dir}/{list_name}\", file_name)\n",
    "                \n",
    "                # 保存图片\n",
    "                with open(file_path, \"wb\") as file:\n",
    "                    for chunk in response.iter_content(1024):\n",
    "                        file.write(chunk)\n",
    "                \n",
    "                print(f\"下载成功: {file_name}\")\n",
    "            except requests.exceptions.RequestException as e:\n",
    "                print(f\"下载失败: {topic_name} -> {pic_url}, 错误: {e}\")"
   ]
  },
  {
   "cell_type": "code",
   "execution_count": 8,
   "metadata": {},
   "outputs": [
    {
     "name": "stdout",
     "output_type": "stream",
     "text": [
      "下载成功: Traffic.jpg\n",
      "下载成功: Public gardens and parks.jpg\n",
      "下载成功: Electronic devices_Technology.jpg\n",
      "下载成功: Young people.jpg\n",
      "下载成功: Quiet_noisy places.jpg\n",
      "下载成功: App.jpg\n",
      "下载成功: Housework and cooking.jpg\n",
      "下载成功: Party.jpg\n",
      "下载成功: Gifts.jpg\n",
      "下载成功: Hats_caps.jpg\n",
      "下载成功: Borrowing_lending.jpg\n",
      "下载成功: Stories.jpg\n",
      "下载成功: Colours.jpg\n",
      "下载成功: 朋友做过的趣事.jpg\n",
      "下载成功: 交通工具抛锚.jpg\n",
      "下载成功: 外国食物.jpg\n",
      "下载成功: 陌生人的电话.jpg\n",
      "下载成功: 想去的多树之地.jpg\n",
      "下载成功: 不用工作或学习的一天.jpg\n",
      "下载成功: 仰慕的运动员_体育队.jpg\n",
      "下载成功: 现场表演.jpg\n",
      "下载成功: 想做部分修改的新法律.jpg\n",
      "下载成功: 环保人士.jpg\n",
      "下载成功: 智力游戏.jpg\n",
      "下载成功: 最喜欢的运动.jpg\n",
      "下载成功: 和你分享东西的人.jpg\n",
      "下载成功: 喜欢的电视剧.jpg\n",
      "下载成功: 家庭重要设备.jpg\n",
      "下载成功: 有趣的建筑.jpg\n",
      "下载成功: 近期改变的计划.jpg\n",
      "下载成功: 许下的承诺.jpg\n",
      "下载成功: 诗句或歌词.jpg\n",
      "下载成功: 重要决定.jpg\n",
      "下载成功: 学校_工作中的重要规则.jpg\n",
      "下载成功: 想去的外国.jpg\n",
      "下载成功: 感兴趣的科学学科_领域.jpg\n",
      "下载成功: 祖辈工作.jpg\n",
      "下载成功: 近期日常改变.jpg\n",
      "下载成功: 精力充沛的人.jpg\n"
     ]
    }
   ],
   "source": [
    "# 下载图片\n",
    "download_images(\"p1List\", data[\"content\"].get(\"p1List\", []))\n",
    "download_images(\"p23List\", data[\"content\"].get(\"p23List\", []))"
   ]
  }
 ],
 "metadata": {
  "kernelspec": {
   "display_name": "IELTS",
   "language": "python",
   "name": "python3"
  },
  "language_info": {
   "codemirror_mode": {
    "name": "ipython",
    "version": 3
   },
   "file_extension": ".py",
   "mimetype": "text/x-python",
   "name": "python",
   "nbconvert_exporter": "python",
   "pygments_lexer": "ipython3",
   "version": "3.10.16"
  }
 },
 "nbformat": 4,
 "nbformat_minor": 2
}
