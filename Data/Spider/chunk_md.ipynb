{
 "cells": [
  {
   "cell_type": "code",
   "execution_count": 1,
   "metadata": {},
   "outputs": [],
   "source": [
    "import re"
   ]
  },
  {
   "cell_type": "code",
   "execution_count": 2,
   "metadata": {},
   "outputs": [],
   "source": [
    "def split_md_file(file_path):\n",
    "    # 读取文件内容\n",
    "    with open(file_path, 'r', encoding='utf-8') as f:\n",
    "        lines = f.readlines()\n",
    "    \n",
    "    # 初始化变量\n",
    "    sections = []\n",
    "    current_section = []\n",
    "    section_count = 0\n",
    "    \n",
    "    # 遍历每一行\n",
    "    for line in lines:\n",
    "        # 如果检测到中文\n",
    "        if re.search('[\\u4e00-\\u9fff]', line):\n",
    "            # 如果当前section不为空，保存它\n",
    "            if current_section:\n",
    "                sections.append(''.join(current_section))\n",
    "                section_count += 1\n",
    "                current_section = []\n",
    "        # 将当前行加入当前section\n",
    "        current_section.append(line)\n",
    "    \n",
    "    # 保存最后一个section\n",
    "    if current_section:\n",
    "        sections.append(''.join(current_section))\n",
    "        section_count += 1\n",
    "    \n",
    "    # 保存所有section到文件\n",
    "    for i, section in enumerate(sections):\n",
    "        filename = f'section_{i+1}.md'\n",
    "        with open(filename, 'w', encoding='utf-8') as f:\n",
    "            f.write(section)\n",
    "    \n",
    "    print(f'文件已成功分割为{section_count}个部分')"
   ]
  },
  {
   "cell_type": "code",
   "execution_count": 3,
   "metadata": {},
   "outputs": [
    {
     "name": "stdout",
     "output_type": "stream",
     "text": [
      "文件已成功分割为61个部分\n"
     ]
    }
   ],
   "source": [
    "split_md_file('ocr_res/2025年1-4月口语题库完整版/auto/2025年1-4月口语题库完整版.md')"
   ]
  },
  {
   "cell_type": "code",
   "execution_count": 4,
   "metadata": {},
   "outputs": [],
   "source": [
    "import os"
   ]
  },
  {
   "cell_type": "code",
   "execution_count": 7,
   "metadata": {},
   "outputs": [],
   "source": [
    "# 输入 Markdown 文件路径\n",
    "input_md = \"ocr_res/Part1/Part_1.md\"\n",
    "\n",
    "# 输出目录\n",
    "output_dir = \"ocr_res/Part1\"\n",
    "os.makedirs(output_dir, exist_ok=True)"
   ]
  },
  {
   "cell_type": "code",
   "execution_count": 8,
   "metadata": {},
   "outputs": [],
   "source": [
    "# 读取 Markdown 内容\n",
    "with open(input_md, \"r\", encoding=\"utf-8\") as f:\n",
    "    content = f.read()\n",
    "\n",
    "# 按 `# 标题` 分割\n",
    "sections = re.split(r\"(# .+)\", content)\n",
    "\n",
    "# 存储当前 Markdown 片段\n",
    "current_title = None\n",
    "current_content = \"\"\n"
   ]
  },
  {
   "cell_type": "code",
   "execution_count": 9,
   "metadata": {},
   "outputs": [
    {
     "name": "stdout",
     "output_type": "stream",
     "text": [
      "✅ 生成文件: Data/Spider/ocr_res/Part1/Study.md\n",
      "✅ 生成文件: Data/Spider/ocr_res/Part1/Work.md\n",
      "✅ 生成文件: Data/Spider/ocr_res/Part1/Accommodation.md\n",
      "✅ 生成文件: Data/Spider/ocr_res/Part1/Area you live in.md\n",
      "✅ 生成文件: Data/Spider/ocr_res/Part1/Hometown.md\n",
      "✅ 生成文件: Data/Spider/ocr_res/Part1/Colors.md\n",
      "✅ 生成文件: Data/Spider/ocr_res/Part1/Stories.md\n",
      "✅ 生成文件: Data/Spider/ocr_res/Part1/Borrowing and lending.md\n",
      "✅ 生成文件: Data/Spider/ocr_res/Part1/Hats_Caps.md\n",
      "✅ 生成文件: Data/Spider/ocr_res/Part1/Feeling bored.md\n",
      "✅ 生成文件: Data/Spider/ocr_res/Part1/Old buildings.md\n",
      "✅ 生成文件: Data/Spider/ocr_res/Part1/Art.md\n",
      "✅ 生成文件: Data/Spider/ocr_res/Part1/Sports.md\n",
      "✅ 生成文件: Data/Spider/ocr_res/Part1/Mirrors.md\n",
      "✅ 生成文件: Data/Spider/ocr_res/Part1/Friends.md\n",
      "✅ 生成文件: Data/Spider/ocr_res/Part1/Advertisements.md\n",
      "✅ 生成文件: Data/Spider/ocr_res/Part1/Swimming.md\n",
      "✅ 生成文件: Data/Spider/ocr_res/Part1/Reading.md\n",
      "✅ 生成文件: Data/Spider/ocr_res/Part1/Evening time.md\n",
      "✅ 生成文件: Data/Spider/ocr_res/Part1/Sitting down.md\n",
      "✅ 生成文件: Data/Spider/ocr_res/Part1/Computers.md\n",
      "✅ 生成文件: Data/Spider/ocr_res/Part1/Talents.md\n",
      "✅ 生成文件: Data/Spider/ocr_res/Part1/Collecting things.md\n",
      "✅ 生成文件: Data/Spider/ocr_res/Part1/Watches.md\n",
      "✅ 生成文件: Data/Spider/ocr_res/Part1/Cars.md\n",
      "✅ 生成文件: Data/Spider/ocr_res/Part1/Lost and found.md\n",
      "✅ 生成文件: Data/Spider/ocr_res/Part1/Websites.md\n",
      "✅ 生成文件: Data/Spider/ocr_res/Part1/Street markets.md\n",
      "✅ 生成文件: Data/Spider/ocr_res/Part1/Time management.md\n",
      "✅ 生成文件: Data/Spider/ocr_res/Part1/Dreams.md\n"
     ]
    }
   ],
   "source": [
    "for section in sections:\n",
    "    if section.startswith(\"# \"):  \n",
    "        # 如果已有内容，先保存上一部分\n",
    "        if current_title and current_content.strip():\n",
    "            safe_title = re.sub(r'[<>:\"/\\\\|?*]', '_', current_title).strip()\n",
    "            file_path = os.path.join(output_dir, f\"{safe_title}.md\")\n",
    "\n",
    "            # 防止重名，自动加编号\n",
    "            count = 1\n",
    "            while os.path.exists(file_path):\n",
    "                file_path = os.path.join(output_dir, f\"{safe_title}_{count}.md\")\n",
    "                count += 1\n",
    "\n",
    "            with open(file_path, \"w\", encoding=\"utf-8\") as f:\n",
    "                f.write(current_content.strip())\n",
    "            print(f\"✅ 生成文件: {file_path}\")\n",
    "\n",
    "        # 更新标题\n",
    "        current_title = section[2:].strip()  # 去掉 `# ` 空格\n",
    "        current_content = section + \"\\n\"  # 添加标题\n",
    "\n",
    "    else:\n",
    "        current_content += section + \"\\n\""
   ]
  },
  {
   "cell_type": "code",
   "execution_count": 10,
   "metadata": {},
   "outputs": [
    {
     "name": "stdout",
     "output_type": "stream",
     "text": [
      "✅ 生成文件: Data/Spider/ocr_res/Part1/Emails.md\n"
     ]
    }
   ],
   "source": [
    "# 处理最后一个片段\n",
    "if current_title and current_content.strip():\n",
    "    safe_title = re.sub(r'[<>:\"/\\\\|?*]', '_', current_title).strip()\n",
    "    file_path = os.path.join(output_dir, f\"{safe_title}.md\")\n",
    "\n",
    "    count = 1\n",
    "    while os.path.exists(file_path):\n",
    "        file_path = os.path.join(output_dir, f\"{safe_title}_{count}.md\")\n",
    "        count += 1\n",
    "\n",
    "    with open(file_path, \"w\", encoding=\"utf-8\") as f:\n",
    "        f.write(current_content.strip())\n",
    "    print(f\"✅ 生成文件: {file_path}\")"
   ]
  }
 ],
 "metadata": {
  "kernelspec": {
   "display_name": "IELTS",
   "language": "python",
   "name": "python3"
  },
  "language_info": {
   "codemirror_mode": {
    "name": "ipython",
    "version": 3
   },
   "file_extension": ".py",
   "mimetype": "text/x-python",
   "name": "python",
   "nbconvert_exporter": "python",
   "pygments_lexer": "ipython3",
   "version": "3.10.16"
  }
 },
 "nbformat": 4,
 "nbformat_minor": 2
}
