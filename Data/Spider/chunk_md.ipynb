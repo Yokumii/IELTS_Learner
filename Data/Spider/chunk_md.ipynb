{
 "cells": [
  {
   "cell_type": "code",
   "execution_count": 1,
   "metadata": {},
   "outputs": [],
   "source": [
    "import re"
   ]
  },
  {
   "cell_type": "code",
   "execution_count": 2,
   "metadata": {},
   "outputs": [],
   "source": [
    "def split_md_file(file_path):\n",
    "    # 读取文件内容\n",
    "    with open(file_path, 'r', encoding='utf-8') as f:\n",
    "        lines = f.readlines()\n",
    "    \n",
    "    # 初始化变量\n",
    "    sections = []\n",
    "    current_section = []\n",
    "    section_count = 0\n",
    "    \n",
    "    # 遍历每一行\n",
    "    for line in lines:\n",
    "        # 如果检测到中文\n",
    "        if re.search('[\\u4e00-\\u9fff]', line):\n",
    "            # 如果当前section不为空，保存它\n",
    "            if current_section:\n",
    "                sections.append(''.join(current_section))\n",
    "                section_count += 1\n",
    "                current_section = []\n",
    "        # 将当前行加入当前section\n",
    "        current_section.append(line)\n",
    "    \n",
    "    # 保存最后一个section\n",
    "    if current_section:\n",
    "        sections.append(''.join(current_section))\n",
    "        section_count += 1\n",
    "    \n",
    "    # 保存所有section到文件\n",
    "    for i, section in enumerate(sections):\n",
    "        filename = f'section_{i+1}.md'\n",
    "        with open(filename, 'w', encoding='utf-8') as f:\n",
    "            f.write(section)\n",
    "    \n",
    "    print(f'文件已成功分割为{section_count}个部分')"
   ]
  },
  {
   "cell_type": "code",
   "execution_count": 3,
   "metadata": {},
   "outputs": [
    {
     "name": "stdout",
     "output_type": "stream",
     "text": [
      "文件已成功分割为61个部分\n"
     ]
    }
   ],
   "source": [
    "split_md_file('ocr_res/2025年1-4月口语题库完整版/auto/2025年1-4月口语题库完整版.md')"
   ]
  }
 ],
 "metadata": {
  "kernelspec": {
   "display_name": "IELTS",
   "language": "python",
   "name": "python3"
  },
  "language_info": {
   "codemirror_mode": {
    "name": "ipython",
    "version": 3
   },
   "file_extension": ".py",
   "mimetype": "text/x-python",
   "name": "python",
   "nbconvert_exporter": "python",
   "pygments_lexer": "ipython3",
   "version": "3.10.16"
  }
 },
 "nbformat": 4,
 "nbformat_minor": 2
}
