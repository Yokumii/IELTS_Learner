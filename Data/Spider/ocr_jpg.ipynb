{
 "cells": [
  {
   "cell_type": "markdown",
   "metadata": {},
   "source": [
    "```bash\n",
    "conda activate MinerU\n",
    "```\n",
    "关于MinerU模型的本地部署可见[官方文档](https://mineru.readthedocs.io/en/latest/index.html)"
   ]
  },
  {
   "cell_type": "code",
   "execution_count": 1,
   "metadata": {},
   "outputs": [],
   "source": [
    "import os\n",
    "import subprocess"
   ]
  },
  {
   "cell_type": "code",
   "execution_count": 2,
   "metadata": {},
   "outputs": [],
   "source": [
    "base_dirs = [\"downloaded_images/p1List\", \"downloaded_images/p23List\"]"
   ]
  },
  {
   "cell_type": "code",
   "execution_count": 3,
   "metadata": {},
   "outputs": [],
   "source": [
    "# 处理文件的函数\n",
    "def process_images(input_dir, output_dir = \"ocr_res\"):\n",
    "    os.makedirs(output_dir, exist_ok=True)\n",
    "\n",
    "    # 遍历文件夹中的所有图片\n",
    "    for file_name in os.listdir(input_dir):\n",
    "        file_path = os.path.join(input_dir, file_name)\n",
    "\n",
    "        # 只处理常见图片格式\n",
    "        if not file_name.lower().endswith((\".png\", \".jpg\", \".jpeg\")):\n",
    "            continue\n",
    "\n",
    "        # 输出文件路径\n",
    "        output_file_path = os.path.join(output_dir, file_name)\n",
    "\n",
    "        # 如果输出文件已存在，跳过处理\n",
    "        if os.path.exists(output_file_path):\n",
    "            print(f\"文件已处理，跳过: {file_name}\")\n",
    "            continue\n",
    "\n",
    "        # 运行 magic-pdf 处理图片\n",
    "        subprocess.run([\"magic-pdf\", \"-p\", file_path, \"-o\", output_dir, \"-m\", \"auto\"], check=True)\n",
    "        print(f\"已处理: {file_name}\")"
   ]
  },
  {
   "cell_type": "code",
   "execution_count": 4,
   "metadata": {},
   "outputs": [
    {
     "name": "stderr",
     "output_type": "stream",
     "text": [
      "/opt/homebrew/anaconda3/envs/MinerU/lib/python3.10/site-packages/paddle/utils/cpp_extension/extension_utils.py:711: UserWarning: No ccache found. Please be aware that recompiling all source files may be required. You can download and install ccache from: https://github.com/ccache/ccache/blob/master/doc/INSTALL.md\n",
      "  warnings.warn(warning_message)\n"
     ]
    },
    {
     "name": "stdout",
     "output_type": "stream",
     "text": [
      "\u001b[93mimport tensorrt_llm failed, if do not use tensorrt, ignore this message\u001b[0m\n",
      "\u001b[93mimport lmdeploy failed, if do not use lmdeploy, ignore this message\u001b[0m\n"
     ]
    },
    {
     "name": "stderr",
     "output_type": "stream",
     "text": [
      "2025-03-10 11:54:00.935 | INFO     | magic_pdf.data.dataset:__init__:156 - lang: None\n",
      "2025-03-10 11:54:00.993 | INFO     | magic_pdf.libs.pdf_check:detect_invalid_chars:67 - cid_count: 0, text_len: 1, cid_chars_radio: 0.0\n",
      "2025-03-10 11:54:00.993 | WARNING  | magic_pdf.filter.pdf_classify_by_type:classify:335 - OCR needed based on classification result, by_image_area: False, by_text: False, by_avg_words: False, by_img_num: True, by_img_narrow_strips: True, by_invalid_chars: True\n",
      "2025-03-10 11:54:00.994 | INFO     | magic_pdf.model.pdf_extract_kit:__init__:78 - DocAnalysis init, this may take some times, layout_model: doclayout_yolo, apply_formula: True, apply_ocr: True, apply_table: True, table_model: rapid_table, lang: None\n",
      "2025-03-10 11:54:00.994 | INFO     | magic_pdf.model.pdf_extract_kit:__init__:92 - using device: mps\n",
      "2025-03-10 11:54:00.994 | INFO     | magic_pdf.model.pdf_extract_kit:__init__:96 - using models_dir: /Users/yokumi/Documents/MinerU/models--opendatalab--PDF-Extract-Kit-1.0/snapshots/60416a2cabad3f7b7284b43ce37a99864484fba2/models\n"
     ]
    },
    {
     "name": "stdout",
     "output_type": "stream",
     "text": [
      "CustomVisionEncoderDecoderModel init\n",
      "VariableUnimerNetModel init\n",
      "VariableUnimerNetPatchEmbeddings init\n",
      "VariableUnimerNetModel init\n",
      "VariableUnimerNetPatchEmbeddings init\n",
      "CustomMBartForCausalLM init\n",
      "CustomMBartDecoder init\n"
     ]
    },
    {
     "name": "stderr",
     "output_type": "stream",
     "text": [
      "2025-03-10 11:54:09,270 - DownloadModel - DEBUG: /opt/homebrew/anaconda3/envs/MinerU/lib/python3.10/site-packages/rapid_table/models/slanet-plus.onnx already exists\n",
      "[2025-03-10 11:54:09,270] [   DEBUG] download_model.py:34 - /opt/homebrew/anaconda3/envs/MinerU/lib/python3.10/site-packages/rapid_table/models/slanet-plus.onnx already exists\n",
      "2025-03-10 11:54:09.481 | INFO     | magic_pdf.model.pdf_extract_kit:__init__:174 - DocAnalysis init done!\n",
      "2025-03-10 11:54:09.481 | INFO     | magic_pdf.model.doc_analyze_by_custom_model:custom_model_init:128 - model init cost: 8.488608598709106\n",
      "2025-03-10 11:54:11.253 | INFO     | magic_pdf.model.pdf_extract_kit:__call__:210 - layout detection time: 1.71\n",
      "2025-03-10 11:54:12.964 | INFO     | magic_pdf.model.pdf_extract_kit:__call__:216 - mfd time: 1.71\n",
      "2025-03-10 11:54:12.966 | INFO     | magic_pdf.model.pdf_extract_kit:__call__:223 - formula nums: 0, mfr time: 0.0\n",
      "2025-03-10 11:54:14.541 | INFO     | magic_pdf.model.pdf_extract_kit:__call__:255 - ocr time: 1.57\n",
      "2025-03-10 11:54:14.541 | INFO     | magic_pdf.model.pdf_extract_kit:__call__:297 - table time: 0.0\n",
      "2025-03-10 11:54:14.541 | INFO     | magic_pdf.model.doc_analyze_by_custom_model:doc_analyze:224 - -----page_id : 0, page total time: 5.01-----\n",
      "2025-03-10 11:54:14.697 | INFO     | magic_pdf.model.doc_analyze_by_custom_model:doc_analyze:235 - gc time: 0.16\n",
      "2025-03-10 11:54:14.697 | INFO     | magic_pdf.model.doc_analyze_by_custom_model:doc_analyze:239 - doc analyze time: 5.22, speed: 0.19 pages/second\n",
      "2025-03-10 11:54:14.710 | INFO     | magic_pdf.pdf_parse_union_core_v2:pdf_parse_union:946 - page_id: 0, last_page_cost_time: 0.0\n",
      "2025-03-10 11:54:14.793 | WARNING  | magic_pdf.libs.config_reader:get_local_layoutreader_model_dir:74 - 'layoutreader-model-dir' not exists, use /Users/yokumi/.cache/modelscope/hub/ppaanngggg/layoutreader as default\n",
      "2025-03-10 11:54:14.793 | WARNING  | magic_pdf.pdf_parse_union_core_v2:model_init:354 - local layoutreader model not exists, use online model from huggingface\n",
      "2025-03-10 11:54:17.698 | INFO     | magic_pdf.tools.common:do_parse:242 - local output dir is ocr_res/Electronic devices_Technology/auto\n"
     ]
    },
    {
     "name": "stdout",
     "output_type": "stream",
     "text": [
      "已处理: Electronic devices_Technology.jpg\n"
     ]
    },
    {
     "name": "stderr",
     "output_type": "stream",
     "text": [
      "/opt/homebrew/anaconda3/envs/MinerU/lib/python3.10/site-packages/paddle/utils/cpp_extension/extension_utils.py:711: UserWarning: No ccache found. Please be aware that recompiling all source files may be required. You can download and install ccache from: https://github.com/ccache/ccache/blob/master/doc/INSTALL.md\n",
      "  warnings.warn(warning_message)\n"
     ]
    },
    {
     "name": "stdout",
     "output_type": "stream",
     "text": [
      "\u001b[93mimport tensorrt_llm failed, if do not use tensorrt, ignore this message\u001b[0m\n",
      "\u001b[93mimport lmdeploy failed, if do not use lmdeploy, ignore this message\u001b[0m\n"
     ]
    },
    {
     "name": "stderr",
     "output_type": "stream",
     "text": [
      "2025-03-10 11:54:22.849 | INFO     | magic_pdf.data.dataset:__init__:156 - lang: None\n",
      "2025-03-10 11:54:22.904 | INFO     | magic_pdf.libs.pdf_check:detect_invalid_chars:67 - cid_count: 0, text_len: 1, cid_chars_radio: 0.0\n",
      "2025-03-10 11:54:22.905 | WARNING  | magic_pdf.filter.pdf_classify_by_type:classify:335 - OCR needed based on classification result, by_image_area: False, by_text: False, by_avg_words: False, by_img_num: True, by_img_narrow_strips: True, by_invalid_chars: True\n",
      "2025-03-10 11:54:22.906 | INFO     | magic_pdf.model.pdf_extract_kit:__init__:78 - DocAnalysis init, this may take some times, layout_model: doclayout_yolo, apply_formula: True, apply_ocr: True, apply_table: True, table_model: rapid_table, lang: None\n",
      "2025-03-10 11:54:22.906 | INFO     | magic_pdf.model.pdf_extract_kit:__init__:92 - using device: mps\n",
      "2025-03-10 11:54:22.906 | INFO     | magic_pdf.model.pdf_extract_kit:__init__:96 - using models_dir: /Users/yokumi/Documents/MinerU/models--opendatalab--PDF-Extract-Kit-1.0/snapshots/60416a2cabad3f7b7284b43ce37a99864484fba2/models\n"
     ]
    },
    {
     "name": "stdout",
     "output_type": "stream",
     "text": [
      "CustomVisionEncoderDecoderModel init\n",
      "VariableUnimerNetModel init\n",
      "VariableUnimerNetPatchEmbeddings init\n",
      "VariableUnimerNetModel init\n",
      "VariableUnimerNetPatchEmbeddings init\n",
      "CustomMBartForCausalLM init\n",
      "CustomMBartDecoder init\n"
     ]
    },
    {
     "name": "stderr",
     "output_type": "stream",
     "text": [
      "2025-03-10 11:54:31,136 - DownloadModel - DEBUG: /opt/homebrew/anaconda3/envs/MinerU/lib/python3.10/site-packages/rapid_table/models/slanet-plus.onnx already exists\n",
      "[2025-03-10 11:54:31,136] [   DEBUG] download_model.py:34 - /opt/homebrew/anaconda3/envs/MinerU/lib/python3.10/site-packages/rapid_table/models/slanet-plus.onnx already exists\n",
      "2025-03-10 11:54:31.343 | INFO     | magic_pdf.model.pdf_extract_kit:__init__:174 - DocAnalysis init done!\n",
      "2025-03-10 11:54:31.343 | INFO     | magic_pdf.model.doc_analyze_by_custom_model:custom_model_init:128 - model init cost: 8.438147068023682\n",
      "2025-03-10 11:54:32.807 | INFO     | magic_pdf.model.pdf_extract_kit:__call__:210 - layout detection time: 1.42\n",
      "2025-03-10 11:54:34.390 | INFO     | magic_pdf.model.pdf_extract_kit:__call__:216 - mfd time: 1.58\n",
      "2025-03-10 11:54:34.390 | INFO     | magic_pdf.model.pdf_extract_kit:__call__:223 - formula nums: 0, mfr time: 0.0\n",
      "2025-03-10 11:54:35.774 | INFO     | magic_pdf.model.pdf_extract_kit:__call__:255 - ocr time: 1.38\n",
      "2025-03-10 11:54:35.774 | INFO     | magic_pdf.model.pdf_extract_kit:__call__:297 - table time: 0.0\n",
      "2025-03-10 11:54:35.775 | INFO     | magic_pdf.model.doc_analyze_by_custom_model:doc_analyze:224 - -----page_id : 0, page total time: 4.39-----\n",
      "2025-03-10 11:54:35.912 | INFO     | magic_pdf.model.doc_analyze_by_custom_model:doc_analyze:235 - gc time: 0.14\n",
      "2025-03-10 11:54:35.912 | INFO     | magic_pdf.model.doc_analyze_by_custom_model:doc_analyze:239 - doc analyze time: 4.57, speed: 0.22 pages/second\n",
      "2025-03-10 11:54:35.926 | INFO     | magic_pdf.pdf_parse_union_core_v2:pdf_parse_union:946 - page_id: 0, last_page_cost_time: 0.0\n",
      "2025-03-10 11:54:36.062 | WARNING  | magic_pdf.libs.config_reader:get_local_layoutreader_model_dir:74 - 'layoutreader-model-dir' not exists, use /Users/yokumi/.cache/modelscope/hub/ppaanngggg/layoutreader as default\n",
      "2025-03-10 11:54:36.062 | WARNING  | magic_pdf.pdf_parse_union_core_v2:model_init:354 - local layoutreader model not exists, use online model from huggingface\n",
      "2025-03-10 11:54:38.708 | INFO     | magic_pdf.tools.common:do_parse:242 - local output dir is ocr_res/App/auto\n"
     ]
    },
    {
     "name": "stdout",
     "output_type": "stream",
     "text": [
      "已处理: App.jpg\n"
     ]
    },
    {
     "name": "stderr",
     "output_type": "stream",
     "text": [
      "/opt/homebrew/anaconda3/envs/MinerU/lib/python3.10/site-packages/paddle/utils/cpp_extension/extension_utils.py:711: UserWarning: No ccache found. Please be aware that recompiling all source files may be required. You can download and install ccache from: https://github.com/ccache/ccache/blob/master/doc/INSTALL.md\n",
      "  warnings.warn(warning_message)\n"
     ]
    },
    {
     "name": "stdout",
     "output_type": "stream",
     "text": [
      "\u001b[93mimport tensorrt_llm failed, if do not use tensorrt, ignore this message\u001b[0m\n",
      "\u001b[93mimport lmdeploy failed, if do not use lmdeploy, ignore this message\u001b[0m\n"
     ]
    },
    {
     "name": "stderr",
     "output_type": "stream",
     "text": [
      "2025-03-10 11:54:43.777 | INFO     | magic_pdf.data.dataset:__init__:156 - lang: None\n",
      "2025-03-10 11:54:43.838 | INFO     | magic_pdf.libs.pdf_check:detect_invalid_chars:67 - cid_count: 0, text_len: 1, cid_chars_radio: 0.0\n",
      "2025-03-10 11:54:43.838 | WARNING  | magic_pdf.filter.pdf_classify_by_type:classify:335 - OCR needed based on classification result, by_image_area: False, by_text: False, by_avg_words: False, by_img_num: True, by_img_narrow_strips: True, by_invalid_chars: True\n",
      "2025-03-10 11:54:43.839 | INFO     | magic_pdf.model.pdf_extract_kit:__init__:78 - DocAnalysis init, this may take some times, layout_model: doclayout_yolo, apply_formula: True, apply_ocr: True, apply_table: True, table_model: rapid_table, lang: None\n",
      "2025-03-10 11:54:43.839 | INFO     | magic_pdf.model.pdf_extract_kit:__init__:92 - using device: mps\n",
      "2025-03-10 11:54:43.839 | INFO     | magic_pdf.model.pdf_extract_kit:__init__:96 - using models_dir: /Users/yokumi/Documents/MinerU/models--opendatalab--PDF-Extract-Kit-1.0/snapshots/60416a2cabad3f7b7284b43ce37a99864484fba2/models\n"
     ]
    },
    {
     "name": "stdout",
     "output_type": "stream",
     "text": [
      "CustomVisionEncoderDecoderModel init\n",
      "VariableUnimerNetModel init\n",
      "VariableUnimerNetPatchEmbeddings init\n",
      "VariableUnimerNetModel init\n",
      "VariableUnimerNetPatchEmbeddings init\n",
      "CustomMBartForCausalLM init\n",
      "CustomMBartDecoder init\n"
     ]
    },
    {
     "name": "stderr",
     "output_type": "stream",
     "text": [
      "2025-03-10 11:54:52,055 - DownloadModel - DEBUG: /opt/homebrew/anaconda3/envs/MinerU/lib/python3.10/site-packages/rapid_table/models/slanet-plus.onnx already exists\n",
      "[2025-03-10 11:54:52,055] [   DEBUG] download_model.py:34 - /opt/homebrew/anaconda3/envs/MinerU/lib/python3.10/site-packages/rapid_table/models/slanet-plus.onnx already exists\n",
      "2025-03-10 11:54:52.288 | INFO     | magic_pdf.model.pdf_extract_kit:__init__:174 - DocAnalysis init done!\n",
      "2025-03-10 11:54:52.288 | INFO     | magic_pdf.model.doc_analyze_by_custom_model:custom_model_init:128 - model init cost: 8.450031042098999\n",
      "2025-03-10 11:54:53.650 | INFO     | magic_pdf.model.pdf_extract_kit:__call__:210 - layout detection time: 1.31\n",
      "2025-03-10 11:54:55.211 | INFO     | magic_pdf.model.pdf_extract_kit:__call__:216 - mfd time: 1.56\n",
      "2025-03-10 11:54:55.211 | INFO     | magic_pdf.model.pdf_extract_kit:__call__:223 - formula nums: 0, mfr time: 0.0\n",
      "2025-03-10 11:54:56.554 | INFO     | magic_pdf.model.pdf_extract_kit:__call__:255 - ocr time: 1.34\n",
      "2025-03-10 11:54:56.554 | INFO     | magic_pdf.model.pdf_extract_kit:__call__:297 - table time: 0.0\n",
      "2025-03-10 11:54:56.554 | INFO     | magic_pdf.model.doc_analyze_by_custom_model:doc_analyze:224 - -----page_id : 0, page total time: 4.23-----\n",
      "2025-03-10 11:54:56.679 | INFO     | magic_pdf.model.doc_analyze_by_custom_model:doc_analyze:235 - gc time: 0.12\n",
      "2025-03-10 11:54:56.679 | INFO     | magic_pdf.model.doc_analyze_by_custom_model:doc_analyze:239 - doc analyze time: 4.39, speed: 0.23 pages/second\n",
      "2025-03-10 11:54:56.691 | INFO     | magic_pdf.pdf_parse_union_core_v2:pdf_parse_union:946 - page_id: 0, last_page_cost_time: 0.0\n",
      "2025-03-10 11:54:56.779 | WARNING  | magic_pdf.libs.config_reader:get_local_layoutreader_model_dir:74 - 'layoutreader-model-dir' not exists, use /Users/yokumi/.cache/modelscope/hub/ppaanngggg/layoutreader as default\n",
      "2025-03-10 11:54:56.779 | WARNING  | magic_pdf.pdf_parse_union_core_v2:model_init:354 - local layoutreader model not exists, use online model from huggingface\n",
      "2025-03-10 11:54:59.386 | INFO     | magic_pdf.tools.common:do_parse:242 - local output dir is ocr_res/Gifts/auto\n"
     ]
    },
    {
     "name": "stdout",
     "output_type": "stream",
     "text": [
      "已处理: Gifts.jpg\n"
     ]
    },
    {
     "name": "stderr",
     "output_type": "stream",
     "text": [
      "/opt/homebrew/anaconda3/envs/MinerU/lib/python3.10/site-packages/paddle/utils/cpp_extension/extension_utils.py:711: UserWarning: No ccache found. Please be aware that recompiling all source files may be required. You can download and install ccache from: https://github.com/ccache/ccache/blob/master/doc/INSTALL.md\n",
      "  warnings.warn(warning_message)\n"
     ]
    },
    {
     "name": "stdout",
     "output_type": "stream",
     "text": [
      "\u001b[93mimport tensorrt_llm failed, if do not use tensorrt, ignore this message\u001b[0m\n",
      "\u001b[93mimport lmdeploy failed, if do not use lmdeploy, ignore this message\u001b[0m\n"
     ]
    },
    {
     "name": "stderr",
     "output_type": "stream",
     "text": [
      "2025-03-10 11:55:04.226 | INFO     | magic_pdf.data.dataset:__init__:156 - lang: None\n",
      "2025-03-10 11:55:04.282 | INFO     | magic_pdf.libs.pdf_check:detect_invalid_chars:67 - cid_count: 0, text_len: 1, cid_chars_radio: 0.0\n",
      "2025-03-10 11:55:04.282 | WARNING  | magic_pdf.filter.pdf_classify_by_type:classify:335 - OCR needed based on classification result, by_image_area: False, by_text: False, by_avg_words: False, by_img_num: True, by_img_narrow_strips: True, by_invalid_chars: True\n",
      "2025-03-10 11:55:04.283 | INFO     | magic_pdf.model.pdf_extract_kit:__init__:78 - DocAnalysis init, this may take some times, layout_model: doclayout_yolo, apply_formula: True, apply_ocr: True, apply_table: True, table_model: rapid_table, lang: None\n",
      "2025-03-10 11:55:04.283 | INFO     | magic_pdf.model.pdf_extract_kit:__init__:92 - using device: mps\n",
      "2025-03-10 11:55:04.283 | INFO     | magic_pdf.model.pdf_extract_kit:__init__:96 - using models_dir: /Users/yokumi/Documents/MinerU/models--opendatalab--PDF-Extract-Kit-1.0/snapshots/60416a2cabad3f7b7284b43ce37a99864484fba2/models\n"
     ]
    },
    {
     "name": "stdout",
     "output_type": "stream",
     "text": [
      "CustomVisionEncoderDecoderModel init\n",
      "VariableUnimerNetModel init\n",
      "VariableUnimerNetPatchEmbeddings init\n",
      "VariableUnimerNetModel init\n",
      "VariableUnimerNetPatchEmbeddings init\n",
      "CustomMBartForCausalLM init\n",
      "CustomMBartDecoder init\n"
     ]
    },
    {
     "name": "stderr",
     "output_type": "stream",
     "text": [
      "2025-03-10 11:55:12,525 - DownloadModel - DEBUG: /opt/homebrew/anaconda3/envs/MinerU/lib/python3.10/site-packages/rapid_table/models/slanet-plus.onnx already exists\n",
      "[2025-03-10 11:55:12,525] [   DEBUG] download_model.py:34 - /opt/homebrew/anaconda3/envs/MinerU/lib/python3.10/site-packages/rapid_table/models/slanet-plus.onnx already exists\n",
      "2025-03-10 11:55:12.730 | INFO     | magic_pdf.model.pdf_extract_kit:__init__:174 - DocAnalysis init done!\n",
      "2025-03-10 11:55:12.730 | INFO     | magic_pdf.model.doc_analyze_by_custom_model:custom_model_init:128 - model init cost: 8.448486804962158\n",
      "2025-03-10 11:55:14.103 | INFO     | magic_pdf.model.pdf_extract_kit:__call__:210 - layout detection time: 1.32\n",
      "2025-03-10 11:55:15.678 | INFO     | magic_pdf.model.pdf_extract_kit:__call__:216 - mfd time: 1.58\n",
      "2025-03-10 11:55:15.678 | INFO     | magic_pdf.model.pdf_extract_kit:__call__:223 - formula nums: 0, mfr time: 0.0\n",
      "2025-03-10 11:55:17.086 | INFO     | magic_pdf.model.pdf_extract_kit:__call__:255 - ocr time: 1.41\n",
      "2025-03-10 11:55:17.086 | INFO     | magic_pdf.model.pdf_extract_kit:__call__:297 - table time: 0.0\n",
      "2025-03-10 11:55:17.087 | INFO     | magic_pdf.model.doc_analyze_by_custom_model:doc_analyze:224 - -----page_id : 0, page total time: 4.31-----\n",
      "2025-03-10 11:55:17.220 | INFO     | magic_pdf.model.doc_analyze_by_custom_model:doc_analyze:235 - gc time: 0.13\n",
      "2025-03-10 11:55:17.220 | INFO     | magic_pdf.model.doc_analyze_by_custom_model:doc_analyze:239 - doc analyze time: 4.49, speed: 0.22 pages/second\n",
      "2025-03-10 11:55:17.233 | INFO     | magic_pdf.pdf_parse_union_core_v2:pdf_parse_union:946 - page_id: 0, last_page_cost_time: 0.0\n",
      "2025-03-10 11:55:17.364 | WARNING  | magic_pdf.libs.config_reader:get_local_layoutreader_model_dir:74 - 'layoutreader-model-dir' not exists, use /Users/yokumi/.cache/modelscope/hub/ppaanngggg/layoutreader as default\n",
      "2025-03-10 11:55:17.364 | WARNING  | magic_pdf.pdf_parse_union_core_v2:model_init:354 - local layoutreader model not exists, use online model from huggingface\n",
      "2025-03-10 11:55:21.217 | INFO     | magic_pdf.tools.common:do_parse:242 - local output dir is ocr_res/Young people/auto\n"
     ]
    },
    {
     "name": "stdout",
     "output_type": "stream",
     "text": [
      "已处理: Young people.jpg\n"
     ]
    },
    {
     "name": "stderr",
     "output_type": "stream",
     "text": [
      "/opt/homebrew/anaconda3/envs/MinerU/lib/python3.10/site-packages/paddle/utils/cpp_extension/extension_utils.py:711: UserWarning: No ccache found. Please be aware that recompiling all source files may be required. You can download and install ccache from: https://github.com/ccache/ccache/blob/master/doc/INSTALL.md\n",
      "  warnings.warn(warning_message)\n"
     ]
    },
    {
     "name": "stdout",
     "output_type": "stream",
     "text": [
      "\u001b[93mimport tensorrt_llm failed, if do not use tensorrt, ignore this message\u001b[0m\n",
      "\u001b[93mimport lmdeploy failed, if do not use lmdeploy, ignore this message\u001b[0m\n"
     ]
    },
    {
     "name": "stderr",
     "output_type": "stream",
     "text": [
      "2025-03-10 11:55:26.262 | INFO     | magic_pdf.data.dataset:__init__:156 - lang: None\n",
      "2025-03-10 11:55:26.321 | INFO     | magic_pdf.libs.pdf_check:detect_invalid_chars:67 - cid_count: 0, text_len: 1, cid_chars_radio: 0.0\n",
      "2025-03-10 11:55:26.322 | WARNING  | magic_pdf.filter.pdf_classify_by_type:classify:335 - OCR needed based on classification result, by_image_area: False, by_text: False, by_avg_words: False, by_img_num: True, by_img_narrow_strips: True, by_invalid_chars: True\n",
      "2025-03-10 11:55:26.323 | INFO     | magic_pdf.model.pdf_extract_kit:__init__:78 - DocAnalysis init, this may take some times, layout_model: doclayout_yolo, apply_formula: True, apply_ocr: True, apply_table: True, table_model: rapid_table, lang: None\n",
      "2025-03-10 11:55:26.323 | INFO     | magic_pdf.model.pdf_extract_kit:__init__:92 - using device: mps\n",
      "2025-03-10 11:55:26.323 | INFO     | magic_pdf.model.pdf_extract_kit:__init__:96 - using models_dir: /Users/yokumi/Documents/MinerU/models--opendatalab--PDF-Extract-Kit-1.0/snapshots/60416a2cabad3f7b7284b43ce37a99864484fba2/models\n"
     ]
    },
    {
     "name": "stdout",
     "output_type": "stream",
     "text": [
      "CustomVisionEncoderDecoderModel init\n",
      "VariableUnimerNetModel init\n",
      "VariableUnimerNetPatchEmbeddings init\n",
      "VariableUnimerNetModel init\n",
      "VariableUnimerNetPatchEmbeddings init\n",
      "CustomMBartForCausalLM init\n",
      "CustomMBartDecoder init\n"
     ]
    },
    {
     "name": "stderr",
     "output_type": "stream",
     "text": [
      "2025-03-10 11:55:34,536 - DownloadModel - DEBUG: /opt/homebrew/anaconda3/envs/MinerU/lib/python3.10/site-packages/rapid_table/models/slanet-plus.onnx already exists\n",
      "[2025-03-10 11:55:34,536] [   DEBUG] download_model.py:34 - /opt/homebrew/anaconda3/envs/MinerU/lib/python3.10/site-packages/rapid_table/models/slanet-plus.onnx already exists\n",
      "2025-03-10 11:55:34.743 | INFO     | magic_pdf.model.pdf_extract_kit:__init__:174 - DocAnalysis init done!\n",
      "2025-03-10 11:55:34.743 | INFO     | magic_pdf.model.doc_analyze_by_custom_model:custom_model_init:128 - model init cost: 8.42174506187439\n",
      "2025-03-10 11:55:36.098 | INFO     | magic_pdf.model.pdf_extract_kit:__call__:210 - layout detection time: 1.31\n",
      "2025-03-10 11:55:37.641 | INFO     | magic_pdf.model.pdf_extract_kit:__call__:216 - mfd time: 1.54\n",
      "2025-03-10 11:55:37.642 | INFO     | magic_pdf.model.pdf_extract_kit:__call__:223 - formula nums: 0, mfr time: 0.0\n",
      "2025-03-10 11:55:39.154 | INFO     | magic_pdf.model.pdf_extract_kit:__call__:255 - ocr time: 1.51\n",
      "2025-03-10 11:55:39.154 | INFO     | magic_pdf.model.pdf_extract_kit:__call__:297 - table time: 0.0\n",
      "2025-03-10 11:55:39.154 | INFO     | magic_pdf.model.doc_analyze_by_custom_model:doc_analyze:224 - -----page_id : 0, page total time: 4.37-----\n",
      "2025-03-10 11:55:39.285 | INFO     | magic_pdf.model.doc_analyze_by_custom_model:doc_analyze:235 - gc time: 0.13\n",
      "2025-03-10 11:55:39.285 | INFO     | magic_pdf.model.doc_analyze_by_custom_model:doc_analyze:239 - doc analyze time: 4.54, speed: 0.22 pages/second\n",
      "2025-03-10 11:55:39.298 | INFO     | magic_pdf.pdf_parse_union_core_v2:pdf_parse_union:946 - page_id: 0, last_page_cost_time: 0.0\n",
      "2025-03-10 11:55:39.436 | WARNING  | magic_pdf.libs.config_reader:get_local_layoutreader_model_dir:74 - 'layoutreader-model-dir' not exists, use /Users/yokumi/.cache/modelscope/hub/ppaanngggg/layoutreader as default\n",
      "2025-03-10 11:55:39.436 | WARNING  | magic_pdf.pdf_parse_union_core_v2:model_init:354 - local layoutreader model not exists, use online model from huggingface\n",
      "2025-03-10 11:55:42.343 | INFO     | magic_pdf.tools.common:do_parse:242 - local output dir is ocr_res/Party/auto\n"
     ]
    },
    {
     "name": "stdout",
     "output_type": "stream",
     "text": [
      "已处理: Party.jpg\n"
     ]
    },
    {
     "name": "stderr",
     "output_type": "stream",
     "text": [
      "/opt/homebrew/anaconda3/envs/MinerU/lib/python3.10/site-packages/paddle/utils/cpp_extension/extension_utils.py:711: UserWarning: No ccache found. Please be aware that recompiling all source files may be required. You can download and install ccache from: https://github.com/ccache/ccache/blob/master/doc/INSTALL.md\n",
      "  warnings.warn(warning_message)\n"
     ]
    },
    {
     "name": "stdout",
     "output_type": "stream",
     "text": [
      "\u001b[93mimport tensorrt_llm failed, if do not use tensorrt, ignore this message\u001b[0m\n",
      "\u001b[93mimport lmdeploy failed, if do not use lmdeploy, ignore this message\u001b[0m\n"
     ]
    },
    {
     "name": "stderr",
     "output_type": "stream",
     "text": [
      "2025-03-10 11:55:47.686 | INFO     | magic_pdf.data.dataset:__init__:156 - lang: None\n",
      "2025-03-10 11:55:47.745 | INFO     | magic_pdf.libs.pdf_check:detect_invalid_chars:67 - cid_count: 0, text_len: 1, cid_chars_radio: 0.0\n",
      "2025-03-10 11:55:47.745 | WARNING  | magic_pdf.filter.pdf_classify_by_type:classify:335 - OCR needed based on classification result, by_image_area: False, by_text: False, by_avg_words: False, by_img_num: True, by_img_narrow_strips: True, by_invalid_chars: True\n",
      "2025-03-10 11:55:47.746 | INFO     | magic_pdf.model.pdf_extract_kit:__init__:78 - DocAnalysis init, this may take some times, layout_model: doclayout_yolo, apply_formula: True, apply_ocr: True, apply_table: True, table_model: rapid_table, lang: None\n",
      "2025-03-10 11:55:47.746 | INFO     | magic_pdf.model.pdf_extract_kit:__init__:92 - using device: mps\n",
      "2025-03-10 11:55:47.746 | INFO     | magic_pdf.model.pdf_extract_kit:__init__:96 - using models_dir: /Users/yokumi/Documents/MinerU/models--opendatalab--PDF-Extract-Kit-1.0/snapshots/60416a2cabad3f7b7284b43ce37a99864484fba2/models\n"
     ]
    },
    {
     "name": "stdout",
     "output_type": "stream",
     "text": [
      "CustomVisionEncoderDecoderModel init\n",
      "VariableUnimerNetModel init\n",
      "VariableUnimerNetPatchEmbeddings init\n",
      "VariableUnimerNetModel init\n",
      "VariableUnimerNetPatchEmbeddings init\n",
      "CustomMBartForCausalLM init\n",
      "CustomMBartDecoder init\n"
     ]
    },
    {
     "name": "stderr",
     "output_type": "stream",
     "text": [
      "2025-03-10 11:55:55,996 - DownloadModel - DEBUG: /opt/homebrew/anaconda3/envs/MinerU/lib/python3.10/site-packages/rapid_table/models/slanet-plus.onnx already exists\n",
      "[2025-03-10 11:55:55,996] [   DEBUG] download_model.py:34 - /opt/homebrew/anaconda3/envs/MinerU/lib/python3.10/site-packages/rapid_table/models/slanet-plus.onnx already exists\n",
      "2025-03-10 11:55:56.201 | INFO     | magic_pdf.model.pdf_extract_kit:__init__:174 - DocAnalysis init done!\n",
      "2025-03-10 11:55:56.201 | INFO     | magic_pdf.model.doc_analyze_by_custom_model:custom_model_init:128 - model init cost: 8.45509123802185\n",
      "2025-03-10 11:55:57.581 | INFO     | magic_pdf.model.pdf_extract_kit:__call__:210 - layout detection time: 1.33\n",
      "2025-03-10 11:55:59.161 | INFO     | magic_pdf.model.pdf_extract_kit:__call__:216 - mfd time: 1.58\n",
      "2025-03-10 11:55:59.162 | INFO     | magic_pdf.model.pdf_extract_kit:__call__:223 - formula nums: 0, mfr time: 0.0\n",
      "2025-03-10 11:56:00.396 | INFO     | magic_pdf.model.pdf_extract_kit:__call__:255 - ocr time: 1.23\n",
      "2025-03-10 11:56:00.396 | INFO     | magic_pdf.model.pdf_extract_kit:__call__:297 - table time: 0.0\n",
      "2025-03-10 11:56:00.396 | INFO     | magic_pdf.model.doc_analyze_by_custom_model:doc_analyze:224 - -----page_id : 0, page total time: 4.15-----\n",
      "2025-03-10 11:56:00.526 | INFO     | magic_pdf.model.doc_analyze_by_custom_model:doc_analyze:235 - gc time: 0.13\n",
      "2025-03-10 11:56:00.526 | INFO     | magic_pdf.model.doc_analyze_by_custom_model:doc_analyze:239 - doc analyze time: 4.33, speed: 0.23 pages/second\n",
      "2025-03-10 11:56:00.538 | INFO     | magic_pdf.pdf_parse_union_core_v2:pdf_parse_union:946 - page_id: 0, last_page_cost_time: 0.0\n",
      "2025-03-10 11:56:00.669 | WARNING  | magic_pdf.libs.config_reader:get_local_layoutreader_model_dir:74 - 'layoutreader-model-dir' not exists, use /Users/yokumi/.cache/modelscope/hub/ppaanngggg/layoutreader as default\n",
      "2025-03-10 11:56:00.669 | WARNING  | magic_pdf.pdf_parse_union_core_v2:model_init:354 - local layoutreader model not exists, use online model from huggingface\n",
      "2025-03-10 11:56:03.606 | INFO     | magic_pdf.tools.common:do_parse:242 - local output dir is ocr_res/Quiet_noisy places/auto\n"
     ]
    },
    {
     "name": "stdout",
     "output_type": "stream",
     "text": [
      "已处理: Quiet_noisy places.jpg\n"
     ]
    },
    {
     "name": "stderr",
     "output_type": "stream",
     "text": [
      "/opt/homebrew/anaconda3/envs/MinerU/lib/python3.10/site-packages/paddle/utils/cpp_extension/extension_utils.py:711: UserWarning: No ccache found. Please be aware that recompiling all source files may be required. You can download and install ccache from: https://github.com/ccache/ccache/blob/master/doc/INSTALL.md\n",
      "  warnings.warn(warning_message)\n"
     ]
    },
    {
     "name": "stdout",
     "output_type": "stream",
     "text": [
      "\u001b[93mimport tensorrt_llm failed, if do not use tensorrt, ignore this message\u001b[0m\n",
      "\u001b[93mimport lmdeploy failed, if do not use lmdeploy, ignore this message\u001b[0m\n"
     ]
    },
    {
     "name": "stderr",
     "output_type": "stream",
     "text": [
      "2025-03-10 11:56:08.717 | INFO     | magic_pdf.data.dataset:__init__:156 - lang: None\n",
      "2025-03-10 11:56:08.776 | INFO     | magic_pdf.libs.pdf_check:detect_invalid_chars:67 - cid_count: 0, text_len: 1, cid_chars_radio: 0.0\n",
      "2025-03-10 11:56:08.777 | WARNING  | magic_pdf.filter.pdf_classify_by_type:classify:335 - OCR needed based on classification result, by_image_area: False, by_text: False, by_avg_words: False, by_img_num: True, by_img_narrow_strips: True, by_invalid_chars: True\n",
      "2025-03-10 11:56:08.777 | INFO     | magic_pdf.model.pdf_extract_kit:__init__:78 - DocAnalysis init, this may take some times, layout_model: doclayout_yolo, apply_formula: True, apply_ocr: True, apply_table: True, table_model: rapid_table, lang: None\n",
      "2025-03-10 11:56:08.777 | INFO     | magic_pdf.model.pdf_extract_kit:__init__:92 - using device: mps\n",
      "2025-03-10 11:56:08.777 | INFO     | magic_pdf.model.pdf_extract_kit:__init__:96 - using models_dir: /Users/yokumi/Documents/MinerU/models--opendatalab--PDF-Extract-Kit-1.0/snapshots/60416a2cabad3f7b7284b43ce37a99864484fba2/models\n"
     ]
    },
    {
     "name": "stdout",
     "output_type": "stream",
     "text": [
      "CustomVisionEncoderDecoderModel init\n",
      "VariableUnimerNetModel init\n",
      "VariableUnimerNetPatchEmbeddings init\n",
      "VariableUnimerNetModel init\n",
      "VariableUnimerNetPatchEmbeddings init\n",
      "CustomMBartForCausalLM init\n",
      "CustomMBartDecoder init\n"
     ]
    },
    {
     "name": "stderr",
     "output_type": "stream",
     "text": [
      "2025-03-10 11:56:16,863 - DownloadModel - DEBUG: /opt/homebrew/anaconda3/envs/MinerU/lib/python3.10/site-packages/rapid_table/models/slanet-plus.onnx already exists\n",
      "[2025-03-10 11:56:16,863] [   DEBUG] download_model.py:34 - /opt/homebrew/anaconda3/envs/MinerU/lib/python3.10/site-packages/rapid_table/models/slanet-plus.onnx already exists\n",
      "2025-03-10 11:56:17.071 | INFO     | magic_pdf.model.pdf_extract_kit:__init__:174 - DocAnalysis init done!\n",
      "2025-03-10 11:56:17.071 | INFO     | magic_pdf.model.doc_analyze_by_custom_model:custom_model_init:128 - model init cost: 8.294625043869019\n",
      "2025-03-10 11:56:18.694 | INFO     | magic_pdf.model.pdf_extract_kit:__call__:210 - layout detection time: 1.57\n",
      "2025-03-10 11:56:20.297 | INFO     | magic_pdf.model.pdf_extract_kit:__call__:216 - mfd time: 1.6\n",
      "2025-03-10 11:56:20.297 | INFO     | magic_pdf.model.pdf_extract_kit:__call__:223 - formula nums: 0, mfr time: 0.0\n",
      "2025-03-10 11:56:21.646 | INFO     | magic_pdf.model.pdf_extract_kit:__call__:255 - ocr time: 1.35\n",
      "2025-03-10 11:56:21.646 | INFO     | magic_pdf.model.pdf_extract_kit:__call__:297 - table time: 0.0\n",
      "2025-03-10 11:56:21.647 | INFO     | magic_pdf.model.doc_analyze_by_custom_model:doc_analyze:224 - -----page_id : 0, page total time: 4.53-----\n",
      "2025-03-10 11:56:21.778 | INFO     | magic_pdf.model.doc_analyze_by_custom_model:doc_analyze:235 - gc time: 0.13\n",
      "2025-03-10 11:56:21.778 | INFO     | magic_pdf.model.doc_analyze_by_custom_model:doc_analyze:239 - doc analyze time: 4.71, speed: 0.21 pages/second\n",
      "2025-03-10 11:56:21.790 | INFO     | magic_pdf.pdf_parse_union_core_v2:pdf_parse_union:946 - page_id: 0, last_page_cost_time: 0.0\n",
      "2025-03-10 11:56:21.920 | WARNING  | magic_pdf.libs.config_reader:get_local_layoutreader_model_dir:74 - 'layoutreader-model-dir' not exists, use /Users/yokumi/.cache/modelscope/hub/ppaanngggg/layoutreader as default\n",
      "2025-03-10 11:56:21.920 | WARNING  | magic_pdf.pdf_parse_union_core_v2:model_init:354 - local layoutreader model not exists, use online model from huggingface\n",
      "2025-03-10 11:56:24.489 | INFO     | magic_pdf.tools.common:do_parse:242 - local output dir is ocr_res/Borrowing_lending/auto\n"
     ]
    },
    {
     "name": "stdout",
     "output_type": "stream",
     "text": [
      "已处理: Borrowing_lending.jpg\n"
     ]
    },
    {
     "name": "stderr",
     "output_type": "stream",
     "text": [
      "/opt/homebrew/anaconda3/envs/MinerU/lib/python3.10/site-packages/paddle/utils/cpp_extension/extension_utils.py:711: UserWarning: No ccache found. Please be aware that recompiling all source files may be required. You can download and install ccache from: https://github.com/ccache/ccache/blob/master/doc/INSTALL.md\n",
      "  warnings.warn(warning_message)\n"
     ]
    },
    {
     "name": "stdout",
     "output_type": "stream",
     "text": [
      "\u001b[93mimport tensorrt_llm failed, if do not use tensorrt, ignore this message\u001b[0m\n",
      "\u001b[93mimport lmdeploy failed, if do not use lmdeploy, ignore this message\u001b[0m\n"
     ]
    },
    {
     "name": "stderr",
     "output_type": "stream",
     "text": [
      "2025-03-10 11:56:29.544 | INFO     | magic_pdf.data.dataset:__init__:156 - lang: None\n",
      "2025-03-10 11:56:29.602 | INFO     | magic_pdf.libs.pdf_check:detect_invalid_chars:67 - cid_count: 0, text_len: 1, cid_chars_radio: 0.0\n",
      "2025-03-10 11:56:29.602 | WARNING  | magic_pdf.filter.pdf_classify_by_type:classify:335 - OCR needed based on classification result, by_image_area: False, by_text: False, by_avg_words: False, by_img_num: True, by_img_narrow_strips: True, by_invalid_chars: True\n",
      "2025-03-10 11:56:29.603 | INFO     | magic_pdf.model.pdf_extract_kit:__init__:78 - DocAnalysis init, this may take some times, layout_model: doclayout_yolo, apply_formula: True, apply_ocr: True, apply_table: True, table_model: rapid_table, lang: None\n",
      "2025-03-10 11:56:29.603 | INFO     | magic_pdf.model.pdf_extract_kit:__init__:92 - using device: mps\n",
      "2025-03-10 11:56:29.603 | INFO     | magic_pdf.model.pdf_extract_kit:__init__:96 - using models_dir: /Users/yokumi/Documents/MinerU/models--opendatalab--PDF-Extract-Kit-1.0/snapshots/60416a2cabad3f7b7284b43ce37a99864484fba2/models\n"
     ]
    },
    {
     "name": "stdout",
     "output_type": "stream",
     "text": [
      "CustomVisionEncoderDecoderModel init\n",
      "VariableUnimerNetModel init\n",
      "VariableUnimerNetPatchEmbeddings init\n",
      "VariableUnimerNetModel init\n",
      "VariableUnimerNetPatchEmbeddings init\n",
      "CustomMBartForCausalLM init\n",
      "CustomMBartDecoder init\n"
     ]
    },
    {
     "name": "stderr",
     "output_type": "stream",
     "text": [
      "2025-03-10 11:56:37,695 - DownloadModel - DEBUG: /opt/homebrew/anaconda3/envs/MinerU/lib/python3.10/site-packages/rapid_table/models/slanet-plus.onnx already exists\n",
      "[2025-03-10 11:56:37,695] [   DEBUG] download_model.py:34 - /opt/homebrew/anaconda3/envs/MinerU/lib/python3.10/site-packages/rapid_table/models/slanet-plus.onnx already exists\n",
      "2025-03-10 11:56:37.902 | INFO     | magic_pdf.model.pdf_extract_kit:__init__:174 - DocAnalysis init done!\n",
      "2025-03-10 11:56:37.902 | INFO     | magic_pdf.model.doc_analyze_by_custom_model:custom_model_init:128 - model init cost: 8.299929141998291\n",
      "2025-03-10 11:56:39.293 | INFO     | magic_pdf.model.pdf_extract_kit:__call__:210 - layout detection time: 1.34\n",
      "2025-03-10 11:56:40.852 | INFO     | magic_pdf.model.pdf_extract_kit:__call__:216 - mfd time: 1.56\n",
      "2025-03-10 11:56:40.853 | INFO     | magic_pdf.model.pdf_extract_kit:__call__:223 - formula nums: 0, mfr time: 0.0\n",
      "2025-03-10 11:56:42.407 | INFO     | magic_pdf.model.pdf_extract_kit:__call__:255 - ocr time: 1.55\n",
      "2025-03-10 11:56:42.407 | INFO     | magic_pdf.model.pdf_extract_kit:__call__:297 - table time: 0.0\n",
      "2025-03-10 11:56:42.408 | INFO     | magic_pdf.model.doc_analyze_by_custom_model:doc_analyze:224 - -----page_id : 0, page total time: 4.46-----\n",
      "2025-03-10 11:56:42.537 | INFO     | magic_pdf.model.doc_analyze_by_custom_model:doc_analyze:235 - gc time: 0.13\n",
      "2025-03-10 11:56:42.537 | INFO     | magic_pdf.model.doc_analyze_by_custom_model:doc_analyze:239 - doc analyze time: 4.63, speed: 0.22 pages/second\n",
      "2025-03-10 11:56:42.551 | INFO     | magic_pdf.pdf_parse_union_core_v2:pdf_parse_union:946 - page_id: 0, last_page_cost_time: 0.0\n",
      "2025-03-10 11:56:42.694 | WARNING  | magic_pdf.libs.config_reader:get_local_layoutreader_model_dir:74 - 'layoutreader-model-dir' not exists, use /Users/yokumi/.cache/modelscope/hub/ppaanngggg/layoutreader as default\n",
      "2025-03-10 11:56:42.694 | WARNING  | magic_pdf.pdf_parse_union_core_v2:model_init:354 - local layoutreader model not exists, use online model from huggingface\n",
      "2025-03-10 11:56:45.570 | INFO     | magic_pdf.tools.common:do_parse:242 - local output dir is ocr_res/Hats_caps/auto\n"
     ]
    },
    {
     "name": "stdout",
     "output_type": "stream",
     "text": [
      "已处理: Hats_caps.jpg\n"
     ]
    },
    {
     "name": "stderr",
     "output_type": "stream",
     "text": [
      "/opt/homebrew/anaconda3/envs/MinerU/lib/python3.10/site-packages/paddle/utils/cpp_extension/extension_utils.py:711: UserWarning: No ccache found. Please be aware that recompiling all source files may be required. You can download and install ccache from: https://github.com/ccache/ccache/blob/master/doc/INSTALL.md\n",
      "  warnings.warn(warning_message)\n"
     ]
    },
    {
     "name": "stdout",
     "output_type": "stream",
     "text": [
      "\u001b[93mimport tensorrt_llm failed, if do not use tensorrt, ignore this message\u001b[0m\n",
      "\u001b[93mimport lmdeploy failed, if do not use lmdeploy, ignore this message\u001b[0m\n"
     ]
    },
    {
     "name": "stderr",
     "output_type": "stream",
     "text": [
      "2025-03-10 11:56:50.538 | INFO     | magic_pdf.data.dataset:__init__:156 - lang: None\n",
      "2025-03-10 11:56:50.596 | INFO     | magic_pdf.libs.pdf_check:detect_invalid_chars:67 - cid_count: 0, text_len: 1, cid_chars_radio: 0.0\n",
      "2025-03-10 11:56:50.597 | WARNING  | magic_pdf.filter.pdf_classify_by_type:classify:335 - OCR needed based on classification result, by_image_area: False, by_text: False, by_avg_words: False, by_img_num: True, by_img_narrow_strips: True, by_invalid_chars: True\n",
      "2025-03-10 11:56:50.597 | INFO     | magic_pdf.model.pdf_extract_kit:__init__:78 - DocAnalysis init, this may take some times, layout_model: doclayout_yolo, apply_formula: True, apply_ocr: True, apply_table: True, table_model: rapid_table, lang: None\n",
      "2025-03-10 11:56:50.597 | INFO     | magic_pdf.model.pdf_extract_kit:__init__:92 - using device: mps\n",
      "2025-03-10 11:56:50.597 | INFO     | magic_pdf.model.pdf_extract_kit:__init__:96 - using models_dir: /Users/yokumi/Documents/MinerU/models--opendatalab--PDF-Extract-Kit-1.0/snapshots/60416a2cabad3f7b7284b43ce37a99864484fba2/models\n"
     ]
    },
    {
     "name": "stdout",
     "output_type": "stream",
     "text": [
      "CustomVisionEncoderDecoderModel init\n",
      "VariableUnimerNetModel init\n",
      "VariableUnimerNetPatchEmbeddings init\n",
      "VariableUnimerNetModel init\n",
      "VariableUnimerNetPatchEmbeddings init\n",
      "CustomMBartForCausalLM init\n",
      "CustomMBartDecoder init\n"
     ]
    },
    {
     "name": "stderr",
     "output_type": "stream",
     "text": [
      "2025-03-10 11:56:58,653 - DownloadModel - DEBUG: /opt/homebrew/anaconda3/envs/MinerU/lib/python3.10/site-packages/rapid_table/models/slanet-plus.onnx already exists\n",
      "[2025-03-10 11:56:58,653] [   DEBUG] download_model.py:34 - /opt/homebrew/anaconda3/envs/MinerU/lib/python3.10/site-packages/rapid_table/models/slanet-plus.onnx already exists\n",
      "2025-03-10 11:56:58.863 | INFO     | magic_pdf.model.pdf_extract_kit:__init__:174 - DocAnalysis init done!\n",
      "2025-03-10 11:56:58.863 | INFO     | magic_pdf.model.doc_analyze_by_custom_model:custom_model_init:128 - model init cost: 8.26603388786316\n",
      "2025-03-10 11:57:00.261 | INFO     | magic_pdf.model.pdf_extract_kit:__call__:210 - layout detection time: 1.35\n",
      "2025-03-10 11:57:01.818 | INFO     | magic_pdf.model.pdf_extract_kit:__call__:216 - mfd time: 1.56\n",
      "2025-03-10 11:57:01.819 | INFO     | magic_pdf.model.pdf_extract_kit:__call__:223 - formula nums: 0, mfr time: 0.0\n",
      "2025-03-10 11:57:03.296 | INFO     | magic_pdf.model.pdf_extract_kit:__call__:255 - ocr time: 1.48\n",
      "2025-03-10 11:57:03.296 | INFO     | magic_pdf.model.pdf_extract_kit:__call__:297 - table time: 0.0\n",
      "2025-03-10 11:57:03.297 | INFO     | magic_pdf.model.doc_analyze_by_custom_model:doc_analyze:224 - -----page_id : 0, page total time: 4.39-----\n",
      "2025-03-10 11:57:03.427 | INFO     | magic_pdf.model.doc_analyze_by_custom_model:doc_analyze:235 - gc time: 0.13\n",
      "2025-03-10 11:57:03.427 | INFO     | magic_pdf.model.doc_analyze_by_custom_model:doc_analyze:239 - doc analyze time: 4.56, speed: 0.22 pages/second\n",
      "2025-03-10 11:57:03.440 | INFO     | magic_pdf.pdf_parse_union_core_v2:pdf_parse_union:946 - page_id: 0, last_page_cost_time: 0.0\n",
      "2025-03-10 11:57:03.570 | WARNING  | magic_pdf.libs.config_reader:get_local_layoutreader_model_dir:74 - 'layoutreader-model-dir' not exists, use /Users/yokumi/.cache/modelscope/hub/ppaanngggg/layoutreader as default\n",
      "2025-03-10 11:57:03.570 | WARNING  | magic_pdf.pdf_parse_union_core_v2:model_init:354 - local layoutreader model not exists, use online model from huggingface\n",
      "2025-03-10 11:57:06.275 | INFO     | magic_pdf.tools.common:do_parse:242 - local output dir is ocr_res/Stories/auto\n"
     ]
    },
    {
     "name": "stdout",
     "output_type": "stream",
     "text": [
      "已处理: Stories.jpg\n"
     ]
    },
    {
     "name": "stderr",
     "output_type": "stream",
     "text": [
      "/opt/homebrew/anaconda3/envs/MinerU/lib/python3.10/site-packages/paddle/utils/cpp_extension/extension_utils.py:711: UserWarning: No ccache found. Please be aware that recompiling all source files may be required. You can download and install ccache from: https://github.com/ccache/ccache/blob/master/doc/INSTALL.md\n",
      "  warnings.warn(warning_message)\n"
     ]
    },
    {
     "name": "stdout",
     "output_type": "stream",
     "text": [
      "\u001b[93mimport tensorrt_llm failed, if do not use tensorrt, ignore this message\u001b[0m\n",
      "\u001b[93mimport lmdeploy failed, if do not use lmdeploy, ignore this message\u001b[0m\n"
     ]
    },
    {
     "name": "stderr",
     "output_type": "stream",
     "text": [
      "2025-03-10 11:57:11.226 | INFO     | magic_pdf.data.dataset:__init__:156 - lang: None\n",
      "2025-03-10 11:57:11.284 | INFO     | magic_pdf.libs.pdf_check:detect_invalid_chars:67 - cid_count: 0, text_len: 1, cid_chars_radio: 0.0\n",
      "2025-03-10 11:57:11.285 | WARNING  | magic_pdf.filter.pdf_classify_by_type:classify:335 - OCR needed based on classification result, by_image_area: False, by_text: False, by_avg_words: False, by_img_num: True, by_img_narrow_strips: True, by_invalid_chars: True\n",
      "2025-03-10 11:57:11.286 | INFO     | magic_pdf.model.pdf_extract_kit:__init__:78 - DocAnalysis init, this may take some times, layout_model: doclayout_yolo, apply_formula: True, apply_ocr: True, apply_table: True, table_model: rapid_table, lang: None\n",
      "2025-03-10 11:57:11.286 | INFO     | magic_pdf.model.pdf_extract_kit:__init__:92 - using device: mps\n",
      "2025-03-10 11:57:11.286 | INFO     | magic_pdf.model.pdf_extract_kit:__init__:96 - using models_dir: /Users/yokumi/Documents/MinerU/models--opendatalab--PDF-Extract-Kit-1.0/snapshots/60416a2cabad3f7b7284b43ce37a99864484fba2/models\n"
     ]
    },
    {
     "name": "stdout",
     "output_type": "stream",
     "text": [
      "CustomVisionEncoderDecoderModel init\n",
      "VariableUnimerNetModel init\n",
      "VariableUnimerNetPatchEmbeddings init\n",
      "VariableUnimerNetModel init\n",
      "VariableUnimerNetPatchEmbeddings init\n",
      "CustomMBartForCausalLM init\n",
      "CustomMBartDecoder init\n"
     ]
    },
    {
     "name": "stderr",
     "output_type": "stream",
     "text": [
      "2025-03-10 11:57:19,364 - DownloadModel - DEBUG: /opt/homebrew/anaconda3/envs/MinerU/lib/python3.10/site-packages/rapid_table/models/slanet-plus.onnx already exists\n",
      "[2025-03-10 11:57:19,364] [   DEBUG] download_model.py:34 - /opt/homebrew/anaconda3/envs/MinerU/lib/python3.10/site-packages/rapid_table/models/slanet-plus.onnx already exists\n",
      "2025-03-10 11:57:19.570 | INFO     | magic_pdf.model.pdf_extract_kit:__init__:174 - DocAnalysis init done!\n",
      "2025-03-10 11:57:19.570 | INFO     | magic_pdf.model.doc_analyze_by_custom_model:custom_model_init:128 - model init cost: 8.285295724868774\n",
      "2025-03-10 11:57:21.070 | INFO     | magic_pdf.model.pdf_extract_kit:__call__:210 - layout detection time: 1.45\n",
      "2025-03-10 11:57:22.633 | INFO     | magic_pdf.model.pdf_extract_kit:__call__:216 - mfd time: 1.56\n",
      "2025-03-10 11:57:22.633 | INFO     | magic_pdf.model.pdf_extract_kit:__call__:223 - formula nums: 0, mfr time: 0.0\n",
      "2025-03-10 11:57:23.911 | INFO     | magic_pdf.model.pdf_extract_kit:__call__:255 - ocr time: 1.28\n",
      "2025-03-10 11:57:23.911 | INFO     | magic_pdf.model.pdf_extract_kit:__call__:297 - table time: 0.0\n",
      "2025-03-10 11:57:23.912 | INFO     | magic_pdf.model.doc_analyze_by_custom_model:doc_analyze:224 - -----page_id : 0, page total time: 4.3-----\n",
      "2025-03-10 11:57:24.038 | INFO     | magic_pdf.model.doc_analyze_by_custom_model:doc_analyze:235 - gc time: 0.13\n",
      "2025-03-10 11:57:24.038 | INFO     | magic_pdf.model.doc_analyze_by_custom_model:doc_analyze:239 - doc analyze time: 4.47, speed: 0.22 pages/second\n",
      "2025-03-10 11:57:24.051 | INFO     | magic_pdf.pdf_parse_union_core_v2:pdf_parse_union:946 - page_id: 0, last_page_cost_time: 0.0\n",
      "2025-03-10 11:57:24.178 | WARNING  | magic_pdf.libs.config_reader:get_local_layoutreader_model_dir:74 - 'layoutreader-model-dir' not exists, use /Users/yokumi/.cache/modelscope/hub/ppaanngggg/layoutreader as default\n",
      "2025-03-10 11:57:24.178 | WARNING  | magic_pdf.pdf_parse_union_core_v2:model_init:354 - local layoutreader model not exists, use online model from huggingface\n",
      "2025-03-10 11:57:27.046 | INFO     | magic_pdf.tools.common:do_parse:242 - local output dir is ocr_res/Traffic/auto\n"
     ]
    },
    {
     "name": "stdout",
     "output_type": "stream",
     "text": [
      "已处理: Traffic.jpg\n"
     ]
    },
    {
     "name": "stderr",
     "output_type": "stream",
     "text": [
      "/opt/homebrew/anaconda3/envs/MinerU/lib/python3.10/site-packages/paddle/utils/cpp_extension/extension_utils.py:711: UserWarning: No ccache found. Please be aware that recompiling all source files may be required. You can download and install ccache from: https://github.com/ccache/ccache/blob/master/doc/INSTALL.md\n",
      "  warnings.warn(warning_message)\n"
     ]
    },
    {
     "name": "stdout",
     "output_type": "stream",
     "text": [
      "\u001b[93mimport tensorrt_llm failed, if do not use tensorrt, ignore this message\u001b[0m\n",
      "\u001b[93mimport lmdeploy failed, if do not use lmdeploy, ignore this message\u001b[0m\n"
     ]
    },
    {
     "name": "stderr",
     "output_type": "stream",
     "text": [
      "2025-03-10 11:57:32.293 | INFO     | magic_pdf.data.dataset:__init__:156 - lang: None\n",
      "2025-03-10 11:57:32.352 | INFO     | magic_pdf.libs.pdf_check:detect_invalid_chars:67 - cid_count: 0, text_len: 1, cid_chars_radio: 0.0\n",
      "2025-03-10 11:57:32.353 | WARNING  | magic_pdf.filter.pdf_classify_by_type:classify:335 - OCR needed based on classification result, by_image_area: False, by_text: False, by_avg_words: False, by_img_num: True, by_img_narrow_strips: True, by_invalid_chars: True\n",
      "2025-03-10 11:57:32.354 | INFO     | magic_pdf.model.pdf_extract_kit:__init__:78 - DocAnalysis init, this may take some times, layout_model: doclayout_yolo, apply_formula: True, apply_ocr: True, apply_table: True, table_model: rapid_table, lang: None\n",
      "2025-03-10 11:57:32.354 | INFO     | magic_pdf.model.pdf_extract_kit:__init__:92 - using device: mps\n",
      "2025-03-10 11:57:32.354 | INFO     | magic_pdf.model.pdf_extract_kit:__init__:96 - using models_dir: /Users/yokumi/Documents/MinerU/models--opendatalab--PDF-Extract-Kit-1.0/snapshots/60416a2cabad3f7b7284b43ce37a99864484fba2/models\n"
     ]
    },
    {
     "name": "stdout",
     "output_type": "stream",
     "text": [
      "CustomVisionEncoderDecoderModel init\n",
      "VariableUnimerNetModel init\n",
      "VariableUnimerNetPatchEmbeddings init\n",
      "VariableUnimerNetModel init\n",
      "VariableUnimerNetPatchEmbeddings init\n",
      "CustomMBartForCausalLM init\n",
      "CustomMBartDecoder init\n"
     ]
    },
    {
     "name": "stderr",
     "output_type": "stream",
     "text": [
      "2025-03-10 11:57:40,598 - DownloadModel - DEBUG: /opt/homebrew/anaconda3/envs/MinerU/lib/python3.10/site-packages/rapid_table/models/slanet-plus.onnx already exists\n",
      "[2025-03-10 11:57:40,598] [   DEBUG] download_model.py:34 - /opt/homebrew/anaconda3/envs/MinerU/lib/python3.10/site-packages/rapid_table/models/slanet-plus.onnx already exists\n",
      "2025-03-10 11:57:40.799 | INFO     | magic_pdf.model.pdf_extract_kit:__init__:174 - DocAnalysis init done!\n",
      "2025-03-10 11:57:40.799 | INFO     | magic_pdf.model.doc_analyze_by_custom_model:custom_model_init:128 - model init cost: 8.446336030960083\n",
      "2025-03-10 11:57:42.165 | INFO     | magic_pdf.model.pdf_extract_kit:__call__:210 - layout detection time: 1.32\n",
      "2025-03-10 11:57:43.809 | INFO     | magic_pdf.model.pdf_extract_kit:__call__:216 - mfd time: 1.64\n",
      "2025-03-10 11:57:43.810 | INFO     | magic_pdf.model.pdf_extract_kit:__call__:223 - formula nums: 0, mfr time: 0.0\n",
      "2025-03-10 11:57:45.476 | INFO     | magic_pdf.model.pdf_extract_kit:__call__:255 - ocr time: 1.67\n",
      "2025-03-10 11:57:45.476 | INFO     | magic_pdf.model.pdf_extract_kit:__call__:297 - table time: 0.0\n",
      "2025-03-10 11:57:45.477 | INFO     | magic_pdf.model.doc_analyze_by_custom_model:doc_analyze:224 - -----page_id : 0, page total time: 4.64-----\n",
      "2025-03-10 11:57:45.607 | INFO     | magic_pdf.model.doc_analyze_by_custom_model:doc_analyze:235 - gc time: 0.13\n",
      "2025-03-10 11:57:45.607 | INFO     | magic_pdf.model.doc_analyze_by_custom_model:doc_analyze:239 - doc analyze time: 4.81, speed: 0.21 pages/second\n",
      "2025-03-10 11:57:45.620 | INFO     | magic_pdf.pdf_parse_union_core_v2:pdf_parse_union:946 - page_id: 0, last_page_cost_time: 0.0\n",
      "2025-03-10 11:57:45.701 | WARNING  | magic_pdf.libs.config_reader:get_local_layoutreader_model_dir:74 - 'layoutreader-model-dir' not exists, use /Users/yokumi/.cache/modelscope/hub/ppaanngggg/layoutreader as default\n",
      "2025-03-10 11:57:45.701 | WARNING  | magic_pdf.pdf_parse_union_core_v2:model_init:354 - local layoutreader model not exists, use online model from huggingface\n",
      "2025-03-10 11:57:48.554 | INFO     | magic_pdf.tools.common:do_parse:242 - local output dir is ocr_res/Housework and cooking/auto\n"
     ]
    },
    {
     "name": "stdout",
     "output_type": "stream",
     "text": [
      "已处理: Housework and cooking.jpg\n"
     ]
    },
    {
     "name": "stderr",
     "output_type": "stream",
     "text": [
      "/opt/homebrew/anaconda3/envs/MinerU/lib/python3.10/site-packages/paddle/utils/cpp_extension/extension_utils.py:711: UserWarning: No ccache found. Please be aware that recompiling all source files may be required. You can download and install ccache from: https://github.com/ccache/ccache/blob/master/doc/INSTALL.md\n",
      "  warnings.warn(warning_message)\n"
     ]
    },
    {
     "name": "stdout",
     "output_type": "stream",
     "text": [
      "\u001b[93mimport tensorrt_llm failed, if do not use tensorrt, ignore this message\u001b[0m\n",
      "\u001b[93mimport lmdeploy failed, if do not use lmdeploy, ignore this message\u001b[0m\n"
     ]
    },
    {
     "name": "stderr",
     "output_type": "stream",
     "text": [
      "2025-03-10 11:57:53.508 | INFO     | magic_pdf.data.dataset:__init__:156 - lang: None\n",
      "2025-03-10 11:57:53.566 | INFO     | magic_pdf.libs.pdf_check:detect_invalid_chars:67 - cid_count: 0, text_len: 1, cid_chars_radio: 0.0\n",
      "2025-03-10 11:57:53.566 | WARNING  | magic_pdf.filter.pdf_classify_by_type:classify:335 - OCR needed based on classification result, by_image_area: False, by_text: False, by_avg_words: False, by_img_num: True, by_img_narrow_strips: True, by_invalid_chars: True\n",
      "2025-03-10 11:57:53.568 | INFO     | magic_pdf.model.pdf_extract_kit:__init__:78 - DocAnalysis init, this may take some times, layout_model: doclayout_yolo, apply_formula: True, apply_ocr: True, apply_table: True, table_model: rapid_table, lang: None\n",
      "2025-03-10 11:57:53.568 | INFO     | magic_pdf.model.pdf_extract_kit:__init__:92 - using device: mps\n",
      "2025-03-10 11:57:53.568 | INFO     | magic_pdf.model.pdf_extract_kit:__init__:96 - using models_dir: /Users/yokumi/Documents/MinerU/models--opendatalab--PDF-Extract-Kit-1.0/snapshots/60416a2cabad3f7b7284b43ce37a99864484fba2/models\n"
     ]
    },
    {
     "name": "stdout",
     "output_type": "stream",
     "text": [
      "CustomVisionEncoderDecoderModel init\n",
      "VariableUnimerNetModel init\n",
      "VariableUnimerNetPatchEmbeddings init\n",
      "VariableUnimerNetModel init\n",
      "VariableUnimerNetPatchEmbeddings init\n",
      "CustomMBartForCausalLM init\n",
      "CustomMBartDecoder init\n"
     ]
    },
    {
     "name": "stderr",
     "output_type": "stream",
     "text": [
      "2025-03-10 11:58:01,798 - DownloadModel - DEBUG: /opt/homebrew/anaconda3/envs/MinerU/lib/python3.10/site-packages/rapid_table/models/slanet-plus.onnx already exists\n",
      "[2025-03-10 11:58:01,798] [   DEBUG] download_model.py:34 - /opt/homebrew/anaconda3/envs/MinerU/lib/python3.10/site-packages/rapid_table/models/slanet-plus.onnx already exists\n",
      "2025-03-10 11:58:02.003 | INFO     | magic_pdf.model.pdf_extract_kit:__init__:174 - DocAnalysis init done!\n",
      "2025-03-10 11:58:02.003 | INFO     | magic_pdf.model.doc_analyze_by_custom_model:custom_model_init:128 - model init cost: 8.436632871627808\n",
      "2025-03-10 11:58:03.498 | INFO     | magic_pdf.model.pdf_extract_kit:__call__:210 - layout detection time: 1.44\n",
      "2025-03-10 11:58:05.064 | INFO     | magic_pdf.model.pdf_extract_kit:__call__:216 - mfd time: 1.57\n",
      "2025-03-10 11:58:05.065 | INFO     | magic_pdf.model.pdf_extract_kit:__call__:223 - formula nums: 0, mfr time: 0.0\n",
      "2025-03-10 11:58:06.432 | INFO     | magic_pdf.model.pdf_extract_kit:__call__:255 - ocr time: 1.37\n",
      "2025-03-10 11:58:06.432 | INFO     | magic_pdf.model.pdf_extract_kit:__call__:297 - table time: 0.0\n",
      "2025-03-10 11:58:06.432 | INFO     | magic_pdf.model.doc_analyze_by_custom_model:doc_analyze:224 - -----page_id : 0, page total time: 4.38-----\n",
      "2025-03-10 11:58:06.561 | INFO     | magic_pdf.model.doc_analyze_by_custom_model:doc_analyze:235 - gc time: 0.13\n",
      "2025-03-10 11:58:06.561 | INFO     | magic_pdf.model.doc_analyze_by_custom_model:doc_analyze:239 - doc analyze time: 4.56, speed: 0.22 pages/second\n",
      "2025-03-10 11:58:06.575 | INFO     | magic_pdf.pdf_parse_union_core_v2:pdf_parse_union:946 - page_id: 0, last_page_cost_time: 0.0\n",
      "2025-03-10 11:58:06.708 | WARNING  | magic_pdf.libs.config_reader:get_local_layoutreader_model_dir:74 - 'layoutreader-model-dir' not exists, use /Users/yokumi/.cache/modelscope/hub/ppaanngggg/layoutreader as default\n",
      "2025-03-10 11:58:06.708 | WARNING  | magic_pdf.pdf_parse_union_core_v2:model_init:354 - local layoutreader model not exists, use online model from huggingface\n",
      "2025-03-10 11:58:09.364 | INFO     | magic_pdf.tools.common:do_parse:242 - local output dir is ocr_res/Colours/auto\n"
     ]
    },
    {
     "name": "stdout",
     "output_type": "stream",
     "text": [
      "已处理: Colours.jpg\n"
     ]
    },
    {
     "name": "stderr",
     "output_type": "stream",
     "text": [
      "/opt/homebrew/anaconda3/envs/MinerU/lib/python3.10/site-packages/paddle/utils/cpp_extension/extension_utils.py:711: UserWarning: No ccache found. Please be aware that recompiling all source files may be required. You can download and install ccache from: https://github.com/ccache/ccache/blob/master/doc/INSTALL.md\n",
      "  warnings.warn(warning_message)\n"
     ]
    },
    {
     "name": "stdout",
     "output_type": "stream",
     "text": [
      "\u001b[93mimport tensorrt_llm failed, if do not use tensorrt, ignore this message\u001b[0m\n",
      "\u001b[93mimport lmdeploy failed, if do not use lmdeploy, ignore this message\u001b[0m\n"
     ]
    },
    {
     "name": "stderr",
     "output_type": "stream",
     "text": [
      "2025-03-10 11:58:14.779 | INFO     | magic_pdf.data.dataset:__init__:156 - lang: None\n",
      "2025-03-10 11:58:14.838 | INFO     | magic_pdf.libs.pdf_check:detect_invalid_chars:67 - cid_count: 0, text_len: 1, cid_chars_radio: 0.0\n",
      "2025-03-10 11:58:14.838 | WARNING  | magic_pdf.filter.pdf_classify_by_type:classify:335 - OCR needed based on classification result, by_image_area: False, by_text: False, by_avg_words: False, by_img_num: True, by_img_narrow_strips: True, by_invalid_chars: True\n",
      "2025-03-10 11:58:14.839 | INFO     | magic_pdf.model.pdf_extract_kit:__init__:78 - DocAnalysis init, this may take some times, layout_model: doclayout_yolo, apply_formula: True, apply_ocr: True, apply_table: True, table_model: rapid_table, lang: None\n",
      "2025-03-10 11:58:14.839 | INFO     | magic_pdf.model.pdf_extract_kit:__init__:92 - using device: mps\n",
      "2025-03-10 11:58:14.839 | INFO     | magic_pdf.model.pdf_extract_kit:__init__:96 - using models_dir: /Users/yokumi/Documents/MinerU/models--opendatalab--PDF-Extract-Kit-1.0/snapshots/60416a2cabad3f7b7284b43ce37a99864484fba2/models\n"
     ]
    },
    {
     "name": "stdout",
     "output_type": "stream",
     "text": [
      "CustomVisionEncoderDecoderModel init\n",
      "VariableUnimerNetModel init\n",
      "VariableUnimerNetPatchEmbeddings init\n",
      "VariableUnimerNetModel init\n",
      "VariableUnimerNetPatchEmbeddings init\n",
      "CustomMBartForCausalLM init\n",
      "CustomMBartDecoder init\n"
     ]
    },
    {
     "name": "stderr",
     "output_type": "stream",
     "text": [
      "2025-03-10 11:58:22,994 - DownloadModel - DEBUG: /opt/homebrew/anaconda3/envs/MinerU/lib/python3.10/site-packages/rapid_table/models/slanet-plus.onnx already exists\n",
      "[2025-03-10 11:58:22,994] [   DEBUG] download_model.py:34 - /opt/homebrew/anaconda3/envs/MinerU/lib/python3.10/site-packages/rapid_table/models/slanet-plus.onnx already exists\n",
      "2025-03-10 11:58:23.254 | INFO     | magic_pdf.model.pdf_extract_kit:__init__:174 - DocAnalysis init done!\n",
      "2025-03-10 11:58:23.254 | INFO     | magic_pdf.model.doc_analyze_by_custom_model:custom_model_init:128 - model init cost: 8.416157960891724\n",
      "2025-03-10 11:58:24.712 | INFO     | magic_pdf.model.pdf_extract_kit:__call__:210 - layout detection time: 1.41\n",
      "2025-03-10 11:58:26.268 | INFO     | magic_pdf.model.pdf_extract_kit:__call__:216 - mfd time: 1.56\n",
      "2025-03-10 11:58:26.270 | INFO     | magic_pdf.model.pdf_extract_kit:__call__:223 - formula nums: 0, mfr time: 0.0\n",
      "2025-03-10 11:58:27.878 | INFO     | magic_pdf.model.pdf_extract_kit:__call__:255 - ocr time: 1.61\n",
      "2025-03-10 11:58:27.878 | INFO     | magic_pdf.model.pdf_extract_kit:__call__:297 - table time: 0.0\n",
      "2025-03-10 11:58:27.878 | INFO     | magic_pdf.model.doc_analyze_by_custom_model:doc_analyze:224 - -----page_id : 0, page total time: 4.58-----\n",
      "2025-03-10 11:58:28.008 | INFO     | magic_pdf.model.doc_analyze_by_custom_model:doc_analyze:235 - gc time: 0.13\n",
      "2025-03-10 11:58:28.008 | INFO     | magic_pdf.model.doc_analyze_by_custom_model:doc_analyze:239 - doc analyze time: 4.75, speed: 0.21 pages/second\n",
      "2025-03-10 11:58:28.021 | INFO     | magic_pdf.pdf_parse_union_core_v2:pdf_parse_union:946 - page_id: 0, last_page_cost_time: 0.0\n",
      "2025-03-10 11:58:28.129 | WARNING  | magic_pdf.libs.config_reader:get_local_layoutreader_model_dir:74 - 'layoutreader-model-dir' not exists, use /Users/yokumi/.cache/modelscope/hub/ppaanngggg/layoutreader as default\n",
      "2025-03-10 11:58:28.129 | WARNING  | magic_pdf.pdf_parse_union_core_v2:model_init:354 - local layoutreader model not exists, use online model from huggingface\n",
      "2025-03-10 11:58:30.904 | INFO     | magic_pdf.tools.common:do_parse:242 - local output dir is ocr_res/Public gardens and parks/auto\n"
     ]
    },
    {
     "name": "stdout",
     "output_type": "stream",
     "text": [
      "已处理: Public gardens and parks.jpg\n"
     ]
    },
    {
     "name": "stderr",
     "output_type": "stream",
     "text": [
      "/opt/homebrew/anaconda3/envs/MinerU/lib/python3.10/site-packages/paddle/utils/cpp_extension/extension_utils.py:711: UserWarning: No ccache found. Please be aware that recompiling all source files may be required. You can download and install ccache from: https://github.com/ccache/ccache/blob/master/doc/INSTALL.md\n",
      "  warnings.warn(warning_message)\n"
     ]
    },
    {
     "name": "stdout",
     "output_type": "stream",
     "text": [
      "\u001b[93mimport tensorrt_llm failed, if do not use tensorrt, ignore this message\u001b[0m\n",
      "\u001b[93mimport lmdeploy failed, if do not use lmdeploy, ignore this message\u001b[0m\n"
     ]
    },
    {
     "name": "stderr",
     "output_type": "stream",
     "text": [
      "2025-03-10 11:58:37.793 | INFO     | magic_pdf.data.dataset:__init__:156 - lang: None\n",
      "2025-03-10 11:58:37.852 | INFO     | magic_pdf.libs.pdf_check:detect_invalid_chars:67 - cid_count: 0, text_len: 1, cid_chars_radio: 0.0\n",
      "2025-03-10 11:58:37.852 | WARNING  | magic_pdf.filter.pdf_classify_by_type:classify:335 - OCR needed based on classification result, by_image_area: False, by_text: False, by_avg_words: False, by_img_num: True, by_img_narrow_strips: True, by_invalid_chars: True\n",
      "2025-03-10 11:58:37.853 | INFO     | magic_pdf.model.pdf_extract_kit:__init__:78 - DocAnalysis init, this may take some times, layout_model: doclayout_yolo, apply_formula: True, apply_ocr: True, apply_table: True, table_model: rapid_table, lang: None\n",
      "2025-03-10 11:58:37.853 | INFO     | magic_pdf.model.pdf_extract_kit:__init__:92 - using device: mps\n",
      "2025-03-10 11:58:37.853 | INFO     | magic_pdf.model.pdf_extract_kit:__init__:96 - using models_dir: /Users/yokumi/Documents/MinerU/models--opendatalab--PDF-Extract-Kit-1.0/snapshots/60416a2cabad3f7b7284b43ce37a99864484fba2/models\n"
     ]
    },
    {
     "name": "stdout",
     "output_type": "stream",
     "text": [
      "CustomVisionEncoderDecoderModel init\n",
      "VariableUnimerNetModel init\n",
      "VariableUnimerNetPatchEmbeddings init\n",
      "VariableUnimerNetModel init\n",
      "VariableUnimerNetPatchEmbeddings init\n",
      "CustomMBartForCausalLM init\n",
      "CustomMBartDecoder init\n"
     ]
    },
    {
     "name": "stderr",
     "output_type": "stream",
     "text": [
      "2025-03-10 11:58:45,905 - DownloadModel - DEBUG: /opt/homebrew/anaconda3/envs/MinerU/lib/python3.10/site-packages/rapid_table/models/slanet-plus.onnx already exists\n",
      "[2025-03-10 11:58:45,905] [   DEBUG] download_model.py:34 - /opt/homebrew/anaconda3/envs/MinerU/lib/python3.10/site-packages/rapid_table/models/slanet-plus.onnx already exists\n",
      "2025-03-10 11:58:46.111 | INFO     | magic_pdf.model.pdf_extract_kit:__init__:174 - DocAnalysis init done!\n",
      "2025-03-10 11:58:46.111 | INFO     | magic_pdf.model.doc_analyze_by_custom_model:custom_model_init:128 - model init cost: 8.258641004562378\n",
      "2025-03-10 11:58:47.514 | INFO     | magic_pdf.model.pdf_extract_kit:__call__:210 - layout detection time: 1.35\n",
      "2025-03-10 11:58:49.066 | INFO     | magic_pdf.model.pdf_extract_kit:__call__:216 - mfd time: 1.55\n",
      "2025-03-10 11:58:49.066 | INFO     | magic_pdf.model.pdf_extract_kit:__call__:223 - formula nums: 0, mfr time: 0.0\n",
      "2025-03-10 11:58:51.504 | INFO     | magic_pdf.model.pdf_extract_kit:__call__:255 - ocr time: 2.44\n",
      "2025-03-10 11:58:51.504 | INFO     | magic_pdf.model.pdf_extract_kit:__call__:297 - table time: 0.0\n",
      "2025-03-10 11:58:51.504 | INFO     | magic_pdf.model.doc_analyze_by_custom_model:doc_analyze:224 - -----page_id : 0, page total time: 5.35-----\n",
      "2025-03-10 11:58:51.633 | INFO     | magic_pdf.model.doc_analyze_by_custom_model:doc_analyze:235 - gc time: 0.13\n",
      "2025-03-10 11:58:51.633 | INFO     | magic_pdf.model.doc_analyze_by_custom_model:doc_analyze:239 - doc analyze time: 5.52, speed: 0.18 pages/second\n",
      "2025-03-10 11:58:51.646 | INFO     | magic_pdf.pdf_parse_union_core_v2:pdf_parse_union:946 - page_id: 0, last_page_cost_time: 0.0\n",
      "2025-03-10 11:58:51.654 | WARNING  | magic_pdf.libs.config_reader:get_local_layoutreader_model_dir:74 - 'layoutreader-model-dir' not exists, use /Users/yokumi/.cache/modelscope/hub/ppaanngggg/layoutreader as default\n",
      "2025-03-10 11:58:51.654 | WARNING  | magic_pdf.pdf_parse_union_core_v2:model_init:354 - local layoutreader model not exists, use online model from huggingface\n",
      "2025-03-10 11:58:54.583 | INFO     | magic_pdf.tools.common:do_parse:242 - local output dir is ocr_res/想去的外国/auto\n"
     ]
    },
    {
     "name": "stdout",
     "output_type": "stream",
     "text": [
      "已处理: 想去的外国.jpg\n"
     ]
    },
    {
     "name": "stderr",
     "output_type": "stream",
     "text": [
      "/opt/homebrew/anaconda3/envs/MinerU/lib/python3.10/site-packages/paddle/utils/cpp_extension/extension_utils.py:711: UserWarning: No ccache found. Please be aware that recompiling all source files may be required. You can download and install ccache from: https://github.com/ccache/ccache/blob/master/doc/INSTALL.md\n",
      "  warnings.warn(warning_message)\n"
     ]
    },
    {
     "name": "stdout",
     "output_type": "stream",
     "text": [
      "\u001b[93mimport tensorrt_llm failed, if do not use tensorrt, ignore this message\u001b[0m\n",
      "\u001b[93mimport lmdeploy failed, if do not use lmdeploy, ignore this message\u001b[0m\n"
     ]
    },
    {
     "name": "stderr",
     "output_type": "stream",
     "text": [
      "2025-03-10 11:59:01.810 | INFO     | magic_pdf.data.dataset:__init__:156 - lang: None\n",
      "2025-03-10 11:59:01.869 | INFO     | magic_pdf.libs.pdf_check:detect_invalid_chars:67 - cid_count: 0, text_len: 1, cid_chars_radio: 0.0\n",
      "2025-03-10 11:59:01.869 | WARNING  | magic_pdf.filter.pdf_classify_by_type:classify:335 - OCR needed based on classification result, by_image_area: False, by_text: False, by_avg_words: False, by_img_num: True, by_img_narrow_strips: True, by_invalid_chars: True\n",
      "2025-03-10 11:59:01.870 | INFO     | magic_pdf.model.pdf_extract_kit:__init__:78 - DocAnalysis init, this may take some times, layout_model: doclayout_yolo, apply_formula: True, apply_ocr: True, apply_table: True, table_model: rapid_table, lang: None\n",
      "2025-03-10 11:59:01.870 | INFO     | magic_pdf.model.pdf_extract_kit:__init__:92 - using device: mps\n",
      "2025-03-10 11:59:01.870 | INFO     | magic_pdf.model.pdf_extract_kit:__init__:96 - using models_dir: /Users/yokumi/Documents/MinerU/models--opendatalab--PDF-Extract-Kit-1.0/snapshots/60416a2cabad3f7b7284b43ce37a99864484fba2/models\n"
     ]
    },
    {
     "name": "stdout",
     "output_type": "stream",
     "text": [
      "CustomVisionEncoderDecoderModel init\n",
      "VariableUnimerNetModel init\n",
      "VariableUnimerNetPatchEmbeddings init\n",
      "VariableUnimerNetModel init\n",
      "VariableUnimerNetPatchEmbeddings init\n",
      "CustomMBartForCausalLM init\n",
      "CustomMBartDecoder init\n"
     ]
    },
    {
     "name": "stderr",
     "output_type": "stream",
     "text": [
      "2025-03-10 11:59:09,947 - DownloadModel - DEBUG: /opt/homebrew/anaconda3/envs/MinerU/lib/python3.10/site-packages/rapid_table/models/slanet-plus.onnx already exists\n",
      "[2025-03-10 11:59:09,947] [   DEBUG] download_model.py:34 - /opt/homebrew/anaconda3/envs/MinerU/lib/python3.10/site-packages/rapid_table/models/slanet-plus.onnx already exists\n",
      "2025-03-10 11:59:10.152 | INFO     | magic_pdf.model.pdf_extract_kit:__init__:174 - DocAnalysis init done!\n",
      "2025-03-10 11:59:10.152 | INFO     | magic_pdf.model.doc_analyze_by_custom_model:custom_model_init:128 - model init cost: 8.282603979110718\n",
      "2025-03-10 11:59:11.543 | INFO     | magic_pdf.model.pdf_extract_kit:__call__:210 - layout detection time: 1.34\n",
      "2025-03-10 11:59:13.100 | INFO     | magic_pdf.model.pdf_extract_kit:__call__:216 - mfd time: 1.56\n",
      "2025-03-10 11:59:13.100 | INFO     | magic_pdf.model.pdf_extract_kit:__call__:223 - formula nums: 0, mfr time: 0.0\n",
      "2025-03-10 11:59:14.838 | INFO     | magic_pdf.model.pdf_extract_kit:__call__:255 - ocr time: 1.74\n",
      "2025-03-10 11:59:14.839 | INFO     | magic_pdf.model.pdf_extract_kit:__call__:297 - table time: 0.0\n",
      "2025-03-10 11:59:14.839 | INFO     | magic_pdf.model.doc_analyze_by_custom_model:doc_analyze:224 - -----page_id : 0, page total time: 4.64-----\n",
      "2025-03-10 11:59:14.967 | INFO     | magic_pdf.model.doc_analyze_by_custom_model:doc_analyze:235 - gc time: 0.13\n",
      "2025-03-10 11:59:14.967 | INFO     | magic_pdf.model.doc_analyze_by_custom_model:doc_analyze:239 - doc analyze time: 4.82, speed: 0.21 pages/second\n",
      "2025-03-10 11:59:14.981 | INFO     | magic_pdf.pdf_parse_union_core_v2:pdf_parse_union:946 - page_id: 0, last_page_cost_time: 0.0\n",
      "2025-03-10 11:59:14.989 | WARNING  | magic_pdf.libs.config_reader:get_local_layoutreader_model_dir:74 - 'layoutreader-model-dir' not exists, use /Users/yokumi/.cache/modelscope/hub/ppaanngggg/layoutreader as default\n",
      "2025-03-10 11:59:14.989 | WARNING  | magic_pdf.pdf_parse_union_core_v2:model_init:354 - local layoutreader model not exists, use online model from huggingface\n",
      "2025-03-10 11:59:17.517 | INFO     | magic_pdf.tools.common:do_parse:242 - local output dir is ocr_res/近期改变的计划/auto\n"
     ]
    },
    {
     "name": "stdout",
     "output_type": "stream",
     "text": [
      "已处理: 近期改变的计划.jpg\n"
     ]
    },
    {
     "name": "stderr",
     "output_type": "stream",
     "text": [
      "/opt/homebrew/anaconda3/envs/MinerU/lib/python3.10/site-packages/paddle/utils/cpp_extension/extension_utils.py:711: UserWarning: No ccache found. Please be aware that recompiling all source files may be required. You can download and install ccache from: https://github.com/ccache/ccache/blob/master/doc/INSTALL.md\n",
      "  warnings.warn(warning_message)\n"
     ]
    },
    {
     "name": "stdout",
     "output_type": "stream",
     "text": [
      "\u001b[93mimport tensorrt_llm failed, if do not use tensorrt, ignore this message\u001b[0m\n",
      "\u001b[93mimport lmdeploy failed, if do not use lmdeploy, ignore this message\u001b[0m\n"
     ]
    },
    {
     "name": "stderr",
     "output_type": "stream",
     "text": [
      "2025-03-10 11:59:22.429 | INFO     | magic_pdf.data.dataset:__init__:156 - lang: None\n",
      "2025-03-10 11:59:22.488 | INFO     | magic_pdf.libs.pdf_check:detect_invalid_chars:67 - cid_count: 0, text_len: 1, cid_chars_radio: 0.0\n",
      "2025-03-10 11:59:22.488 | WARNING  | magic_pdf.filter.pdf_classify_by_type:classify:335 - OCR needed based on classification result, by_image_area: False, by_text: False, by_avg_words: False, by_img_num: True, by_img_narrow_strips: True, by_invalid_chars: True\n",
      "2025-03-10 11:59:22.489 | INFO     | magic_pdf.model.pdf_extract_kit:__init__:78 - DocAnalysis init, this may take some times, layout_model: doclayout_yolo, apply_formula: True, apply_ocr: True, apply_table: True, table_model: rapid_table, lang: None\n",
      "2025-03-10 11:59:22.489 | INFO     | magic_pdf.model.pdf_extract_kit:__init__:92 - using device: mps\n",
      "2025-03-10 11:59:22.489 | INFO     | magic_pdf.model.pdf_extract_kit:__init__:96 - using models_dir: /Users/yokumi/Documents/MinerU/models--opendatalab--PDF-Extract-Kit-1.0/snapshots/60416a2cabad3f7b7284b43ce37a99864484fba2/models\n"
     ]
    },
    {
     "name": "stdout",
     "output_type": "stream",
     "text": [
      "CustomVisionEncoderDecoderModel init\n",
      "VariableUnimerNetModel init\n",
      "VariableUnimerNetPatchEmbeddings init\n",
      "VariableUnimerNetModel init\n",
      "VariableUnimerNetPatchEmbeddings init\n",
      "CustomMBartForCausalLM init\n",
      "CustomMBartDecoder init\n"
     ]
    },
    {
     "name": "stderr",
     "output_type": "stream",
     "text": [
      "2025-03-10 11:59:30,588 - DownloadModel - DEBUG: /opt/homebrew/anaconda3/envs/MinerU/lib/python3.10/site-packages/rapid_table/models/slanet-plus.onnx already exists\n",
      "[2025-03-10 11:59:30,588] [   DEBUG] download_model.py:34 - /opt/homebrew/anaconda3/envs/MinerU/lib/python3.10/site-packages/rapid_table/models/slanet-plus.onnx already exists\n",
      "2025-03-10 11:59:30.789 | INFO     | magic_pdf.model.pdf_extract_kit:__init__:174 - DocAnalysis init done!\n",
      "2025-03-10 11:59:30.789 | INFO     | magic_pdf.model.doc_analyze_by_custom_model:custom_model_init:128 - model init cost: 8.30162525177002\n",
      "2025-03-10 11:59:32.188 | INFO     | magic_pdf.model.pdf_extract_kit:__call__:210 - layout detection time: 1.35\n",
      "2025-03-10 11:59:33.757 | INFO     | magic_pdf.model.pdf_extract_kit:__call__:216 - mfd time: 1.57\n",
      "2025-03-10 11:59:33.757 | INFO     | magic_pdf.model.pdf_extract_kit:__call__:223 - formula nums: 0, mfr time: 0.0\n",
      "2025-03-10 11:59:36.095 | INFO     | magic_pdf.model.pdf_extract_kit:__call__:255 - ocr time: 2.34\n",
      "2025-03-10 11:59:36.095 | INFO     | magic_pdf.model.pdf_extract_kit:__call__:297 - table time: 0.0\n",
      "2025-03-10 11:59:36.096 | INFO     | magic_pdf.model.doc_analyze_by_custom_model:doc_analyze:224 - -----page_id : 0, page total time: 5.26-----\n",
      "2025-03-10 11:59:36.224 | INFO     | magic_pdf.model.doc_analyze_by_custom_model:doc_analyze:235 - gc time: 0.13\n",
      "2025-03-10 11:59:36.224 | INFO     | magic_pdf.model.doc_analyze_by_custom_model:doc_analyze:239 - doc analyze time: 5.43, speed: 0.18 pages/second\n",
      "2025-03-10 11:59:36.237 | INFO     | magic_pdf.pdf_parse_union_core_v2:pdf_parse_union:946 - page_id: 0, last_page_cost_time: 0.0\n",
      "2025-03-10 11:59:36.244 | WARNING  | magic_pdf.libs.config_reader:get_local_layoutreader_model_dir:74 - 'layoutreader-model-dir' not exists, use /Users/yokumi/.cache/modelscope/hub/ppaanngggg/layoutreader as default\n",
      "2025-03-10 11:59:36.244 | WARNING  | magic_pdf.pdf_parse_union_core_v2:model_init:354 - local layoutreader model not exists, use online model from huggingface\n",
      "2025-03-10 11:59:38.580 | INFO     | magic_pdf.tools.common:do_parse:242 - local output dir is ocr_res/有趣的建筑/auto\n"
     ]
    },
    {
     "name": "stdout",
     "output_type": "stream",
     "text": [
      "已处理: 有趣的建筑.jpg\n"
     ]
    },
    {
     "name": "stderr",
     "output_type": "stream",
     "text": [
      "/opt/homebrew/anaconda3/envs/MinerU/lib/python3.10/site-packages/paddle/utils/cpp_extension/extension_utils.py:711: UserWarning: No ccache found. Please be aware that recompiling all source files may be required. You can download and install ccache from: https://github.com/ccache/ccache/blob/master/doc/INSTALL.md\n",
      "  warnings.warn(warning_message)\n"
     ]
    },
    {
     "name": "stdout",
     "output_type": "stream",
     "text": [
      "\u001b[93mimport tensorrt_llm failed, if do not use tensorrt, ignore this message\u001b[0m\n",
      "\u001b[93mimport lmdeploy failed, if do not use lmdeploy, ignore this message\u001b[0m\n"
     ]
    },
    {
     "name": "stderr",
     "output_type": "stream",
     "text": [
      "2025-03-10 11:59:45.533 | INFO     | magic_pdf.data.dataset:__init__:156 - lang: None\n",
      "2025-03-10 11:59:45.592 | INFO     | magic_pdf.libs.pdf_check:detect_invalid_chars:67 - cid_count: 0, text_len: 1, cid_chars_radio: 0.0\n",
      "2025-03-10 11:59:45.593 | WARNING  | magic_pdf.filter.pdf_classify_by_type:classify:335 - OCR needed based on classification result, by_image_area: False, by_text: False, by_avg_words: False, by_img_num: True, by_img_narrow_strips: True, by_invalid_chars: True\n",
      "2025-03-10 11:59:45.594 | INFO     | magic_pdf.model.pdf_extract_kit:__init__:78 - DocAnalysis init, this may take some times, layout_model: doclayout_yolo, apply_formula: True, apply_ocr: True, apply_table: True, table_model: rapid_table, lang: None\n",
      "2025-03-10 11:59:45.594 | INFO     | magic_pdf.model.pdf_extract_kit:__init__:92 - using device: mps\n",
      "2025-03-10 11:59:45.594 | INFO     | magic_pdf.model.pdf_extract_kit:__init__:96 - using models_dir: /Users/yokumi/Documents/MinerU/models--opendatalab--PDF-Extract-Kit-1.0/snapshots/60416a2cabad3f7b7284b43ce37a99864484fba2/models\n"
     ]
    },
    {
     "name": "stdout",
     "output_type": "stream",
     "text": [
      "CustomVisionEncoderDecoderModel init\n",
      "VariableUnimerNetModel init\n",
      "VariableUnimerNetPatchEmbeddings init\n",
      "VariableUnimerNetModel init\n",
      "VariableUnimerNetPatchEmbeddings init\n",
      "CustomMBartForCausalLM init\n",
      "CustomMBartDecoder init\n"
     ]
    },
    {
     "name": "stderr",
     "output_type": "stream",
     "text": [
      "2025-03-10 11:59:53,695 - DownloadModel - DEBUG: /opt/homebrew/anaconda3/envs/MinerU/lib/python3.10/site-packages/rapid_table/models/slanet-plus.onnx already exists\n",
      "[2025-03-10 11:59:53,695] [   DEBUG] download_model.py:34 - /opt/homebrew/anaconda3/envs/MinerU/lib/python3.10/site-packages/rapid_table/models/slanet-plus.onnx already exists\n",
      "2025-03-10 11:59:53.911 | INFO     | magic_pdf.model.pdf_extract_kit:__init__:174 - DocAnalysis init done!\n",
      "2025-03-10 11:59:53.911 | INFO     | magic_pdf.model.doc_analyze_by_custom_model:custom_model_init:128 - model init cost: 8.31818413734436\n",
      "2025-03-10 11:59:55.334 | INFO     | magic_pdf.model.pdf_extract_kit:__call__:210 - layout detection time: 1.37\n",
      "2025-03-10 11:59:56.924 | INFO     | magic_pdf.model.pdf_extract_kit:__call__:216 - mfd time: 1.59\n",
      "2025-03-10 11:59:56.925 | INFO     | magic_pdf.model.pdf_extract_kit:__call__:223 - formula nums: 0, mfr time: 0.0\n",
      "2025-03-10 11:59:59.499 | INFO     | magic_pdf.model.pdf_extract_kit:__call__:255 - ocr time: 2.57\n",
      "2025-03-10 11:59:59.499 | INFO     | magic_pdf.model.pdf_extract_kit:__call__:297 - table time: 0.0\n",
      "2025-03-10 11:59:59.500 | INFO     | magic_pdf.model.doc_analyze_by_custom_model:doc_analyze:224 - -----page_id : 0, page total time: 5.54-----\n",
      "2025-03-10 11:59:59.634 | INFO     | magic_pdf.model.doc_analyze_by_custom_model:doc_analyze:235 - gc time: 0.13\n",
      "2025-03-10 11:59:59.634 | INFO     | magic_pdf.model.doc_analyze_by_custom_model:doc_analyze:239 - doc analyze time: 5.72, speed: 0.17 pages/second\n",
      "2025-03-10 11:59:59.648 | INFO     | magic_pdf.pdf_parse_union_core_v2:pdf_parse_union:946 - page_id: 0, last_page_cost_time: 0.0\n",
      "2025-03-10 11:59:59.655 | WARNING  | magic_pdf.libs.config_reader:get_local_layoutreader_model_dir:74 - 'layoutreader-model-dir' not exists, use /Users/yokumi/.cache/modelscope/hub/ppaanngggg/layoutreader as default\n",
      "2025-03-10 11:59:59.655 | WARNING  | magic_pdf.pdf_parse_union_core_v2:model_init:354 - local layoutreader model not exists, use online model from huggingface\n",
      "2025-03-10 12:00:02.533 | INFO     | magic_pdf.tools.common:do_parse:242 - local output dir is ocr_res/祖辈工作/auto\n"
     ]
    },
    {
     "name": "stdout",
     "output_type": "stream",
     "text": [
      "已处理: 祖辈工作.jpg\n"
     ]
    },
    {
     "name": "stderr",
     "output_type": "stream",
     "text": [
      "/opt/homebrew/anaconda3/envs/MinerU/lib/python3.10/site-packages/paddle/utils/cpp_extension/extension_utils.py:711: UserWarning: No ccache found. Please be aware that recompiling all source files may be required. You can download and install ccache from: https://github.com/ccache/ccache/blob/master/doc/INSTALL.md\n",
      "  warnings.warn(warning_message)\n"
     ]
    },
    {
     "name": "stdout",
     "output_type": "stream",
     "text": [
      "\u001b[93mimport tensorrt_llm failed, if do not use tensorrt, ignore this message\u001b[0m\n",
      "\u001b[93mimport lmdeploy failed, if do not use lmdeploy, ignore this message\u001b[0m\n"
     ]
    },
    {
     "name": "stderr",
     "output_type": "stream",
     "text": [
      "2025-03-10 12:00:07.502 | INFO     | magic_pdf.data.dataset:__init__:156 - lang: None\n",
      "2025-03-10 12:00:07.561 | INFO     | magic_pdf.libs.pdf_check:detect_invalid_chars:67 - cid_count: 0, text_len: 1, cid_chars_radio: 0.0\n",
      "2025-03-10 12:00:07.561 | WARNING  | magic_pdf.filter.pdf_classify_by_type:classify:335 - OCR needed based on classification result, by_image_area: False, by_text: False, by_avg_words: False, by_img_num: True, by_img_narrow_strips: True, by_invalid_chars: True\n",
      "2025-03-10 12:00:07.563 | INFO     | magic_pdf.model.pdf_extract_kit:__init__:78 - DocAnalysis init, this may take some times, layout_model: doclayout_yolo, apply_formula: True, apply_ocr: True, apply_table: True, table_model: rapid_table, lang: None\n",
      "2025-03-10 12:00:07.563 | INFO     | magic_pdf.model.pdf_extract_kit:__init__:92 - using device: mps\n",
      "2025-03-10 12:00:07.563 | INFO     | magic_pdf.model.pdf_extract_kit:__init__:96 - using models_dir: /Users/yokumi/Documents/MinerU/models--opendatalab--PDF-Extract-Kit-1.0/snapshots/60416a2cabad3f7b7284b43ce37a99864484fba2/models\n"
     ]
    },
    {
     "name": "stdout",
     "output_type": "stream",
     "text": [
      "CustomVisionEncoderDecoderModel init\n",
      "VariableUnimerNetModel init\n",
      "VariableUnimerNetPatchEmbeddings init\n",
      "VariableUnimerNetModel init\n",
      "VariableUnimerNetPatchEmbeddings init\n",
      "CustomMBartForCausalLM init\n",
      "CustomMBartDecoder init\n"
     ]
    },
    {
     "name": "stderr",
     "output_type": "stream",
     "text": [
      "2025-03-10 12:00:15,671 - DownloadModel - DEBUG: /opt/homebrew/anaconda3/envs/MinerU/lib/python3.10/site-packages/rapid_table/models/slanet-plus.onnx already exists\n",
      "[2025-03-10 12:00:15,671] [   DEBUG] download_model.py:34 - /opt/homebrew/anaconda3/envs/MinerU/lib/python3.10/site-packages/rapid_table/models/slanet-plus.onnx already exists\n",
      "2025-03-10 12:00:15.875 | INFO     | magic_pdf.model.pdf_extract_kit:__init__:174 - DocAnalysis init done!\n",
      "2025-03-10 12:00:15.875 | INFO     | magic_pdf.model.doc_analyze_by_custom_model:custom_model_init:128 - model init cost: 8.31397819519043\n",
      "2025-03-10 12:00:17.280 | INFO     | magic_pdf.model.pdf_extract_kit:__call__:210 - layout detection time: 1.35\n",
      "2025-03-10 12:00:18.856 | INFO     | magic_pdf.model.pdf_extract_kit:__call__:216 - mfd time: 1.58\n",
      "2025-03-10 12:00:18.856 | INFO     | magic_pdf.model.pdf_extract_kit:__call__:223 - formula nums: 0, mfr time: 0.0\n",
      "2025-03-10 12:00:21.028 | INFO     | magic_pdf.model.pdf_extract_kit:__call__:255 - ocr time: 2.17\n",
      "2025-03-10 12:00:21.028 | INFO     | magic_pdf.model.pdf_extract_kit:__call__:297 - table time: 0.0\n",
      "2025-03-10 12:00:21.029 | INFO     | magic_pdf.model.doc_analyze_by_custom_model:doc_analyze:224 - -----page_id : 0, page total time: 5.11-----\n",
      "2025-03-10 12:00:21.156 | INFO     | magic_pdf.model.doc_analyze_by_custom_model:doc_analyze:235 - gc time: 0.13\n",
      "2025-03-10 12:00:21.156 | INFO     | magic_pdf.model.doc_analyze_by_custom_model:doc_analyze:239 - doc analyze time: 5.28, speed: 0.19 pages/second\n",
      "2025-03-10 12:00:21.170 | INFO     | magic_pdf.pdf_parse_union_core_v2:pdf_parse_union:946 - page_id: 0, last_page_cost_time: 0.0\n",
      "2025-03-10 12:00:21.177 | WARNING  | magic_pdf.libs.config_reader:get_local_layoutreader_model_dir:74 - 'layoutreader-model-dir' not exists, use /Users/yokumi/.cache/modelscope/hub/ppaanngggg/layoutreader as default\n",
      "2025-03-10 12:00:21.177 | WARNING  | magic_pdf.pdf_parse_union_core_v2:model_init:354 - local layoutreader model not exists, use online model from huggingface\n",
      "2025-03-10 12:00:24.036 | INFO     | magic_pdf.tools.common:do_parse:242 - local output dir is ocr_res/陌生人的电话/auto\n"
     ]
    },
    {
     "name": "stdout",
     "output_type": "stream",
     "text": [
      "已处理: 陌生人的电话.jpg\n"
     ]
    },
    {
     "name": "stderr",
     "output_type": "stream",
     "text": [
      "/opt/homebrew/anaconda3/envs/MinerU/lib/python3.10/site-packages/paddle/utils/cpp_extension/extension_utils.py:711: UserWarning: No ccache found. Please be aware that recompiling all source files may be required. You can download and install ccache from: https://github.com/ccache/ccache/blob/master/doc/INSTALL.md\n",
      "  warnings.warn(warning_message)\n"
     ]
    },
    {
     "name": "stdout",
     "output_type": "stream",
     "text": [
      "\u001b[93mimport tensorrt_llm failed, if do not use tensorrt, ignore this message\u001b[0m\n",
      "\u001b[93mimport lmdeploy failed, if do not use lmdeploy, ignore this message\u001b[0m\n"
     ]
    },
    {
     "name": "stderr",
     "output_type": "stream",
     "text": [
      "2025-03-10 12:00:30.946 | INFO     | magic_pdf.data.dataset:__init__:156 - lang: None\n",
      "2025-03-10 12:00:31.005 | INFO     | magic_pdf.libs.pdf_check:detect_invalid_chars:67 - cid_count: 0, text_len: 1, cid_chars_radio: 0.0\n",
      "2025-03-10 12:00:31.005 | WARNING  | magic_pdf.filter.pdf_classify_by_type:classify:335 - OCR needed based on classification result, by_image_area: False, by_text: False, by_avg_words: False, by_img_num: True, by_img_narrow_strips: True, by_invalid_chars: True\n",
      "2025-03-10 12:00:31.007 | INFO     | magic_pdf.model.pdf_extract_kit:__init__:78 - DocAnalysis init, this may take some times, layout_model: doclayout_yolo, apply_formula: True, apply_ocr: True, apply_table: True, table_model: rapid_table, lang: None\n",
      "2025-03-10 12:00:31.007 | INFO     | magic_pdf.model.pdf_extract_kit:__init__:92 - using device: mps\n",
      "2025-03-10 12:00:31.007 | INFO     | magic_pdf.model.pdf_extract_kit:__init__:96 - using models_dir: /Users/yokumi/Documents/MinerU/models--opendatalab--PDF-Extract-Kit-1.0/snapshots/60416a2cabad3f7b7284b43ce37a99864484fba2/models\n"
     ]
    },
    {
     "name": "stdout",
     "output_type": "stream",
     "text": [
      "CustomVisionEncoderDecoderModel init\n",
      "VariableUnimerNetModel init\n",
      "VariableUnimerNetPatchEmbeddings init\n",
      "VariableUnimerNetModel init\n",
      "VariableUnimerNetPatchEmbeddings init\n",
      "CustomMBartForCausalLM init\n",
      "CustomMBartDecoder init\n"
     ]
    },
    {
     "name": "stderr",
     "output_type": "stream",
     "text": [
      "2025-03-10 12:00:39,130 - DownloadModel - DEBUG: /opt/homebrew/anaconda3/envs/MinerU/lib/python3.10/site-packages/rapid_table/models/slanet-plus.onnx already exists\n",
      "[2025-03-10 12:00:39,130] [   DEBUG] download_model.py:34 - /opt/homebrew/anaconda3/envs/MinerU/lib/python3.10/site-packages/rapid_table/models/slanet-plus.onnx already exists\n",
      "2025-03-10 12:00:39.336 | INFO     | magic_pdf.model.pdf_extract_kit:__init__:174 - DocAnalysis init done!\n",
      "2025-03-10 12:00:39.336 | INFO     | magic_pdf.model.doc_analyze_by_custom_model:custom_model_init:128 - model init cost: 8.33047103881836\n",
      "2025-03-10 12:00:40.746 | INFO     | magic_pdf.model.pdf_extract_kit:__call__:210 - layout detection time: 1.36\n",
      "2025-03-10 12:00:42.356 | INFO     | magic_pdf.model.pdf_extract_kit:__call__:216 - mfd time: 1.61\n",
      "2025-03-10 12:00:42.357 | INFO     | magic_pdf.model.pdf_extract_kit:__call__:223 - formula nums: 0, mfr time: 0.0\n",
      "2025-03-10 12:00:44.578 | INFO     | magic_pdf.model.pdf_extract_kit:__call__:255 - ocr time: 2.22\n",
      "2025-03-10 12:00:44.578 | INFO     | magic_pdf.model.pdf_extract_kit:__call__:297 - table time: 0.0\n",
      "2025-03-10 12:00:44.578 | INFO     | magic_pdf.model.doc_analyze_by_custom_model:doc_analyze:224 - -----page_id : 0, page total time: 5.2-----\n",
      "2025-03-10 12:00:44.707 | INFO     | magic_pdf.model.doc_analyze_by_custom_model:doc_analyze:235 - gc time: 0.13\n",
      "2025-03-10 12:00:44.707 | INFO     | magic_pdf.model.doc_analyze_by_custom_model:doc_analyze:239 - doc analyze time: 5.37, speed: 0.19 pages/second\n",
      "2025-03-10 12:00:44.720 | INFO     | magic_pdf.pdf_parse_union_core_v2:pdf_parse_union:946 - page_id: 0, last_page_cost_time: 0.0\n",
      "2025-03-10 12:00:44.727 | WARNING  | magic_pdf.libs.config_reader:get_local_layoutreader_model_dir:74 - 'layoutreader-model-dir' not exists, use /Users/yokumi/.cache/modelscope/hub/ppaanngggg/layoutreader as default\n",
      "2025-03-10 12:00:44.727 | WARNING  | magic_pdf.pdf_parse_union_core_v2:model_init:354 - local layoutreader model not exists, use online model from huggingface\n",
      "2025-03-10 12:00:47.366 | INFO     | magic_pdf.tools.common:do_parse:242 - local output dir is ocr_res/和你分享东西的人/auto\n"
     ]
    },
    {
     "name": "stdout",
     "output_type": "stream",
     "text": [
      "已处理: 和你分享东西的人.jpg\n"
     ]
    },
    {
     "name": "stderr",
     "output_type": "stream",
     "text": [
      "/opt/homebrew/anaconda3/envs/MinerU/lib/python3.10/site-packages/paddle/utils/cpp_extension/extension_utils.py:711: UserWarning: No ccache found. Please be aware that recompiling all source files may be required. You can download and install ccache from: https://github.com/ccache/ccache/blob/master/doc/INSTALL.md\n",
      "  warnings.warn(warning_message)\n"
     ]
    },
    {
     "name": "stdout",
     "output_type": "stream",
     "text": [
      "\u001b[93mimport tensorrt_llm failed, if do not use tensorrt, ignore this message\u001b[0m\n",
      "\u001b[93mimport lmdeploy failed, if do not use lmdeploy, ignore this message\u001b[0m\n"
     ]
    },
    {
     "name": "stderr",
     "output_type": "stream",
     "text": [
      "2025-03-10 12:00:52.435 | INFO     | magic_pdf.data.dataset:__init__:156 - lang: None\n",
      "2025-03-10 12:00:52.494 | INFO     | magic_pdf.libs.pdf_check:detect_invalid_chars:67 - cid_count: 0, text_len: 1, cid_chars_radio: 0.0\n",
      "2025-03-10 12:00:52.494 | WARNING  | magic_pdf.filter.pdf_classify_by_type:classify:335 - OCR needed based on classification result, by_image_area: False, by_text: False, by_avg_words: False, by_img_num: True, by_img_narrow_strips: True, by_invalid_chars: True\n",
      "2025-03-10 12:00:52.496 | INFO     | magic_pdf.model.pdf_extract_kit:__init__:78 - DocAnalysis init, this may take some times, layout_model: doclayout_yolo, apply_formula: True, apply_ocr: True, apply_table: True, table_model: rapid_table, lang: None\n",
      "2025-03-10 12:00:52.496 | INFO     | magic_pdf.model.pdf_extract_kit:__init__:92 - using device: mps\n",
      "2025-03-10 12:00:52.496 | INFO     | magic_pdf.model.pdf_extract_kit:__init__:96 - using models_dir: /Users/yokumi/Documents/MinerU/models--opendatalab--PDF-Extract-Kit-1.0/snapshots/60416a2cabad3f7b7284b43ce37a99864484fba2/models\n"
     ]
    },
    {
     "name": "stdout",
     "output_type": "stream",
     "text": [
      "CustomVisionEncoderDecoderModel init\n",
      "VariableUnimerNetModel init\n",
      "VariableUnimerNetPatchEmbeddings init\n",
      "VariableUnimerNetModel init\n",
      "VariableUnimerNetPatchEmbeddings init\n",
      "CustomMBartForCausalLM init\n",
      "CustomMBartDecoder init\n"
     ]
    },
    {
     "name": "stderr",
     "output_type": "stream",
     "text": [
      "2025-03-10 12:01:00,675 - DownloadModel - DEBUG: /opt/homebrew/anaconda3/envs/MinerU/lib/python3.10/site-packages/rapid_table/models/slanet-plus.onnx already exists\n",
      "[2025-03-10 12:01:00,675] [   DEBUG] download_model.py:34 - /opt/homebrew/anaconda3/envs/MinerU/lib/python3.10/site-packages/rapid_table/models/slanet-plus.onnx already exists\n",
      "2025-03-10 12:01:00.877 | INFO     | magic_pdf.model.pdf_extract_kit:__init__:174 - DocAnalysis init done!\n",
      "2025-03-10 12:01:00.877 | INFO     | magic_pdf.model.doc_analyze_by_custom_model:custom_model_init:128 - model init cost: 8.382342100143433\n",
      "2025-03-10 12:01:02.332 | INFO     | magic_pdf.model.pdf_extract_kit:__call__:210 - layout detection time: 1.41\n",
      "2025-03-10 12:01:04.057 | INFO     | magic_pdf.model.pdf_extract_kit:__call__:216 - mfd time: 1.73\n",
      "2025-03-10 12:01:04.058 | INFO     | magic_pdf.model.pdf_extract_kit:__call__:223 - formula nums: 0, mfr time: 0.0\n",
      "2025-03-10 12:01:05.828 | INFO     | magic_pdf.model.pdf_extract_kit:__call__:255 - ocr time: 1.77\n",
      "2025-03-10 12:01:05.828 | INFO     | magic_pdf.model.pdf_extract_kit:__call__:297 - table time: 0.0\n",
      "2025-03-10 12:01:05.829 | INFO     | magic_pdf.model.doc_analyze_by_custom_model:doc_analyze:224 - -----page_id : 0, page total time: 4.91-----\n",
      "2025-03-10 12:01:05.974 | INFO     | magic_pdf.model.doc_analyze_by_custom_model:doc_analyze:235 - gc time: 0.14\n",
      "2025-03-10 12:01:05.974 | INFO     | magic_pdf.model.doc_analyze_by_custom_model:doc_analyze:239 - doc analyze time: 5.1, speed: 0.2 pages/second\n",
      "2025-03-10 12:01:05.988 | INFO     | magic_pdf.pdf_parse_union_core_v2:pdf_parse_union:946 - page_id: 0, last_page_cost_time: 0.0\n",
      "2025-03-10 12:01:05.993 | WARNING  | magic_pdf.libs.config_reader:get_local_layoutreader_model_dir:74 - 'layoutreader-model-dir' not exists, use /Users/yokumi/.cache/modelscope/hub/ppaanngggg/layoutreader as default\n",
      "2025-03-10 12:01:05.993 | WARNING  | magic_pdf.pdf_parse_union_core_v2:model_init:354 - local layoutreader model not exists, use online model from huggingface\n",
      "2025-03-10 12:01:08.640 | INFO     | magic_pdf.tools.common:do_parse:242 - local output dir is ocr_res/最喜欢的运动/auto\n"
     ]
    },
    {
     "name": "stdout",
     "output_type": "stream",
     "text": [
      "已处理: 最喜欢的运动.jpg\n"
     ]
    },
    {
     "name": "stderr",
     "output_type": "stream",
     "text": [
      "/opt/homebrew/anaconda3/envs/MinerU/lib/python3.10/site-packages/paddle/utils/cpp_extension/extension_utils.py:711: UserWarning: No ccache found. Please be aware that recompiling all source files may be required. You can download and install ccache from: https://github.com/ccache/ccache/blob/master/doc/INSTALL.md\n",
      "  warnings.warn(warning_message)\n"
     ]
    },
    {
     "name": "stdout",
     "output_type": "stream",
     "text": [
      "\u001b[93mimport tensorrt_llm failed, if do not use tensorrt, ignore this message\u001b[0m\n",
      "\u001b[93mimport lmdeploy failed, if do not use lmdeploy, ignore this message\u001b[0m\n"
     ]
    },
    {
     "name": "stderr",
     "output_type": "stream",
     "text": [
      "2025-03-10 12:01:13.748 | INFO     | magic_pdf.data.dataset:__init__:156 - lang: None\n",
      "2025-03-10 12:01:13.808 | INFO     | magic_pdf.libs.pdf_check:detect_invalid_chars:67 - cid_count: 0, text_len: 1, cid_chars_radio: 0.0\n",
      "2025-03-10 12:01:13.808 | WARNING  | magic_pdf.filter.pdf_classify_by_type:classify:335 - OCR needed based on classification result, by_image_area: False, by_text: False, by_avg_words: False, by_img_num: True, by_img_narrow_strips: True, by_invalid_chars: True\n",
      "2025-03-10 12:01:13.809 | INFO     | magic_pdf.model.pdf_extract_kit:__init__:78 - DocAnalysis init, this may take some times, layout_model: doclayout_yolo, apply_formula: True, apply_ocr: True, apply_table: True, table_model: rapid_table, lang: None\n",
      "2025-03-10 12:01:13.809 | INFO     | magic_pdf.model.pdf_extract_kit:__init__:92 - using device: mps\n",
      "2025-03-10 12:01:13.809 | INFO     | magic_pdf.model.pdf_extract_kit:__init__:96 - using models_dir: /Users/yokumi/Documents/MinerU/models--opendatalab--PDF-Extract-Kit-1.0/snapshots/60416a2cabad3f7b7284b43ce37a99864484fba2/models\n"
     ]
    },
    {
     "name": "stdout",
     "output_type": "stream",
     "text": [
      "CustomVisionEncoderDecoderModel init\n",
      "VariableUnimerNetModel init\n",
      "VariableUnimerNetPatchEmbeddings init\n",
      "VariableUnimerNetModel init\n",
      "VariableUnimerNetPatchEmbeddings init\n",
      "CustomMBartForCausalLM init\n",
      "CustomMBartDecoder init\n"
     ]
    },
    {
     "name": "stderr",
     "output_type": "stream",
     "text": [
      "2025-03-10 12:01:21,937 - DownloadModel - DEBUG: /opt/homebrew/anaconda3/envs/MinerU/lib/python3.10/site-packages/rapid_table/models/slanet-plus.onnx already exists\n",
      "[2025-03-10 12:01:21,937] [   DEBUG] download_model.py:34 - /opt/homebrew/anaconda3/envs/MinerU/lib/python3.10/site-packages/rapid_table/models/slanet-plus.onnx already exists\n",
      "2025-03-10 12:01:22.150 | INFO     | magic_pdf.model.pdf_extract_kit:__init__:174 - DocAnalysis init done!\n",
      "2025-03-10 12:01:22.150 | INFO     | magic_pdf.model.doc_analyze_by_custom_model:custom_model_init:128 - model init cost: 8.341336965560913\n",
      "2025-03-10 12:01:23.593 | INFO     | magic_pdf.model.pdf_extract_kit:__call__:210 - layout detection time: 1.39\n",
      "2025-03-10 12:01:25.240 | INFO     | magic_pdf.model.pdf_extract_kit:__call__:216 - mfd time: 1.65\n",
      "2025-03-10 12:01:25.242 | INFO     | magic_pdf.model.pdf_extract_kit:__call__:223 - formula nums: 0, mfr time: 0.0\n",
      "2025-03-10 12:01:27.902 | INFO     | magic_pdf.model.pdf_extract_kit:__call__:255 - ocr time: 2.66\n",
      "2025-03-10 12:01:27.902 | INFO     | magic_pdf.model.pdf_extract_kit:__call__:297 - table time: 0.0\n",
      "2025-03-10 12:01:27.903 | INFO     | magic_pdf.model.doc_analyze_by_custom_model:doc_analyze:224 - -----page_id : 0, page total time: 5.71-----\n",
      "2025-03-10 12:01:28.043 | INFO     | magic_pdf.model.doc_analyze_by_custom_model:doc_analyze:235 - gc time: 0.14\n",
      "2025-03-10 12:01:28.043 | INFO     | magic_pdf.model.doc_analyze_by_custom_model:doc_analyze:239 - doc analyze time: 5.89, speed: 0.17 pages/second\n",
      "2025-03-10 12:01:28.056 | INFO     | magic_pdf.pdf_parse_union_core_v2:pdf_parse_union:946 - page_id: 0, last_page_cost_time: 0.0\n",
      "2025-03-10 12:01:28.064 | WARNING  | magic_pdf.libs.config_reader:get_local_layoutreader_model_dir:74 - 'layoutreader-model-dir' not exists, use /Users/yokumi/.cache/modelscope/hub/ppaanngggg/layoutreader as default\n",
      "2025-03-10 12:01:28.064 | WARNING  | magic_pdf.pdf_parse_union_core_v2:model_init:354 - local layoutreader model not exists, use online model from huggingface\n",
      "2025-03-10 12:01:30.996 | INFO     | magic_pdf.tools.common:do_parse:242 - local output dir is ocr_res/精力充沛的人/auto\n"
     ]
    },
    {
     "name": "stdout",
     "output_type": "stream",
     "text": [
      "已处理: 精力充沛的人.jpg\n"
     ]
    },
    {
     "name": "stderr",
     "output_type": "stream",
     "text": [
      "/opt/homebrew/anaconda3/envs/MinerU/lib/python3.10/site-packages/paddle/utils/cpp_extension/extension_utils.py:711: UserWarning: No ccache found. Please be aware that recompiling all source files may be required. You can download and install ccache from: https://github.com/ccache/ccache/blob/master/doc/INSTALL.md\n",
      "  warnings.warn(warning_message)\n"
     ]
    },
    {
     "name": "stdout",
     "output_type": "stream",
     "text": [
      "\u001b[93mimport tensorrt_llm failed, if do not use tensorrt, ignore this message\u001b[0m\n",
      "\u001b[93mimport lmdeploy failed, if do not use lmdeploy, ignore this message\u001b[0m\n"
     ]
    },
    {
     "name": "stderr",
     "output_type": "stream",
     "text": [
      "2025-03-10 12:01:35.973 | INFO     | magic_pdf.data.dataset:__init__:156 - lang: None\n",
      "2025-03-10 12:01:36.033 | INFO     | magic_pdf.libs.pdf_check:detect_invalid_chars:67 - cid_count: 0, text_len: 1, cid_chars_radio: 0.0\n",
      "2025-03-10 12:01:36.033 | WARNING  | magic_pdf.filter.pdf_classify_by_type:classify:335 - OCR needed based on classification result, by_image_area: False, by_text: False, by_avg_words: False, by_img_num: True, by_img_narrow_strips: True, by_invalid_chars: True\n",
      "2025-03-10 12:01:36.034 | INFO     | magic_pdf.model.pdf_extract_kit:__init__:78 - DocAnalysis init, this may take some times, layout_model: doclayout_yolo, apply_formula: True, apply_ocr: True, apply_table: True, table_model: rapid_table, lang: None\n",
      "2025-03-10 12:01:36.034 | INFO     | magic_pdf.model.pdf_extract_kit:__init__:92 - using device: mps\n",
      "2025-03-10 12:01:36.034 | INFO     | magic_pdf.model.pdf_extract_kit:__init__:96 - using models_dir: /Users/yokumi/Documents/MinerU/models--opendatalab--PDF-Extract-Kit-1.0/snapshots/60416a2cabad3f7b7284b43ce37a99864484fba2/models\n"
     ]
    },
    {
     "name": "stdout",
     "output_type": "stream",
     "text": [
      "CustomVisionEncoderDecoderModel init\n",
      "VariableUnimerNetModel init\n",
      "VariableUnimerNetPatchEmbeddings init\n",
      "VariableUnimerNetModel init\n",
      "VariableUnimerNetPatchEmbeddings init\n",
      "CustomMBartForCausalLM init\n",
      "CustomMBartDecoder init\n"
     ]
    },
    {
     "name": "stderr",
     "output_type": "stream",
     "text": [
      "2025-03-10 12:01:44,112 - DownloadModel - DEBUG: /opt/homebrew/anaconda3/envs/MinerU/lib/python3.10/site-packages/rapid_table/models/slanet-plus.onnx already exists\n",
      "[2025-03-10 12:01:44,112] [   DEBUG] download_model.py:34 - /opt/homebrew/anaconda3/envs/MinerU/lib/python3.10/site-packages/rapid_table/models/slanet-plus.onnx already exists\n",
      "2025-03-10 12:01:44.316 | INFO     | magic_pdf.model.pdf_extract_kit:__init__:174 - DocAnalysis init done!\n",
      "2025-03-10 12:01:44.316 | INFO     | magic_pdf.model.doc_analyze_by_custom_model:custom_model_init:128 - model init cost: 8.28276014328003\n",
      "2025-03-10 12:01:45.758 | INFO     | magic_pdf.model.pdf_extract_kit:__call__:210 - layout detection time: 1.39\n",
      "2025-03-10 12:01:47.362 | INFO     | magic_pdf.model.pdf_extract_kit:__call__:216 - mfd time: 1.6\n",
      "2025-03-10 12:01:47.362 | INFO     | magic_pdf.model.pdf_extract_kit:__call__:223 - formula nums: 0, mfr time: 0.0\n",
      "2025-03-10 12:01:49.760 | INFO     | magic_pdf.model.pdf_extract_kit:__call__:255 - ocr time: 2.4\n",
      "2025-03-10 12:01:49.760 | INFO     | magic_pdf.model.pdf_extract_kit:__call__:297 - table time: 0.0\n",
      "2025-03-10 12:01:49.760 | INFO     | magic_pdf.model.doc_analyze_by_custom_model:doc_analyze:224 - -----page_id : 0, page total time: 5.4-----\n",
      "2025-03-10 12:01:49.890 | INFO     | magic_pdf.model.doc_analyze_by_custom_model:doc_analyze:235 - gc time: 0.13\n",
      "2025-03-10 12:01:49.890 | INFO     | magic_pdf.model.doc_analyze_by_custom_model:doc_analyze:239 - doc analyze time: 5.57, speed: 0.18 pages/second\n",
      "2025-03-10 12:01:49.904 | INFO     | magic_pdf.pdf_parse_union_core_v2:pdf_parse_union:946 - page_id: 0, last_page_cost_time: 0.0\n",
      "2025-03-10 12:01:49.914 | WARNING  | magic_pdf.libs.config_reader:get_local_layoutreader_model_dir:74 - 'layoutreader-model-dir' not exists, use /Users/yokumi/.cache/modelscope/hub/ppaanngggg/layoutreader as default\n",
      "2025-03-10 12:01:49.914 | WARNING  | magic_pdf.pdf_parse_union_core_v2:model_init:354 - local layoutreader model not exists, use online model from huggingface\n",
      "2025-03-10 12:01:52.494 | INFO     | magic_pdf.tools.common:do_parse:242 - local output dir is ocr_res/重要决定/auto\n"
     ]
    },
    {
     "name": "stdout",
     "output_type": "stream",
     "text": [
      "已处理: 重要决定.jpg\n"
     ]
    },
    {
     "name": "stderr",
     "output_type": "stream",
     "text": [
      "/opt/homebrew/anaconda3/envs/MinerU/lib/python3.10/site-packages/paddle/utils/cpp_extension/extension_utils.py:711: UserWarning: No ccache found. Please be aware that recompiling all source files may be required. You can download and install ccache from: https://github.com/ccache/ccache/blob/master/doc/INSTALL.md\n",
      "  warnings.warn(warning_message)\n"
     ]
    },
    {
     "name": "stdout",
     "output_type": "stream",
     "text": [
      "\u001b[93mimport tensorrt_llm failed, if do not use tensorrt, ignore this message\u001b[0m\n",
      "\u001b[93mimport lmdeploy failed, if do not use lmdeploy, ignore this message\u001b[0m\n"
     ]
    },
    {
     "name": "stderr",
     "output_type": "stream",
     "text": [
      "2025-03-10 12:01:57.539 | INFO     | magic_pdf.data.dataset:__init__:156 - lang: None\n",
      "2025-03-10 12:01:57.600 | INFO     | magic_pdf.libs.pdf_check:detect_invalid_chars:67 - cid_count: 0, text_len: 1, cid_chars_radio: 0.0\n",
      "2025-03-10 12:01:57.600 | WARNING  | magic_pdf.filter.pdf_classify_by_type:classify:335 - OCR needed based on classification result, by_image_area: False, by_text: False, by_avg_words: False, by_img_num: True, by_img_narrow_strips: True, by_invalid_chars: True\n",
      "2025-03-10 12:01:57.601 | INFO     | magic_pdf.model.pdf_extract_kit:__init__:78 - DocAnalysis init, this may take some times, layout_model: doclayout_yolo, apply_formula: True, apply_ocr: True, apply_table: True, table_model: rapid_table, lang: None\n",
      "2025-03-10 12:01:57.601 | INFO     | magic_pdf.model.pdf_extract_kit:__init__:92 - using device: mps\n",
      "2025-03-10 12:01:57.601 | INFO     | magic_pdf.model.pdf_extract_kit:__init__:96 - using models_dir: /Users/yokumi/Documents/MinerU/models--opendatalab--PDF-Extract-Kit-1.0/snapshots/60416a2cabad3f7b7284b43ce37a99864484fba2/models\n"
     ]
    },
    {
     "name": "stdout",
     "output_type": "stream",
     "text": [
      "CustomVisionEncoderDecoderModel init\n",
      "VariableUnimerNetModel init\n",
      "VariableUnimerNetPatchEmbeddings init\n",
      "VariableUnimerNetModel init\n",
      "VariableUnimerNetPatchEmbeddings init\n",
      "CustomMBartForCausalLM init\n",
      "CustomMBartDecoder init\n"
     ]
    },
    {
     "name": "stderr",
     "output_type": "stream",
     "text": [
      "2025-03-10 12:02:05,924 - DownloadModel - DEBUG: /opt/homebrew/anaconda3/envs/MinerU/lib/python3.10/site-packages/rapid_table/models/slanet-plus.onnx already exists\n",
      "[2025-03-10 12:02:05,924] [   DEBUG] download_model.py:34 - /opt/homebrew/anaconda3/envs/MinerU/lib/python3.10/site-packages/rapid_table/models/slanet-plus.onnx already exists\n",
      "2025-03-10 12:02:06.128 | INFO     | magic_pdf.model.pdf_extract_kit:__init__:174 - DocAnalysis init done!\n",
      "2025-03-10 12:02:06.128 | INFO     | magic_pdf.model.doc_analyze_by_custom_model:custom_model_init:128 - model init cost: 8.527545928955078\n",
      "2025-03-10 12:02:07.456 | INFO     | magic_pdf.model.pdf_extract_kit:__call__:210 - layout detection time: 1.28\n",
      "2025-03-10 12:02:09.021 | INFO     | magic_pdf.model.pdf_extract_kit:__call__:216 - mfd time: 1.57\n",
      "2025-03-10 12:02:09.022 | INFO     | magic_pdf.model.pdf_extract_kit:__call__:223 - formula nums: 0, mfr time: 0.0\n",
      "2025-03-10 12:02:11.244 | INFO     | magic_pdf.model.pdf_extract_kit:__call__:255 - ocr time: 2.22\n",
      "2025-03-10 12:02:11.244 | INFO     | magic_pdf.model.pdf_extract_kit:__call__:297 - table time: 0.0\n",
      "2025-03-10 12:02:11.245 | INFO     | magic_pdf.model.doc_analyze_by_custom_model:doc_analyze:224 - -----page_id : 0, page total time: 5.08-----\n",
      "2025-03-10 12:02:11.374 | INFO     | magic_pdf.model.doc_analyze_by_custom_model:doc_analyze:235 - gc time: 0.13\n",
      "2025-03-10 12:02:11.374 | INFO     | magic_pdf.model.doc_analyze_by_custom_model:doc_analyze:239 - doc analyze time: 5.25, speed: 0.19 pages/second\n",
      "2025-03-10 12:02:11.387 | INFO     | magic_pdf.pdf_parse_union_core_v2:pdf_parse_union:946 - page_id: 0, last_page_cost_time: 0.0\n",
      "2025-03-10 12:02:11.394 | WARNING  | magic_pdf.libs.config_reader:get_local_layoutreader_model_dir:74 - 'layoutreader-model-dir' not exists, use /Users/yokumi/.cache/modelscope/hub/ppaanngggg/layoutreader as default\n",
      "2025-03-10 12:02:11.394 | WARNING  | magic_pdf.pdf_parse_union_core_v2:model_init:354 - local layoutreader model not exists, use online model from huggingface\n",
      "2025-03-10 12:02:14.936 | INFO     | magic_pdf.tools.common:do_parse:242 - local output dir is ocr_res/喜欢的电视剧/auto\n"
     ]
    },
    {
     "name": "stdout",
     "output_type": "stream",
     "text": [
      "已处理: 喜欢的电视剧.jpg\n"
     ]
    },
    {
     "name": "stderr",
     "output_type": "stream",
     "text": [
      "/opt/homebrew/anaconda3/envs/MinerU/lib/python3.10/site-packages/paddle/utils/cpp_extension/extension_utils.py:711: UserWarning: No ccache found. Please be aware that recompiling all source files may be required. You can download and install ccache from: https://github.com/ccache/ccache/blob/master/doc/INSTALL.md\n",
      "  warnings.warn(warning_message)\n"
     ]
    },
    {
     "name": "stdout",
     "output_type": "stream",
     "text": [
      "\u001b[93mimport tensorrt_llm failed, if do not use tensorrt, ignore this message\u001b[0m\n",
      "\u001b[93mimport lmdeploy failed, if do not use lmdeploy, ignore this message\u001b[0m\n"
     ]
    },
    {
     "name": "stderr",
     "output_type": "stream",
     "text": [
      "2025-03-10 12:02:19.864 | INFO     | magic_pdf.data.dataset:__init__:156 - lang: None\n",
      "2025-03-10 12:02:19.923 | INFO     | magic_pdf.libs.pdf_check:detect_invalid_chars:67 - cid_count: 0, text_len: 1, cid_chars_radio: 0.0\n",
      "2025-03-10 12:02:19.923 | WARNING  | magic_pdf.filter.pdf_classify_by_type:classify:335 - OCR needed based on classification result, by_image_area: False, by_text: False, by_avg_words: False, by_img_num: True, by_img_narrow_strips: True, by_invalid_chars: True\n",
      "2025-03-10 12:02:19.924 | INFO     | magic_pdf.model.pdf_extract_kit:__init__:78 - DocAnalysis init, this may take some times, layout_model: doclayout_yolo, apply_formula: True, apply_ocr: True, apply_table: True, table_model: rapid_table, lang: None\n",
      "2025-03-10 12:02:19.924 | INFO     | magic_pdf.model.pdf_extract_kit:__init__:92 - using device: mps\n",
      "2025-03-10 12:02:19.924 | INFO     | magic_pdf.model.pdf_extract_kit:__init__:96 - using models_dir: /Users/yokumi/Documents/MinerU/models--opendatalab--PDF-Extract-Kit-1.0/snapshots/60416a2cabad3f7b7284b43ce37a99864484fba2/models\n"
     ]
    },
    {
     "name": "stdout",
     "output_type": "stream",
     "text": [
      "CustomVisionEncoderDecoderModel init\n",
      "VariableUnimerNetModel init\n",
      "VariableUnimerNetPatchEmbeddings init\n",
      "VariableUnimerNetModel init\n",
      "VariableUnimerNetPatchEmbeddings init\n",
      "CustomMBartForCausalLM init\n",
      "CustomMBartDecoder init\n"
     ]
    },
    {
     "name": "stderr",
     "output_type": "stream",
     "text": [
      "2025-03-10 12:02:28,086 - DownloadModel - DEBUG: /opt/homebrew/anaconda3/envs/MinerU/lib/python3.10/site-packages/rapid_table/models/slanet-plus.onnx already exists\n",
      "[2025-03-10 12:02:28,086] [   DEBUG] download_model.py:34 - /opt/homebrew/anaconda3/envs/MinerU/lib/python3.10/site-packages/rapid_table/models/slanet-plus.onnx already exists\n",
      "2025-03-10 12:02:28.284 | INFO     | magic_pdf.model.pdf_extract_kit:__init__:174 - DocAnalysis init done!\n",
      "2025-03-10 12:02:28.284 | INFO     | magic_pdf.model.doc_analyze_by_custom_model:custom_model_init:128 - model init cost: 8.360629796981812\n",
      "2025-03-10 12:02:29.659 | INFO     | magic_pdf.model.pdf_extract_kit:__call__:210 - layout detection time: 1.29\n",
      "2025-03-10 12:02:31.216 | INFO     | magic_pdf.model.pdf_extract_kit:__call__:216 - mfd time: 1.56\n",
      "2025-03-10 12:02:31.217 | INFO     | magic_pdf.model.pdf_extract_kit:__call__:223 - formula nums: 0, mfr time: 0.0\n",
      "2025-03-10 12:02:33.471 | INFO     | magic_pdf.model.pdf_extract_kit:__call__:255 - ocr time: 2.25\n",
      "2025-03-10 12:02:33.471 | INFO     | magic_pdf.model.pdf_extract_kit:__call__:297 - table time: 0.0\n",
      "2025-03-10 12:02:33.472 | INFO     | magic_pdf.model.doc_analyze_by_custom_model:doc_analyze:224 - -----page_id : 0, page total time: 5.11-----\n",
      "2025-03-10 12:02:33.598 | INFO     | magic_pdf.model.doc_analyze_by_custom_model:doc_analyze:235 - gc time: 0.13\n",
      "2025-03-10 12:02:33.598 | INFO     | magic_pdf.model.doc_analyze_by_custom_model:doc_analyze:239 - doc analyze time: 5.31, speed: 0.19 pages/second\n",
      "2025-03-10 12:02:33.612 | INFO     | magic_pdf.pdf_parse_union_core_v2:pdf_parse_union:946 - page_id: 0, last_page_cost_time: 0.0\n",
      "2025-03-10 12:02:33.619 | WARNING  | magic_pdf.libs.config_reader:get_local_layoutreader_model_dir:74 - 'layoutreader-model-dir' not exists, use /Users/yokumi/.cache/modelscope/hub/ppaanngggg/layoutreader as default\n",
      "2025-03-10 12:02:33.619 | WARNING  | magic_pdf.pdf_parse_union_core_v2:model_init:354 - local layoutreader model not exists, use online model from huggingface\n",
      "2025-03-10 12:02:35.859 | INFO     | magic_pdf.tools.common:do_parse:242 - local output dir is ocr_res/近期日常改变/auto\n"
     ]
    },
    {
     "name": "stdout",
     "output_type": "stream",
     "text": [
      "已处理: 近期日常改变.jpg\n"
     ]
    },
    {
     "name": "stderr",
     "output_type": "stream",
     "text": [
      "/opt/homebrew/anaconda3/envs/MinerU/lib/python3.10/site-packages/paddle/utils/cpp_extension/extension_utils.py:711: UserWarning: No ccache found. Please be aware that recompiling all source files may be required. You can download and install ccache from: https://github.com/ccache/ccache/blob/master/doc/INSTALL.md\n",
      "  warnings.warn(warning_message)\n"
     ]
    },
    {
     "name": "stdout",
     "output_type": "stream",
     "text": [
      "\u001b[93mimport tensorrt_llm failed, if do not use tensorrt, ignore this message\u001b[0m\n",
      "\u001b[93mimport lmdeploy failed, if do not use lmdeploy, ignore this message\u001b[0m\n"
     ]
    },
    {
     "name": "stderr",
     "output_type": "stream",
     "text": [
      "2025-03-10 12:02:40.884 | INFO     | magic_pdf.data.dataset:__init__:156 - lang: None\n",
      "2025-03-10 12:02:40.943 | INFO     | magic_pdf.libs.pdf_check:detect_invalid_chars:67 - cid_count: 0, text_len: 1, cid_chars_radio: 0.0\n",
      "2025-03-10 12:02:40.943 | WARNING  | magic_pdf.filter.pdf_classify_by_type:classify:335 - OCR needed based on classification result, by_image_area: False, by_text: False, by_avg_words: False, by_img_num: True, by_img_narrow_strips: True, by_invalid_chars: True\n",
      "2025-03-10 12:02:40.944 | INFO     | magic_pdf.model.pdf_extract_kit:__init__:78 - DocAnalysis init, this may take some times, layout_model: doclayout_yolo, apply_formula: True, apply_ocr: True, apply_table: True, table_model: rapid_table, lang: None\n",
      "2025-03-10 12:02:40.944 | INFO     | magic_pdf.model.pdf_extract_kit:__init__:92 - using device: mps\n",
      "2025-03-10 12:02:40.944 | INFO     | magic_pdf.model.pdf_extract_kit:__init__:96 - using models_dir: /Users/yokumi/Documents/MinerU/models--opendatalab--PDF-Extract-Kit-1.0/snapshots/60416a2cabad3f7b7284b43ce37a99864484fba2/models\n"
     ]
    },
    {
     "name": "stdout",
     "output_type": "stream",
     "text": [
      "CustomVisionEncoderDecoderModel init\n",
      "VariableUnimerNetModel init\n",
      "VariableUnimerNetPatchEmbeddings init\n",
      "VariableUnimerNetModel init\n",
      "VariableUnimerNetPatchEmbeddings init\n",
      "CustomMBartForCausalLM init\n",
      "CustomMBartDecoder init\n"
     ]
    },
    {
     "name": "stderr",
     "output_type": "stream",
     "text": [
      "2025-03-10 12:02:49,130 - DownloadModel - DEBUG: /opt/homebrew/anaconda3/envs/MinerU/lib/python3.10/site-packages/rapid_table/models/slanet-plus.onnx already exists\n",
      "[2025-03-10 12:02:49,130] [   DEBUG] download_model.py:34 - /opt/homebrew/anaconda3/envs/MinerU/lib/python3.10/site-packages/rapid_table/models/slanet-plus.onnx already exists\n",
      "2025-03-10 12:02:49.334 | INFO     | magic_pdf.model.pdf_extract_kit:__init__:174 - DocAnalysis init done!\n",
      "2025-03-10 12:02:49.335 | INFO     | magic_pdf.model.doc_analyze_by_custom_model:custom_model_init:128 - model init cost: 8.39158010482788\n",
      "2025-03-10 12:02:50.747 | INFO     | magic_pdf.model.pdf_extract_kit:__call__:210 - layout detection time: 1.36\n",
      "2025-03-10 12:02:52.318 | INFO     | magic_pdf.model.pdf_extract_kit:__call__:216 - mfd time: 1.57\n",
      "2025-03-10 12:02:52.319 | INFO     | magic_pdf.model.pdf_extract_kit:__call__:223 - formula nums: 0, mfr time: 0.0\n",
      "2025-03-10 12:02:54.658 | INFO     | magic_pdf.model.pdf_extract_kit:__call__:255 - ocr time: 2.34\n",
      "2025-03-10 12:02:54.658 | INFO     | magic_pdf.model.pdf_extract_kit:__call__:297 - table time: 0.0\n",
      "2025-03-10 12:02:54.658 | INFO     | magic_pdf.model.doc_analyze_by_custom_model:doc_analyze:224 - -----page_id : 0, page total time: 5.28-----\n",
      "2025-03-10 12:02:54.787 | INFO     | magic_pdf.model.doc_analyze_by_custom_model:doc_analyze:235 - gc time: 0.13\n",
      "2025-03-10 12:02:54.787 | INFO     | magic_pdf.model.doc_analyze_by_custom_model:doc_analyze:239 - doc analyze time: 5.45, speed: 0.18 pages/second\n",
      "2025-03-10 12:02:54.800 | INFO     | magic_pdf.pdf_parse_union_core_v2:pdf_parse_union:946 - page_id: 0, last_page_cost_time: 0.0\n",
      "2025-03-10 12:02:54.807 | WARNING  | magic_pdf.libs.config_reader:get_local_layoutreader_model_dir:74 - 'layoutreader-model-dir' not exists, use /Users/yokumi/.cache/modelscope/hub/ppaanngggg/layoutreader as default\n",
      "2025-03-10 12:02:54.807 | WARNING  | magic_pdf.pdf_parse_union_core_v2:model_init:354 - local layoutreader model not exists, use online model from huggingface\n",
      "2025-03-10 12:02:57.423 | INFO     | magic_pdf.tools.common:do_parse:242 - local output dir is ocr_res/仰慕的运动员_体育队/auto\n"
     ]
    },
    {
     "name": "stdout",
     "output_type": "stream",
     "text": [
      "已处理: 仰慕的运动员_体育队.jpg\n"
     ]
    },
    {
     "name": "stderr",
     "output_type": "stream",
     "text": [
      "/opt/homebrew/anaconda3/envs/MinerU/lib/python3.10/site-packages/paddle/utils/cpp_extension/extension_utils.py:711: UserWarning: No ccache found. Please be aware that recompiling all source files may be required. You can download and install ccache from: https://github.com/ccache/ccache/blob/master/doc/INSTALL.md\n",
      "  warnings.warn(warning_message)\n"
     ]
    },
    {
     "name": "stdout",
     "output_type": "stream",
     "text": [
      "\u001b[93mimport tensorrt_llm failed, if do not use tensorrt, ignore this message\u001b[0m\n",
      "\u001b[93mimport lmdeploy failed, if do not use lmdeploy, ignore this message\u001b[0m\n"
     ]
    },
    {
     "name": "stderr",
     "output_type": "stream",
     "text": [
      "2025-03-10 12:03:02.375 | INFO     | magic_pdf.data.dataset:__init__:156 - lang: None\n",
      "2025-03-10 12:03:02.434 | INFO     | magic_pdf.libs.pdf_check:detect_invalid_chars:67 - cid_count: 0, text_len: 1, cid_chars_radio: 0.0\n",
      "2025-03-10 12:03:02.434 | WARNING  | magic_pdf.filter.pdf_classify_by_type:classify:335 - OCR needed based on classification result, by_image_area: False, by_text: False, by_avg_words: False, by_img_num: True, by_img_narrow_strips: True, by_invalid_chars: True\n",
      "2025-03-10 12:03:02.435 | INFO     | magic_pdf.model.pdf_extract_kit:__init__:78 - DocAnalysis init, this may take some times, layout_model: doclayout_yolo, apply_formula: True, apply_ocr: True, apply_table: True, table_model: rapid_table, lang: None\n",
      "2025-03-10 12:03:02.435 | INFO     | magic_pdf.model.pdf_extract_kit:__init__:92 - using device: mps\n",
      "2025-03-10 12:03:02.435 | INFO     | magic_pdf.model.pdf_extract_kit:__init__:96 - using models_dir: /Users/yokumi/Documents/MinerU/models--opendatalab--PDF-Extract-Kit-1.0/snapshots/60416a2cabad3f7b7284b43ce37a99864484fba2/models\n"
     ]
    },
    {
     "name": "stdout",
     "output_type": "stream",
     "text": [
      "CustomVisionEncoderDecoderModel init\n",
      "VariableUnimerNetModel init\n",
      "VariableUnimerNetPatchEmbeddings init\n",
      "VariableUnimerNetModel init\n",
      "VariableUnimerNetPatchEmbeddings init\n",
      "CustomMBartForCausalLM init\n",
      "CustomMBartDecoder init\n"
     ]
    },
    {
     "name": "stderr",
     "output_type": "stream",
     "text": [
      "2025-03-10 12:03:10,596 - DownloadModel - DEBUG: /opt/homebrew/anaconda3/envs/MinerU/lib/python3.10/site-packages/rapid_table/models/slanet-plus.onnx already exists\n",
      "[2025-03-10 12:03:10,596] [   DEBUG] download_model.py:34 - /opt/homebrew/anaconda3/envs/MinerU/lib/python3.10/site-packages/rapid_table/models/slanet-plus.onnx already exists\n",
      "2025-03-10 12:03:10.803 | INFO     | magic_pdf.model.pdf_extract_kit:__init__:174 - DocAnalysis init done!\n",
      "2025-03-10 12:03:10.803 | INFO     | magic_pdf.model.doc_analyze_by_custom_model:custom_model_init:128 - model init cost: 8.368778228759766\n",
      "2025-03-10 12:03:12.208 | INFO     | magic_pdf.model.pdf_extract_kit:__call__:210 - layout detection time: 1.36\n",
      "2025-03-10 12:03:13.784 | INFO     | magic_pdf.model.pdf_extract_kit:__call__:216 - mfd time: 1.58\n",
      "2025-03-10 12:03:13.784 | INFO     | magic_pdf.model.pdf_extract_kit:__call__:223 - formula nums: 0, mfr time: 0.0\n",
      "2025-03-10 12:03:16.180 | INFO     | magic_pdf.model.pdf_extract_kit:__call__:255 - ocr time: 2.4\n",
      "2025-03-10 12:03:16.180 | INFO     | magic_pdf.model.pdf_extract_kit:__call__:297 - table time: 0.0\n",
      "2025-03-10 12:03:16.180 | INFO     | magic_pdf.model.doc_analyze_by_custom_model:doc_analyze:224 - -----page_id : 0, page total time: 5.33-----\n",
      "2025-03-10 12:03:16.313 | INFO     | magic_pdf.model.doc_analyze_by_custom_model:doc_analyze:235 - gc time: 0.13\n",
      "2025-03-10 12:03:16.313 | INFO     | magic_pdf.model.doc_analyze_by_custom_model:doc_analyze:239 - doc analyze time: 5.51, speed: 0.18 pages/second\n",
      "2025-03-10 12:03:16.328 | INFO     | magic_pdf.pdf_parse_union_core_v2:pdf_parse_union:946 - page_id: 0, last_page_cost_time: 0.0\n",
      "2025-03-10 12:03:16.337 | WARNING  | magic_pdf.libs.config_reader:get_local_layoutreader_model_dir:74 - 'layoutreader-model-dir' not exists, use /Users/yokumi/.cache/modelscope/hub/ppaanngggg/layoutreader as default\n",
      "2025-03-10 12:03:16.337 | WARNING  | magic_pdf.pdf_parse_union_core_v2:model_init:354 - local layoutreader model not exists, use online model from huggingface\n",
      "2025-03-10 12:03:19.004 | INFO     | magic_pdf.tools.common:do_parse:242 - local output dir is ocr_res/许下的承诺/auto\n"
     ]
    },
    {
     "name": "stdout",
     "output_type": "stream",
     "text": [
      "已处理: 许下的承诺.jpg\n"
     ]
    },
    {
     "name": "stderr",
     "output_type": "stream",
     "text": [
      "/opt/homebrew/anaconda3/envs/MinerU/lib/python3.10/site-packages/paddle/utils/cpp_extension/extension_utils.py:711: UserWarning: No ccache found. Please be aware that recompiling all source files may be required. You can download and install ccache from: https://github.com/ccache/ccache/blob/master/doc/INSTALL.md\n",
      "  warnings.warn(warning_message)\n"
     ]
    },
    {
     "name": "stdout",
     "output_type": "stream",
     "text": [
      "\u001b[93mimport tensorrt_llm failed, if do not use tensorrt, ignore this message\u001b[0m\n",
      "\u001b[93mimport lmdeploy failed, if do not use lmdeploy, ignore this message\u001b[0m\n"
     ]
    },
    {
     "name": "stderr",
     "output_type": "stream",
     "text": [
      "2025-03-10 12:03:26.017 | INFO     | magic_pdf.data.dataset:__init__:156 - lang: None\n",
      "2025-03-10 12:03:26.075 | INFO     | magic_pdf.libs.pdf_check:detect_invalid_chars:67 - cid_count: 0, text_len: 1, cid_chars_radio: 0.0\n",
      "2025-03-10 12:03:26.076 | WARNING  | magic_pdf.filter.pdf_classify_by_type:classify:335 - OCR needed based on classification result, by_image_area: False, by_text: False, by_avg_words: False, by_img_num: True, by_img_narrow_strips: True, by_invalid_chars: True\n",
      "2025-03-10 12:03:26.077 | INFO     | magic_pdf.model.pdf_extract_kit:__init__:78 - DocAnalysis init, this may take some times, layout_model: doclayout_yolo, apply_formula: True, apply_ocr: True, apply_table: True, table_model: rapid_table, lang: None\n",
      "2025-03-10 12:03:26.077 | INFO     | magic_pdf.model.pdf_extract_kit:__init__:92 - using device: mps\n",
      "2025-03-10 12:03:26.077 | INFO     | magic_pdf.model.pdf_extract_kit:__init__:96 - using models_dir: /Users/yokumi/Documents/MinerU/models--opendatalab--PDF-Extract-Kit-1.0/snapshots/60416a2cabad3f7b7284b43ce37a99864484fba2/models\n"
     ]
    },
    {
     "name": "stdout",
     "output_type": "stream",
     "text": [
      "CustomVisionEncoderDecoderModel init\n",
      "VariableUnimerNetModel init\n",
      "VariableUnimerNetPatchEmbeddings init\n",
      "VariableUnimerNetModel init\n",
      "VariableUnimerNetPatchEmbeddings init\n",
      "CustomMBartForCausalLM init\n",
      "CustomMBartDecoder init\n"
     ]
    },
    {
     "name": "stderr",
     "output_type": "stream",
     "text": [
      "2025-03-10 12:03:34,262 - DownloadModel - DEBUG: /opt/homebrew/anaconda3/envs/MinerU/lib/python3.10/site-packages/rapid_table/models/slanet-plus.onnx already exists\n",
      "[2025-03-10 12:03:34,262] [   DEBUG] download_model.py:34 - /opt/homebrew/anaconda3/envs/MinerU/lib/python3.10/site-packages/rapid_table/models/slanet-plus.onnx already exists\n",
      "2025-03-10 12:03:34.467 | INFO     | magic_pdf.model.pdf_extract_kit:__init__:174 - DocAnalysis init done!\n",
      "2025-03-10 12:03:34.467 | INFO     | magic_pdf.model.doc_analyze_by_custom_model:custom_model_init:128 - model init cost: 8.391852855682373\n",
      "2025-03-10 12:03:35.831 | INFO     | magic_pdf.model.pdf_extract_kit:__call__:210 - layout detection time: 1.31\n",
      "2025-03-10 12:03:37.377 | INFO     | magic_pdf.model.pdf_extract_kit:__call__:216 - mfd time: 1.55\n",
      "2025-03-10 12:03:37.378 | INFO     | magic_pdf.model.pdf_extract_kit:__call__:223 - formula nums: 0, mfr time: 0.0\n",
      "2025-03-10 12:03:39.708 | INFO     | magic_pdf.model.pdf_extract_kit:__call__:255 - ocr time: 2.33\n",
      "2025-03-10 12:03:39.709 | INFO     | magic_pdf.model.pdf_extract_kit:__call__:297 - table time: 0.0\n",
      "2025-03-10 12:03:39.709 | INFO     | magic_pdf.model.doc_analyze_by_custom_model:doc_analyze:224 - -----page_id : 0, page total time: 5.2-----\n",
      "2025-03-10 12:03:39.836 | INFO     | magic_pdf.model.doc_analyze_by_custom_model:doc_analyze:235 - gc time: 0.13\n",
      "2025-03-10 12:03:39.836 | INFO     | magic_pdf.model.doc_analyze_by_custom_model:doc_analyze:239 - doc analyze time: 5.37, speed: 0.19 pages/second\n",
      "2025-03-10 12:03:39.849 | INFO     | magic_pdf.pdf_parse_union_core_v2:pdf_parse_union:946 - page_id: 0, last_page_cost_time: 0.0\n",
      "2025-03-10 12:03:39.857 | WARNING  | magic_pdf.libs.config_reader:get_local_layoutreader_model_dir:74 - 'layoutreader-model-dir' not exists, use /Users/yokumi/.cache/modelscope/hub/ppaanngggg/layoutreader as default\n",
      "2025-03-10 12:03:39.857 | WARNING  | magic_pdf.pdf_parse_union_core_v2:model_init:354 - local layoutreader model not exists, use online model from huggingface\n",
      "2025-03-10 12:03:42.671 | INFO     | magic_pdf.tools.common:do_parse:242 - local output dir is ocr_res/智力游戏/auto\n"
     ]
    },
    {
     "name": "stdout",
     "output_type": "stream",
     "text": [
      "已处理: 智力游戏.jpg\n"
     ]
    },
    {
     "name": "stderr",
     "output_type": "stream",
     "text": [
      "/opt/homebrew/anaconda3/envs/MinerU/lib/python3.10/site-packages/paddle/utils/cpp_extension/extension_utils.py:711: UserWarning: No ccache found. Please be aware that recompiling all source files may be required. You can download and install ccache from: https://github.com/ccache/ccache/blob/master/doc/INSTALL.md\n",
      "  warnings.warn(warning_message)\n"
     ]
    },
    {
     "name": "stdout",
     "output_type": "stream",
     "text": [
      "\u001b[93mimport tensorrt_llm failed, if do not use tensorrt, ignore this message\u001b[0m\n",
      "\u001b[93mimport lmdeploy failed, if do not use lmdeploy, ignore this message\u001b[0m\n"
     ]
    },
    {
     "name": "stderr",
     "output_type": "stream",
     "text": [
      "2025-03-10 12:03:49.771 | INFO     | magic_pdf.data.dataset:__init__:156 - lang: None\n",
      "2025-03-10 12:03:49.830 | INFO     | magic_pdf.libs.pdf_check:detect_invalid_chars:67 - cid_count: 0, text_len: 1, cid_chars_radio: 0.0\n",
      "2025-03-10 12:03:49.830 | WARNING  | magic_pdf.filter.pdf_classify_by_type:classify:335 - OCR needed based on classification result, by_image_area: False, by_text: False, by_avg_words: False, by_img_num: True, by_img_narrow_strips: True, by_invalid_chars: True\n",
      "2025-03-10 12:03:49.831 | INFO     | magic_pdf.model.pdf_extract_kit:__init__:78 - DocAnalysis init, this may take some times, layout_model: doclayout_yolo, apply_formula: True, apply_ocr: True, apply_table: True, table_model: rapid_table, lang: None\n",
      "2025-03-10 12:03:49.831 | INFO     | magic_pdf.model.pdf_extract_kit:__init__:92 - using device: mps\n",
      "2025-03-10 12:03:49.831 | INFO     | magic_pdf.model.pdf_extract_kit:__init__:96 - using models_dir: /Users/yokumi/Documents/MinerU/models--opendatalab--PDF-Extract-Kit-1.0/snapshots/60416a2cabad3f7b7284b43ce37a99864484fba2/models\n"
     ]
    },
    {
     "name": "stdout",
     "output_type": "stream",
     "text": [
      "CustomVisionEncoderDecoderModel init\n",
      "VariableUnimerNetModel init\n",
      "VariableUnimerNetPatchEmbeddings init\n",
      "VariableUnimerNetModel init\n",
      "VariableUnimerNetPatchEmbeddings init\n",
      "CustomMBartForCausalLM init\n",
      "CustomMBartDecoder init\n"
     ]
    },
    {
     "name": "stderr",
     "output_type": "stream",
     "text": [
      "2025-03-10 12:03:58,018 - DownloadModel - DEBUG: /opt/homebrew/anaconda3/envs/MinerU/lib/python3.10/site-packages/rapid_table/models/slanet-plus.onnx already exists\n",
      "[2025-03-10 12:03:58,018] [   DEBUG] download_model.py:34 - /opt/homebrew/anaconda3/envs/MinerU/lib/python3.10/site-packages/rapid_table/models/slanet-plus.onnx already exists\n",
      "2025-03-10 12:03:58.226 | INFO     | magic_pdf.model.pdf_extract_kit:__init__:174 - DocAnalysis init done!\n",
      "2025-03-10 12:03:58.226 | INFO     | magic_pdf.model.doc_analyze_by_custom_model:custom_model_init:128 - model init cost: 8.395843982696533\n",
      "2025-03-10 12:03:59.649 | INFO     | magic_pdf.model.pdf_extract_kit:__call__:210 - layout detection time: 1.37\n",
      "2025-03-10 12:04:01.272 | INFO     | magic_pdf.model.pdf_extract_kit:__call__:216 - mfd time: 1.62\n",
      "2025-03-10 12:04:01.273 | INFO     | magic_pdf.model.pdf_extract_kit:__call__:223 - formula nums: 0, mfr time: 0.0\n",
      "2025-03-10 12:04:02.778 | INFO     | magic_pdf.model.pdf_extract_kit:__call__:255 - ocr time: 1.51\n",
      "2025-03-10 12:04:02.778 | INFO     | magic_pdf.model.pdf_extract_kit:__call__:297 - table time: 0.0\n",
      "2025-03-10 12:04:02.779 | INFO     | magic_pdf.model.doc_analyze_by_custom_model:doc_analyze:224 - -----page_id : 0, page total time: 4.51-----\n",
      "2025-03-10 12:04:02.908 | INFO     | magic_pdf.model.doc_analyze_by_custom_model:doc_analyze:235 - gc time: 0.13\n",
      "2025-03-10 12:04:02.908 | INFO     | magic_pdf.model.doc_analyze_by_custom_model:doc_analyze:239 - doc analyze time: 4.68, speed: 0.21 pages/second\n",
      "2025-03-10 12:04:02.921 | INFO     | magic_pdf.pdf_parse_union_core_v2:pdf_parse_union:946 - page_id: 0, last_page_cost_time: 0.0\n",
      "2025-03-10 12:04:02.927 | WARNING  | magic_pdf.libs.config_reader:get_local_layoutreader_model_dir:74 - 'layoutreader-model-dir' not exists, use /Users/yokumi/.cache/modelscope/hub/ppaanngggg/layoutreader as default\n",
      "2025-03-10 12:04:02.927 | WARNING  | magic_pdf.pdf_parse_union_core_v2:model_init:354 - local layoutreader model not exists, use online model from huggingface\n",
      "2025-03-10 12:04:05.567 | INFO     | magic_pdf.tools.common:do_parse:242 - local output dir is ocr_res/家庭重要设备/auto\n"
     ]
    },
    {
     "name": "stdout",
     "output_type": "stream",
     "text": [
      "已处理: 家庭重要设备.jpg\n"
     ]
    },
    {
     "name": "stderr",
     "output_type": "stream",
     "text": [
      "/opt/homebrew/anaconda3/envs/MinerU/lib/python3.10/site-packages/paddle/utils/cpp_extension/extension_utils.py:711: UserWarning: No ccache found. Please be aware that recompiling all source files may be required. You can download and install ccache from: https://github.com/ccache/ccache/blob/master/doc/INSTALL.md\n",
      "  warnings.warn(warning_message)\n"
     ]
    },
    {
     "name": "stdout",
     "output_type": "stream",
     "text": [
      "\u001b[93mimport tensorrt_llm failed, if do not use tensorrt, ignore this message\u001b[0m\n",
      "\u001b[93mimport lmdeploy failed, if do not use lmdeploy, ignore this message\u001b[0m\n"
     ]
    },
    {
     "name": "stderr",
     "output_type": "stream",
     "text": [
      "2025-03-10 12:04:10.677 | INFO     | magic_pdf.data.dataset:__init__:156 - lang: None\n",
      "2025-03-10 12:04:10.736 | INFO     | magic_pdf.libs.pdf_check:detect_invalid_chars:67 - cid_count: 0, text_len: 1, cid_chars_radio: 0.0\n",
      "2025-03-10 12:04:10.737 | WARNING  | magic_pdf.filter.pdf_classify_by_type:classify:335 - OCR needed based on classification result, by_image_area: False, by_text: False, by_avg_words: False, by_img_num: True, by_img_narrow_strips: True, by_invalid_chars: True\n",
      "2025-03-10 12:04:10.738 | INFO     | magic_pdf.model.pdf_extract_kit:__init__:78 - DocAnalysis init, this may take some times, layout_model: doclayout_yolo, apply_formula: True, apply_ocr: True, apply_table: True, table_model: rapid_table, lang: None\n",
      "2025-03-10 12:04:10.738 | INFO     | magic_pdf.model.pdf_extract_kit:__init__:92 - using device: mps\n",
      "2025-03-10 12:04:10.738 | INFO     | magic_pdf.model.pdf_extract_kit:__init__:96 - using models_dir: /Users/yokumi/Documents/MinerU/models--opendatalab--PDF-Extract-Kit-1.0/snapshots/60416a2cabad3f7b7284b43ce37a99864484fba2/models\n"
     ]
    },
    {
     "name": "stdout",
     "output_type": "stream",
     "text": [
      "CustomVisionEncoderDecoderModel init\n",
      "VariableUnimerNetModel init\n",
      "VariableUnimerNetPatchEmbeddings init\n",
      "VariableUnimerNetModel init\n",
      "VariableUnimerNetPatchEmbeddings init\n",
      "CustomMBartForCausalLM init\n",
      "CustomMBartDecoder init\n"
     ]
    },
    {
     "name": "stderr",
     "output_type": "stream",
     "text": [
      "2025-03-10 12:04:18,931 - DownloadModel - DEBUG: /opt/homebrew/anaconda3/envs/MinerU/lib/python3.10/site-packages/rapid_table/models/slanet-plus.onnx already exists\n",
      "[2025-03-10 12:04:18,931] [   DEBUG] download_model.py:34 - /opt/homebrew/anaconda3/envs/MinerU/lib/python3.10/site-packages/rapid_table/models/slanet-plus.onnx already exists\n",
      "2025-03-10 12:04:19.138 | INFO     | magic_pdf.model.pdf_extract_kit:__init__:174 - DocAnalysis init done!\n",
      "2025-03-10 12:04:19.138 | INFO     | magic_pdf.model.doc_analyze_by_custom_model:custom_model_init:128 - model init cost: 8.401530981063843\n",
      "2025-03-10 12:04:20.516 | INFO     | magic_pdf.model.pdf_extract_kit:__call__:210 - layout detection time: 1.33\n",
      "2025-03-10 12:04:22.210 | INFO     | magic_pdf.model.pdf_extract_kit:__call__:216 - mfd time: 1.69\n",
      "2025-03-10 12:04:22.211 | INFO     | magic_pdf.model.pdf_extract_kit:__call__:223 - formula nums: 0, mfr time: 0.0\n",
      "2025-03-10 12:04:24.595 | INFO     | magic_pdf.model.pdf_extract_kit:__call__:255 - ocr time: 2.38\n",
      "2025-03-10 12:04:24.595 | INFO     | magic_pdf.model.pdf_extract_kit:__call__:297 - table time: 0.0\n",
      "2025-03-10 12:04:24.596 | INFO     | magic_pdf.model.doc_analyze_by_custom_model:doc_analyze:224 - -----page_id : 0, page total time: 5.41-----\n",
      "2025-03-10 12:04:24.727 | INFO     | magic_pdf.model.doc_analyze_by_custom_model:doc_analyze:235 - gc time: 0.13\n",
      "2025-03-10 12:04:24.727 | INFO     | magic_pdf.model.doc_analyze_by_custom_model:doc_analyze:239 - doc analyze time: 5.59, speed: 0.18 pages/second\n",
      "2025-03-10 12:04:24.741 | INFO     | magic_pdf.pdf_parse_union_core_v2:pdf_parse_union:946 - page_id: 0, last_page_cost_time: 0.0\n",
      "2025-03-10 12:04:24.748 | WARNING  | magic_pdf.libs.config_reader:get_local_layoutreader_model_dir:74 - 'layoutreader-model-dir' not exists, use /Users/yokumi/.cache/modelscope/hub/ppaanngggg/layoutreader as default\n",
      "2025-03-10 12:04:24.748 | WARNING  | magic_pdf.pdf_parse_union_core_v2:model_init:354 - local layoutreader model not exists, use online model from huggingface\n",
      "2025-03-10 12:04:27.495 | INFO     | magic_pdf.tools.common:do_parse:242 - local output dir is ocr_res/环保人士/auto\n"
     ]
    },
    {
     "name": "stdout",
     "output_type": "stream",
     "text": [
      "已处理: 环保人士.jpg\n"
     ]
    },
    {
     "name": "stderr",
     "output_type": "stream",
     "text": [
      "/opt/homebrew/anaconda3/envs/MinerU/lib/python3.10/site-packages/paddle/utils/cpp_extension/extension_utils.py:711: UserWarning: No ccache found. Please be aware that recompiling all source files may be required. You can download and install ccache from: https://github.com/ccache/ccache/blob/master/doc/INSTALL.md\n",
      "  warnings.warn(warning_message)\n"
     ]
    },
    {
     "name": "stdout",
     "output_type": "stream",
     "text": [
      "\u001b[93mimport tensorrt_llm failed, if do not use tensorrt, ignore this message\u001b[0m\n",
      "\u001b[93mimport lmdeploy failed, if do not use lmdeploy, ignore this message\u001b[0m\n"
     ]
    },
    {
     "name": "stderr",
     "output_type": "stream",
     "text": [
      "2025-03-10 12:04:34.775 | INFO     | magic_pdf.data.dataset:__init__:156 - lang: None\n",
      "2025-03-10 12:04:34.836 | INFO     | magic_pdf.libs.pdf_check:detect_invalid_chars:67 - cid_count: 0, text_len: 1, cid_chars_radio: 0.0\n",
      "2025-03-10 12:04:34.836 | WARNING  | magic_pdf.filter.pdf_classify_by_type:classify:335 - OCR needed based on classification result, by_image_area: False, by_text: False, by_avg_words: False, by_img_num: True, by_img_narrow_strips: True, by_invalid_chars: True\n",
      "2025-03-10 12:04:34.837 | INFO     | magic_pdf.model.pdf_extract_kit:__init__:78 - DocAnalysis init, this may take some times, layout_model: doclayout_yolo, apply_formula: True, apply_ocr: True, apply_table: True, table_model: rapid_table, lang: None\n",
      "2025-03-10 12:04:34.837 | INFO     | magic_pdf.model.pdf_extract_kit:__init__:92 - using device: mps\n",
      "2025-03-10 12:04:34.837 | INFO     | magic_pdf.model.pdf_extract_kit:__init__:96 - using models_dir: /Users/yokumi/Documents/MinerU/models--opendatalab--PDF-Extract-Kit-1.0/snapshots/60416a2cabad3f7b7284b43ce37a99864484fba2/models\n"
     ]
    },
    {
     "name": "stdout",
     "output_type": "stream",
     "text": [
      "CustomVisionEncoderDecoderModel init\n",
      "VariableUnimerNetModel init\n",
      "VariableUnimerNetPatchEmbeddings init\n",
      "VariableUnimerNetModel init\n",
      "VariableUnimerNetPatchEmbeddings init\n",
      "CustomMBartForCausalLM init\n",
      "CustomMBartDecoder init\n"
     ]
    },
    {
     "name": "stderr",
     "output_type": "stream",
     "text": [
      "2025-03-10 12:04:43,060 - DownloadModel - DEBUG: /opt/homebrew/anaconda3/envs/MinerU/lib/python3.10/site-packages/rapid_table/models/slanet-plus.onnx already exists\n",
      "[2025-03-10 12:04:43,060] [   DEBUG] download_model.py:34 - /opt/homebrew/anaconda3/envs/MinerU/lib/python3.10/site-packages/rapid_table/models/slanet-plus.onnx already exists\n",
      "2025-03-10 12:04:43.267 | INFO     | magic_pdf.model.pdf_extract_kit:__init__:174 - DocAnalysis init done!\n",
      "2025-03-10 12:04:43.267 | INFO     | magic_pdf.model.doc_analyze_by_custom_model:custom_model_init:128 - model init cost: 8.431324243545532\n",
      "2025-03-10 12:04:44.709 | INFO     | magic_pdf.model.pdf_extract_kit:__call__:210 - layout detection time: 1.39\n",
      "2025-03-10 12:04:46.304 | INFO     | magic_pdf.model.pdf_extract_kit:__call__:216 - mfd time: 1.59\n",
      "2025-03-10 12:04:46.304 | INFO     | magic_pdf.model.pdf_extract_kit:__call__:223 - formula nums: 0, mfr time: 0.0\n",
      "2025-03-10 12:04:48.685 | INFO     | magic_pdf.model.pdf_extract_kit:__call__:255 - ocr time: 2.38\n",
      "2025-03-10 12:04:48.685 | INFO     | magic_pdf.model.pdf_extract_kit:__call__:297 - table time: 0.0\n",
      "2025-03-10 12:04:48.686 | INFO     | magic_pdf.model.doc_analyze_by_custom_model:doc_analyze:224 - -----page_id : 0, page total time: 5.38-----\n",
      "2025-03-10 12:04:48.816 | INFO     | magic_pdf.model.doc_analyze_by_custom_model:doc_analyze:235 - gc time: 0.13\n",
      "2025-03-10 12:04:48.816 | INFO     | magic_pdf.model.doc_analyze_by_custom_model:doc_analyze:239 - doc analyze time: 5.55, speed: 0.18 pages/second\n",
      "2025-03-10 12:04:48.829 | INFO     | magic_pdf.pdf_parse_union_core_v2:pdf_parse_union:946 - page_id: 0, last_page_cost_time: 0.0\n",
      "2025-03-10 12:04:48.836 | WARNING  | magic_pdf.libs.config_reader:get_local_layoutreader_model_dir:74 - 'layoutreader-model-dir' not exists, use /Users/yokumi/.cache/modelscope/hub/ppaanngggg/layoutreader as default\n",
      "2025-03-10 12:04:48.836 | WARNING  | magic_pdf.pdf_parse_union_core_v2:model_init:354 - local layoutreader model not exists, use online model from huggingface\n",
      "2025-03-10 12:04:51.630 | INFO     | magic_pdf.tools.common:do_parse:242 - local output dir is ocr_res/学校_工作中的重要规则/auto\n"
     ]
    },
    {
     "name": "stdout",
     "output_type": "stream",
     "text": [
      "已处理: 学校_工作中的重要规则.jpg\n"
     ]
    },
    {
     "name": "stderr",
     "output_type": "stream",
     "text": [
      "/opt/homebrew/anaconda3/envs/MinerU/lib/python3.10/site-packages/paddle/utils/cpp_extension/extension_utils.py:711: UserWarning: No ccache found. Please be aware that recompiling all source files may be required. You can download and install ccache from: https://github.com/ccache/ccache/blob/master/doc/INSTALL.md\n",
      "  warnings.warn(warning_message)\n"
     ]
    },
    {
     "name": "stdout",
     "output_type": "stream",
     "text": [
      "\u001b[93mimport tensorrt_llm failed, if do not use tensorrt, ignore this message\u001b[0m\n",
      "\u001b[93mimport lmdeploy failed, if do not use lmdeploy, ignore this message\u001b[0m\n"
     ]
    },
    {
     "name": "stderr",
     "output_type": "stream",
     "text": [
      "2025-03-10 12:04:56.625 | INFO     | magic_pdf.data.dataset:__init__:156 - lang: None\n",
      "2025-03-10 12:04:56.684 | INFO     | magic_pdf.libs.pdf_check:detect_invalid_chars:67 - cid_count: 0, text_len: 1, cid_chars_radio: 0.0\n",
      "2025-03-10 12:04:56.684 | WARNING  | magic_pdf.filter.pdf_classify_by_type:classify:335 - OCR needed based on classification result, by_image_area: False, by_text: False, by_avg_words: False, by_img_num: True, by_img_narrow_strips: True, by_invalid_chars: True\n",
      "2025-03-10 12:04:56.686 | INFO     | magic_pdf.model.pdf_extract_kit:__init__:78 - DocAnalysis init, this may take some times, layout_model: doclayout_yolo, apply_formula: True, apply_ocr: True, apply_table: True, table_model: rapid_table, lang: None\n",
      "2025-03-10 12:04:56.686 | INFO     | magic_pdf.model.pdf_extract_kit:__init__:92 - using device: mps\n",
      "2025-03-10 12:04:56.686 | INFO     | magic_pdf.model.pdf_extract_kit:__init__:96 - using models_dir: /Users/yokumi/Documents/MinerU/models--opendatalab--PDF-Extract-Kit-1.0/snapshots/60416a2cabad3f7b7284b43ce37a99864484fba2/models\n"
     ]
    },
    {
     "name": "stdout",
     "output_type": "stream",
     "text": [
      "CustomVisionEncoderDecoderModel init\n",
      "VariableUnimerNetModel init\n",
      "VariableUnimerNetPatchEmbeddings init\n",
      "VariableUnimerNetModel init\n",
      "VariableUnimerNetPatchEmbeddings init\n",
      "CustomMBartForCausalLM init\n",
      "CustomMBartDecoder init\n"
     ]
    },
    {
     "name": "stderr",
     "output_type": "stream",
     "text": [
      "2025-03-10 12:05:04,902 - DownloadModel - DEBUG: /opt/homebrew/anaconda3/envs/MinerU/lib/python3.10/site-packages/rapid_table/models/slanet-plus.onnx already exists\n",
      "[2025-03-10 12:05:04,902] [   DEBUG] download_model.py:34 - /opt/homebrew/anaconda3/envs/MinerU/lib/python3.10/site-packages/rapid_table/models/slanet-plus.onnx already exists\n",
      "2025-03-10 12:05:05.118 | INFO     | magic_pdf.model.pdf_extract_kit:__init__:174 - DocAnalysis init done!\n",
      "2025-03-10 12:05:05.118 | INFO     | magic_pdf.model.doc_analyze_by_custom_model:custom_model_init:128 - model init cost: 8.43373703956604\n",
      "2025-03-10 12:05:06.581 | INFO     | magic_pdf.model.pdf_extract_kit:__call__:210 - layout detection time: 1.39\n",
      "2025-03-10 12:05:08.180 | INFO     | magic_pdf.model.pdf_extract_kit:__call__:216 - mfd time: 1.6\n",
      "2025-03-10 12:05:08.180 | INFO     | magic_pdf.model.pdf_extract_kit:__call__:223 - formula nums: 0, mfr time: 0.0\n",
      "2025-03-10 12:05:10.703 | INFO     | magic_pdf.model.pdf_extract_kit:__call__:255 - ocr time: 2.52\n",
      "2025-03-10 12:05:10.703 | INFO     | magic_pdf.model.pdf_extract_kit:__call__:297 - table time: 0.0\n",
      "2025-03-10 12:05:10.704 | INFO     | magic_pdf.model.doc_analyze_by_custom_model:doc_analyze:224 - -----page_id : 0, page total time: 5.51-----\n",
      "2025-03-10 12:05:10.833 | INFO     | magic_pdf.model.doc_analyze_by_custom_model:doc_analyze:235 - gc time: 0.13\n",
      "2025-03-10 12:05:10.834 | INFO     | magic_pdf.model.doc_analyze_by_custom_model:doc_analyze:239 - doc analyze time: 5.72, speed: 0.17 pages/second\n",
      "2025-03-10 12:05:10.847 | INFO     | magic_pdf.pdf_parse_union_core_v2:pdf_parse_union:946 - page_id: 0, last_page_cost_time: 0.0\n",
      "2025-03-10 12:05:10.854 | WARNING  | magic_pdf.libs.config_reader:get_local_layoutreader_model_dir:74 - 'layoutreader-model-dir' not exists, use /Users/yokumi/.cache/modelscope/hub/ppaanngggg/layoutreader as default\n",
      "2025-03-10 12:05:10.854 | WARNING  | magic_pdf.pdf_parse_union_core_v2:model_init:354 - local layoutreader model not exists, use online model from huggingface\n",
      "2025-03-10 12:05:13.443 | INFO     | magic_pdf.tools.common:do_parse:242 - local output dir is ocr_res/现场表演/auto\n"
     ]
    },
    {
     "name": "stdout",
     "output_type": "stream",
     "text": [
      "已处理: 现场表演.jpg\n"
     ]
    },
    {
     "name": "stderr",
     "output_type": "stream",
     "text": [
      "/opt/homebrew/anaconda3/envs/MinerU/lib/python3.10/site-packages/paddle/utils/cpp_extension/extension_utils.py:711: UserWarning: No ccache found. Please be aware that recompiling all source files may be required. You can download and install ccache from: https://github.com/ccache/ccache/blob/master/doc/INSTALL.md\n",
      "  warnings.warn(warning_message)\n"
     ]
    },
    {
     "name": "stdout",
     "output_type": "stream",
     "text": [
      "\u001b[93mimport tensorrt_llm failed, if do not use tensorrt, ignore this message\u001b[0m\n",
      "\u001b[93mimport lmdeploy failed, if do not use lmdeploy, ignore this message\u001b[0m\n"
     ]
    },
    {
     "name": "stderr",
     "output_type": "stream",
     "text": [
      "2025-03-10 12:05:18.639 | INFO     | magic_pdf.data.dataset:__init__:156 - lang: None\n",
      "2025-03-10 12:05:18.705 | INFO     | magic_pdf.libs.pdf_check:detect_invalid_chars:67 - cid_count: 0, text_len: 1, cid_chars_radio: 0.0\n",
      "2025-03-10 12:05:18.705 | WARNING  | magic_pdf.filter.pdf_classify_by_type:classify:335 - OCR needed based on classification result, by_image_area: False, by_text: False, by_avg_words: False, by_img_num: True, by_img_narrow_strips: True, by_invalid_chars: True\n",
      "2025-03-10 12:05:18.706 | INFO     | magic_pdf.model.pdf_extract_kit:__init__:78 - DocAnalysis init, this may take some times, layout_model: doclayout_yolo, apply_formula: True, apply_ocr: True, apply_table: True, table_model: rapid_table, lang: None\n",
      "2025-03-10 12:05:18.706 | INFO     | magic_pdf.model.pdf_extract_kit:__init__:92 - using device: mps\n",
      "2025-03-10 12:05:18.706 | INFO     | magic_pdf.model.pdf_extract_kit:__init__:96 - using models_dir: /Users/yokumi/Documents/MinerU/models--opendatalab--PDF-Extract-Kit-1.0/snapshots/60416a2cabad3f7b7284b43ce37a99864484fba2/models\n"
     ]
    },
    {
     "name": "stdout",
     "output_type": "stream",
     "text": [
      "CustomVisionEncoderDecoderModel init\n",
      "VariableUnimerNetModel init\n",
      "VariableUnimerNetPatchEmbeddings init\n",
      "VariableUnimerNetModel init\n",
      "VariableUnimerNetPatchEmbeddings init\n",
      "CustomMBartForCausalLM init\n",
      "CustomMBartDecoder init\n"
     ]
    },
    {
     "name": "stderr",
     "output_type": "stream",
     "text": [
      "2025-03-10 12:05:27,405 - DownloadModel - DEBUG: /opt/homebrew/anaconda3/envs/MinerU/lib/python3.10/site-packages/rapid_table/models/slanet-plus.onnx already exists\n",
      "[2025-03-10 12:05:27,405] [   DEBUG] download_model.py:34 - /opt/homebrew/anaconda3/envs/MinerU/lib/python3.10/site-packages/rapid_table/models/slanet-plus.onnx already exists\n",
      "2025-03-10 12:05:27.617 | INFO     | magic_pdf.model.pdf_extract_kit:__init__:174 - DocAnalysis init done!\n",
      "2025-03-10 12:05:27.617 | INFO     | magic_pdf.model.doc_analyze_by_custom_model:custom_model_init:128 - model init cost: 8.911644220352173\n",
      "2025-03-10 12:05:29.266 | INFO     | magic_pdf.model.pdf_extract_kit:__call__:210 - layout detection time: 1.58\n",
      "2025-03-10 12:05:30.929 | INFO     | magic_pdf.model.pdf_extract_kit:__call__:216 - mfd time: 1.66\n",
      "2025-03-10 12:05:30.930 | INFO     | magic_pdf.model.pdf_extract_kit:__call__:223 - formula nums: 0, mfr time: 0.0\n",
      "2025-03-10 12:05:33.279 | INFO     | magic_pdf.model.pdf_extract_kit:__call__:255 - ocr time: 2.35\n",
      "2025-03-10 12:05:33.279 | INFO     | magic_pdf.model.pdf_extract_kit:__call__:297 - table time: 0.0\n",
      "2025-03-10 12:05:33.280 | INFO     | magic_pdf.model.doc_analyze_by_custom_model:doc_analyze:224 - -----page_id : 0, page total time: 5.6-----\n",
      "2025-03-10 12:05:33.423 | INFO     | magic_pdf.model.doc_analyze_by_custom_model:doc_analyze:235 - gc time: 0.14\n",
      "2025-03-10 12:05:33.424 | INFO     | magic_pdf.model.doc_analyze_by_custom_model:doc_analyze:239 - doc analyze time: 5.81, speed: 0.17 pages/second\n",
      "2025-03-10 12:05:33.437 | INFO     | magic_pdf.pdf_parse_union_core_v2:pdf_parse_union:946 - page_id: 0, last_page_cost_time: 0.0\n",
      "2025-03-10 12:05:33.447 | WARNING  | magic_pdf.libs.config_reader:get_local_layoutreader_model_dir:74 - 'layoutreader-model-dir' not exists, use /Users/yokumi/.cache/modelscope/hub/ppaanngggg/layoutreader as default\n",
      "2025-03-10 12:05:33.447 | WARNING  | magic_pdf.pdf_parse_union_core_v2:model_init:354 - local layoutreader model not exists, use online model from huggingface\n",
      "2025-03-10 12:05:36.577 | INFO     | magic_pdf.tools.common:do_parse:242 - local output dir is ocr_res/交通工具抛锚/auto\n"
     ]
    },
    {
     "name": "stdout",
     "output_type": "stream",
     "text": [
      "已处理: 交通工具抛锚.jpg\n"
     ]
    },
    {
     "name": "stderr",
     "output_type": "stream",
     "text": [
      "/opt/homebrew/anaconda3/envs/MinerU/lib/python3.10/site-packages/paddle/utils/cpp_extension/extension_utils.py:711: UserWarning: No ccache found. Please be aware that recompiling all source files may be required. You can download and install ccache from: https://github.com/ccache/ccache/blob/master/doc/INSTALL.md\n",
      "  warnings.warn(warning_message)\n"
     ]
    },
    {
     "name": "stdout",
     "output_type": "stream",
     "text": [
      "\u001b[93mimport tensorrt_llm failed, if do not use tensorrt, ignore this message\u001b[0m\n",
      "\u001b[93mimport lmdeploy failed, if do not use lmdeploy, ignore this message\u001b[0m\n"
     ]
    },
    {
     "name": "stderr",
     "output_type": "stream",
     "text": [
      "2025-03-10 12:05:41.712 | INFO     | magic_pdf.data.dataset:__init__:156 - lang: None\n",
      "2025-03-10 12:05:41.771 | INFO     | magic_pdf.libs.pdf_check:detect_invalid_chars:67 - cid_count: 0, text_len: 1, cid_chars_radio: 0.0\n",
      "2025-03-10 12:05:41.772 | WARNING  | magic_pdf.filter.pdf_classify_by_type:classify:335 - OCR needed based on classification result, by_image_area: False, by_text: False, by_avg_words: False, by_img_num: True, by_img_narrow_strips: True, by_invalid_chars: True\n",
      "2025-03-10 12:05:41.772 | INFO     | magic_pdf.model.pdf_extract_kit:__init__:78 - DocAnalysis init, this may take some times, layout_model: doclayout_yolo, apply_formula: True, apply_ocr: True, apply_table: True, table_model: rapid_table, lang: None\n",
      "2025-03-10 12:05:41.772 | INFO     | magic_pdf.model.pdf_extract_kit:__init__:92 - using device: mps\n",
      "2025-03-10 12:05:41.772 | INFO     | magic_pdf.model.pdf_extract_kit:__init__:96 - using models_dir: /Users/yokumi/Documents/MinerU/models--opendatalab--PDF-Extract-Kit-1.0/snapshots/60416a2cabad3f7b7284b43ce37a99864484fba2/models\n"
     ]
    },
    {
     "name": "stdout",
     "output_type": "stream",
     "text": [
      "CustomVisionEncoderDecoderModel init\n",
      "VariableUnimerNetModel init\n",
      "VariableUnimerNetPatchEmbeddings init\n",
      "VariableUnimerNetModel init\n",
      "VariableUnimerNetPatchEmbeddings init\n",
      "CustomMBartForCausalLM init\n",
      "CustomMBartDecoder init\n"
     ]
    },
    {
     "name": "stderr",
     "output_type": "stream",
     "text": [
      "2025-03-10 12:05:50,113 - DownloadModel - DEBUG: /opt/homebrew/anaconda3/envs/MinerU/lib/python3.10/site-packages/rapid_table/models/slanet-plus.onnx already exists\n",
      "[2025-03-10 12:05:50,113] [   DEBUG] download_model.py:34 - /opt/homebrew/anaconda3/envs/MinerU/lib/python3.10/site-packages/rapid_table/models/slanet-plus.onnx already exists\n",
      "2025-03-10 12:05:50.319 | INFO     | magic_pdf.model.pdf_extract_kit:__init__:174 - DocAnalysis init done!\n",
      "2025-03-10 12:05:50.319 | INFO     | magic_pdf.model.doc_analyze_by_custom_model:custom_model_init:128 - model init cost: 8.547510862350464\n",
      "2025-03-10 12:05:51.697 | INFO     | magic_pdf.model.pdf_extract_kit:__call__:210 - layout detection time: 1.33\n",
      "2025-03-10 12:05:53.287 | INFO     | magic_pdf.model.pdf_extract_kit:__call__:216 - mfd time: 1.59\n",
      "2025-03-10 12:05:53.288 | INFO     | magic_pdf.model.pdf_extract_kit:__call__:223 - formula nums: 0, mfr time: 0.0\n",
      "2025-03-10 12:05:55.019 | INFO     | magic_pdf.model.pdf_extract_kit:__call__:255 - ocr time: 1.73\n",
      "2025-03-10 12:05:55.019 | INFO     | magic_pdf.model.pdf_extract_kit:__call__:297 - table time: 0.0\n",
      "2025-03-10 12:05:55.020 | INFO     | magic_pdf.model.doc_analyze_by_custom_model:doc_analyze:224 - -----page_id : 0, page total time: 4.66-----\n",
      "2025-03-10 12:05:55.149 | INFO     | magic_pdf.model.doc_analyze_by_custom_model:doc_analyze:235 - gc time: 0.13\n",
      "2025-03-10 12:05:55.149 | INFO     | magic_pdf.model.doc_analyze_by_custom_model:doc_analyze:239 - doc analyze time: 4.83, speed: 0.21 pages/second\n",
      "2025-03-10 12:05:55.163 | INFO     | magic_pdf.pdf_parse_union_core_v2:pdf_parse_union:946 - page_id: 0, last_page_cost_time: 0.0\n",
      "2025-03-10 12:05:55.168 | WARNING  | magic_pdf.libs.config_reader:get_local_layoutreader_model_dir:74 - 'layoutreader-model-dir' not exists, use /Users/yokumi/.cache/modelscope/hub/ppaanngggg/layoutreader as default\n",
      "2025-03-10 12:05:55.168 | WARNING  | magic_pdf.pdf_parse_union_core_v2:model_init:354 - local layoutreader model not exists, use online model from huggingface\n",
      "2025-03-10 12:05:57.997 | INFO     | magic_pdf.tools.common:do_parse:242 - local output dir is ocr_res/想去的多树之地/auto\n"
     ]
    },
    {
     "name": "stdout",
     "output_type": "stream",
     "text": [
      "已处理: 想去的多树之地.jpg\n"
     ]
    },
    {
     "name": "stderr",
     "output_type": "stream",
     "text": [
      "/opt/homebrew/anaconda3/envs/MinerU/lib/python3.10/site-packages/paddle/utils/cpp_extension/extension_utils.py:711: UserWarning: No ccache found. Please be aware that recompiling all source files may be required. You can download and install ccache from: https://github.com/ccache/ccache/blob/master/doc/INSTALL.md\n",
      "  warnings.warn(warning_message)\n"
     ]
    },
    {
     "name": "stdout",
     "output_type": "stream",
     "text": [
      "\u001b[93mimport tensorrt_llm failed, if do not use tensorrt, ignore this message\u001b[0m\n",
      "\u001b[93mimport lmdeploy failed, if do not use lmdeploy, ignore this message\u001b[0m\n"
     ]
    },
    {
     "name": "stderr",
     "output_type": "stream",
     "text": [
      "2025-03-10 12:06:03.028 | INFO     | magic_pdf.data.dataset:__init__:156 - lang: None\n",
      "2025-03-10 12:06:03.087 | INFO     | magic_pdf.libs.pdf_check:detect_invalid_chars:67 - cid_count: 0, text_len: 1, cid_chars_radio: 0.0\n",
      "2025-03-10 12:06:03.087 | WARNING  | magic_pdf.filter.pdf_classify_by_type:classify:335 - OCR needed based on classification result, by_image_area: False, by_text: False, by_avg_words: False, by_img_num: True, by_img_narrow_strips: True, by_invalid_chars: True\n",
      "2025-03-10 12:06:03.088 | INFO     | magic_pdf.model.pdf_extract_kit:__init__:78 - DocAnalysis init, this may take some times, layout_model: doclayout_yolo, apply_formula: True, apply_ocr: True, apply_table: True, table_model: rapid_table, lang: None\n",
      "2025-03-10 12:06:03.088 | INFO     | magic_pdf.model.pdf_extract_kit:__init__:92 - using device: mps\n",
      "2025-03-10 12:06:03.088 | INFO     | magic_pdf.model.pdf_extract_kit:__init__:96 - using models_dir: /Users/yokumi/Documents/MinerU/models--opendatalab--PDF-Extract-Kit-1.0/snapshots/60416a2cabad3f7b7284b43ce37a99864484fba2/models\n"
     ]
    },
    {
     "name": "stdout",
     "output_type": "stream",
     "text": [
      "CustomVisionEncoderDecoderModel init\n",
      "VariableUnimerNetModel init\n",
      "VariableUnimerNetPatchEmbeddings init\n",
      "VariableUnimerNetModel init\n",
      "VariableUnimerNetPatchEmbeddings init\n",
      "CustomMBartForCausalLM init\n",
      "CustomMBartDecoder init\n"
     ]
    },
    {
     "name": "stderr",
     "output_type": "stream",
     "text": [
      "2025-03-10 12:06:11,251 - DownloadModel - DEBUG: /opt/homebrew/anaconda3/envs/MinerU/lib/python3.10/site-packages/rapid_table/models/slanet-plus.onnx already exists\n",
      "[2025-03-10 12:06:11,251] [   DEBUG] download_model.py:34 - /opt/homebrew/anaconda3/envs/MinerU/lib/python3.10/site-packages/rapid_table/models/slanet-plus.onnx already exists\n",
      "2025-03-10 12:06:11.459 | INFO     | magic_pdf.model.pdf_extract_kit:__init__:174 - DocAnalysis init done!\n",
      "2025-03-10 12:06:11.459 | INFO     | magic_pdf.model.doc_analyze_by_custom_model:custom_model_init:128 - model init cost: 8.371307134628296\n",
      "2025-03-10 12:06:12.940 | INFO     | magic_pdf.model.pdf_extract_kit:__call__:210 - layout detection time: 1.43\n",
      "2025-03-10 12:06:14.517 | INFO     | magic_pdf.model.pdf_extract_kit:__call__:216 - mfd time: 1.58\n",
      "2025-03-10 12:06:14.518 | INFO     | magic_pdf.model.pdf_extract_kit:__call__:223 - formula nums: 0, mfr time: 0.0\n",
      "2025-03-10 12:06:16.998 | INFO     | magic_pdf.model.pdf_extract_kit:__call__:255 - ocr time: 2.48\n",
      "2025-03-10 12:06:16.998 | INFO     | magic_pdf.model.pdf_extract_kit:__call__:297 - table time: 0.0\n",
      "2025-03-10 12:06:16.999 | INFO     | magic_pdf.model.doc_analyze_by_custom_model:doc_analyze:224 - -----page_id : 0, page total time: 5.5-----\n",
      "2025-03-10 12:06:17.128 | INFO     | magic_pdf.model.doc_analyze_by_custom_model:doc_analyze:235 - gc time: 0.13\n",
      "2025-03-10 12:06:17.128 | INFO     | magic_pdf.model.doc_analyze_by_custom_model:doc_analyze:239 - doc analyze time: 5.67, speed: 0.18 pages/second\n",
      "2025-03-10 12:06:17.142 | INFO     | magic_pdf.pdf_parse_union_core_v2:pdf_parse_union:946 - page_id: 0, last_page_cost_time: 0.0\n",
      "2025-03-10 12:06:17.148 | WARNING  | magic_pdf.libs.config_reader:get_local_layoutreader_model_dir:74 - 'layoutreader-model-dir' not exists, use /Users/yokumi/.cache/modelscope/hub/ppaanngggg/layoutreader as default\n",
      "2025-03-10 12:06:17.149 | WARNING  | magic_pdf.pdf_parse_union_core_v2:model_init:354 - local layoutreader model not exists, use online model from huggingface\n",
      "2025-03-10 12:06:20.076 | INFO     | magic_pdf.tools.common:do_parse:242 - local output dir is ocr_res/外国食物/auto\n"
     ]
    },
    {
     "name": "stdout",
     "output_type": "stream",
     "text": [
      "已处理: 外国食物.jpg\n"
     ]
    },
    {
     "name": "stderr",
     "output_type": "stream",
     "text": [
      "/opt/homebrew/anaconda3/envs/MinerU/lib/python3.10/site-packages/paddle/utils/cpp_extension/extension_utils.py:711: UserWarning: No ccache found. Please be aware that recompiling all source files may be required. You can download and install ccache from: https://github.com/ccache/ccache/blob/master/doc/INSTALL.md\n",
      "  warnings.warn(warning_message)\n"
     ]
    },
    {
     "name": "stdout",
     "output_type": "stream",
     "text": [
      "\u001b[93mimport tensorrt_llm failed, if do not use tensorrt, ignore this message\u001b[0m\n",
      "\u001b[93mimport lmdeploy failed, if do not use lmdeploy, ignore this message\u001b[0m\n"
     ]
    },
    {
     "name": "stderr",
     "output_type": "stream",
     "text": [
      "2025-03-10 12:06:25.139 | INFO     | magic_pdf.data.dataset:__init__:156 - lang: None\n",
      "2025-03-10 12:06:25.198 | INFO     | magic_pdf.libs.pdf_check:detect_invalid_chars:67 - cid_count: 0, text_len: 1, cid_chars_radio: 0.0\n",
      "2025-03-10 12:06:25.198 | WARNING  | magic_pdf.filter.pdf_classify_by_type:classify:335 - OCR needed based on classification result, by_image_area: False, by_text: False, by_avg_words: False, by_img_num: True, by_img_narrow_strips: True, by_invalid_chars: True\n",
      "2025-03-10 12:06:25.200 | INFO     | magic_pdf.model.pdf_extract_kit:__init__:78 - DocAnalysis init, this may take some times, layout_model: doclayout_yolo, apply_formula: True, apply_ocr: True, apply_table: True, table_model: rapid_table, lang: None\n",
      "2025-03-10 12:06:25.200 | INFO     | magic_pdf.model.pdf_extract_kit:__init__:92 - using device: mps\n",
      "2025-03-10 12:06:25.200 | INFO     | magic_pdf.model.pdf_extract_kit:__init__:96 - using models_dir: /Users/yokumi/Documents/MinerU/models--opendatalab--PDF-Extract-Kit-1.0/snapshots/60416a2cabad3f7b7284b43ce37a99864484fba2/models\n"
     ]
    },
    {
     "name": "stdout",
     "output_type": "stream",
     "text": [
      "CustomVisionEncoderDecoderModel init\n",
      "VariableUnimerNetModel init\n",
      "VariableUnimerNetPatchEmbeddings init\n",
      "VariableUnimerNetModel init\n",
      "VariableUnimerNetPatchEmbeddings init\n",
      "CustomMBartForCausalLM init\n",
      "CustomMBartDecoder init\n"
     ]
    },
    {
     "name": "stderr",
     "output_type": "stream",
     "text": [
      "2025-03-10 12:06:33,429 - DownloadModel - DEBUG: /opt/homebrew/anaconda3/envs/MinerU/lib/python3.10/site-packages/rapid_table/models/slanet-plus.onnx already exists\n",
      "[2025-03-10 12:06:33,429] [   DEBUG] download_model.py:34 - /opt/homebrew/anaconda3/envs/MinerU/lib/python3.10/site-packages/rapid_table/models/slanet-plus.onnx already exists\n",
      "2025-03-10 12:06:33.642 | INFO     | magic_pdf.model.pdf_extract_kit:__init__:174 - DocAnalysis init done!\n",
      "2025-03-10 12:06:33.642 | INFO     | magic_pdf.model.doc_analyze_by_custom_model:custom_model_init:128 - model init cost: 8.443694114685059\n",
      "2025-03-10 12:06:35.133 | INFO     | magic_pdf.model.pdf_extract_kit:__call__:210 - layout detection time: 1.44\n",
      "2025-03-10 12:06:36.779 | INFO     | magic_pdf.model.pdf_extract_kit:__call__:216 - mfd time: 1.65\n",
      "2025-03-10 12:06:36.780 | INFO     | magic_pdf.model.pdf_extract_kit:__call__:223 - formula nums: 0, mfr time: 0.0\n",
      "2025-03-10 12:06:38.687 | INFO     | magic_pdf.model.pdf_extract_kit:__call__:255 - ocr time: 1.91\n",
      "2025-03-10 12:06:38.687 | INFO     | magic_pdf.model.pdf_extract_kit:__call__:297 - table time: 0.0\n",
      "2025-03-10 12:06:38.687 | INFO     | magic_pdf.model.doc_analyze_by_custom_model:doc_analyze:224 - -----page_id : 0, page total time: 5.0-----\n",
      "2025-03-10 12:06:38.816 | INFO     | magic_pdf.model.doc_analyze_by_custom_model:doc_analyze:235 - gc time: 0.13\n",
      "2025-03-10 12:06:38.816 | INFO     | magic_pdf.model.doc_analyze_by_custom_model:doc_analyze:239 - doc analyze time: 5.17, speed: 0.19 pages/second\n",
      "2025-03-10 12:06:38.829 | INFO     | magic_pdf.pdf_parse_union_core_v2:pdf_parse_union:946 - page_id: 0, last_page_cost_time: 0.0\n",
      "2025-03-10 12:06:38.836 | WARNING  | magic_pdf.libs.config_reader:get_local_layoutreader_model_dir:74 - 'layoutreader-model-dir' not exists, use /Users/yokumi/.cache/modelscope/hub/ppaanngggg/layoutreader as default\n",
      "2025-03-10 12:06:38.836 | WARNING  | magic_pdf.pdf_parse_union_core_v2:model_init:354 - local layoutreader model not exists, use online model from huggingface\n",
      "2025-03-10 12:06:41.637 | INFO     | magic_pdf.tools.common:do_parse:242 - local output dir is ocr_res/想做部分修改的新法律/auto\n"
     ]
    },
    {
     "name": "stdout",
     "output_type": "stream",
     "text": [
      "已处理: 想做部分修改的新法律.jpg\n"
     ]
    },
    {
     "name": "stderr",
     "output_type": "stream",
     "text": [
      "/opt/homebrew/anaconda3/envs/MinerU/lib/python3.10/site-packages/paddle/utils/cpp_extension/extension_utils.py:711: UserWarning: No ccache found. Please be aware that recompiling all source files may be required. You can download and install ccache from: https://github.com/ccache/ccache/blob/master/doc/INSTALL.md\n",
      "  warnings.warn(warning_message)\n"
     ]
    },
    {
     "name": "stdout",
     "output_type": "stream",
     "text": [
      "\u001b[93mimport tensorrt_llm failed, if do not use tensorrt, ignore this message\u001b[0m\n",
      "\u001b[93mimport lmdeploy failed, if do not use lmdeploy, ignore this message\u001b[0m\n"
     ]
    },
    {
     "name": "stderr",
     "output_type": "stream",
     "text": [
      "2025-03-10 12:06:46.576 | INFO     | magic_pdf.data.dataset:__init__:156 - lang: None\n",
      "2025-03-10 12:06:46.634 | INFO     | magic_pdf.libs.pdf_check:detect_invalid_chars:67 - cid_count: 0, text_len: 1, cid_chars_radio: 0.0\n",
      "2025-03-10 12:06:46.634 | WARNING  | magic_pdf.filter.pdf_classify_by_type:classify:335 - OCR needed based on classification result, by_image_area: False, by_text: False, by_avg_words: False, by_img_num: True, by_img_narrow_strips: True, by_invalid_chars: True\n",
      "2025-03-10 12:06:46.636 | INFO     | magic_pdf.model.pdf_extract_kit:__init__:78 - DocAnalysis init, this may take some times, layout_model: doclayout_yolo, apply_formula: True, apply_ocr: True, apply_table: True, table_model: rapid_table, lang: None\n",
      "2025-03-10 12:06:46.636 | INFO     | magic_pdf.model.pdf_extract_kit:__init__:92 - using device: mps\n",
      "2025-03-10 12:06:46.636 | INFO     | magic_pdf.model.pdf_extract_kit:__init__:96 - using models_dir: /Users/yokumi/Documents/MinerU/models--opendatalab--PDF-Extract-Kit-1.0/snapshots/60416a2cabad3f7b7284b43ce37a99864484fba2/models\n"
     ]
    },
    {
     "name": "stdout",
     "output_type": "stream",
     "text": [
      "CustomVisionEncoderDecoderModel init\n",
      "VariableUnimerNetModel init\n",
      "VariableUnimerNetPatchEmbeddings init\n",
      "VariableUnimerNetModel init\n",
      "VariableUnimerNetPatchEmbeddings init\n",
      "CustomMBartForCausalLM init\n",
      "CustomMBartDecoder init\n"
     ]
    },
    {
     "name": "stderr",
     "output_type": "stream",
     "text": [
      "2025-03-10 12:06:54,808 - DownloadModel - DEBUG: /opt/homebrew/anaconda3/envs/MinerU/lib/python3.10/site-packages/rapid_table/models/slanet-plus.onnx already exists\n",
      "[2025-03-10 12:06:54,808] [   DEBUG] download_model.py:34 - /opt/homebrew/anaconda3/envs/MinerU/lib/python3.10/site-packages/rapid_table/models/slanet-plus.onnx already exists\n",
      "2025-03-10 12:06:55.012 | INFO     | magic_pdf.model.pdf_extract_kit:__init__:174 - DocAnalysis init done!\n",
      "2025-03-10 12:06:55.012 | INFO     | magic_pdf.model.doc_analyze_by_custom_model:custom_model_init:128 - model init cost: 8.377906799316406\n",
      "2025-03-10 12:06:56.348 | INFO     | magic_pdf.model.pdf_extract_kit:__call__:210 - layout detection time: 1.29\n",
      "2025-03-10 12:06:57.941 | INFO     | magic_pdf.model.pdf_extract_kit:__call__:216 - mfd time: 1.59\n",
      "2025-03-10 12:06:57.942 | INFO     | magic_pdf.model.pdf_extract_kit:__call__:223 - formula nums: 0, mfr time: 0.0\n",
      "2025-03-10 12:07:00.415 | INFO     | magic_pdf.model.pdf_extract_kit:__call__:255 - ocr time: 2.47\n",
      "2025-03-10 12:07:00.415 | INFO     | magic_pdf.model.pdf_extract_kit:__call__:297 - table time: 0.0\n",
      "2025-03-10 12:07:00.416 | INFO     | magic_pdf.model.doc_analyze_by_custom_model:doc_analyze:224 - -----page_id : 0, page total time: 5.36-----\n",
      "2025-03-10 12:07:00.541 | INFO     | magic_pdf.model.doc_analyze_by_custom_model:doc_analyze:235 - gc time: 0.13\n",
      "2025-03-10 12:07:00.542 | INFO     | magic_pdf.model.doc_analyze_by_custom_model:doc_analyze:239 - doc analyze time: 5.53, speed: 0.18 pages/second\n",
      "2025-03-10 12:07:00.555 | INFO     | magic_pdf.pdf_parse_union_core_v2:pdf_parse_union:946 - page_id: 0, last_page_cost_time: 0.0\n",
      "2025-03-10 12:07:00.563 | WARNING  | magic_pdf.libs.config_reader:get_local_layoutreader_model_dir:74 - 'layoutreader-model-dir' not exists, use /Users/yokumi/.cache/modelscope/hub/ppaanngggg/layoutreader as default\n",
      "2025-03-10 12:07:00.563 | WARNING  | magic_pdf.pdf_parse_union_core_v2:model_init:354 - local layoutreader model not exists, use online model from huggingface\n",
      "2025-03-10 12:07:02.937 | INFO     | magic_pdf.tools.common:do_parse:242 - local output dir is ocr_res/不用工作或学习的一天/auto\n"
     ]
    },
    {
     "name": "stdout",
     "output_type": "stream",
     "text": [
      "已处理: 不用工作或学习的一天.jpg\n"
     ]
    },
    {
     "name": "stderr",
     "output_type": "stream",
     "text": [
      "/opt/homebrew/anaconda3/envs/MinerU/lib/python3.10/site-packages/paddle/utils/cpp_extension/extension_utils.py:711: UserWarning: No ccache found. Please be aware that recompiling all source files may be required. You can download and install ccache from: https://github.com/ccache/ccache/blob/master/doc/INSTALL.md\n",
      "  warnings.warn(warning_message)\n"
     ]
    },
    {
     "name": "stdout",
     "output_type": "stream",
     "text": [
      "\u001b[93mimport tensorrt_llm failed, if do not use tensorrt, ignore this message\u001b[0m\n",
      "\u001b[93mimport lmdeploy failed, if do not use lmdeploy, ignore this message\u001b[0m\n"
     ]
    },
    {
     "name": "stderr",
     "output_type": "stream",
     "text": [
      "2025-03-10 12:07:07.977 | INFO     | magic_pdf.data.dataset:__init__:156 - lang: None\n",
      "2025-03-10 12:07:08.035 | INFO     | magic_pdf.libs.pdf_check:detect_invalid_chars:67 - cid_count: 0, text_len: 1, cid_chars_radio: 0.0\n",
      "2025-03-10 12:07:08.036 | WARNING  | magic_pdf.filter.pdf_classify_by_type:classify:335 - OCR needed based on classification result, by_image_area: False, by_text: False, by_avg_words: False, by_img_num: True, by_img_narrow_strips: True, by_invalid_chars: True\n",
      "2025-03-10 12:07:08.037 | INFO     | magic_pdf.model.pdf_extract_kit:__init__:78 - DocAnalysis init, this may take some times, layout_model: doclayout_yolo, apply_formula: True, apply_ocr: True, apply_table: True, table_model: rapid_table, lang: None\n",
      "2025-03-10 12:07:08.037 | INFO     | magic_pdf.model.pdf_extract_kit:__init__:92 - using device: mps\n",
      "2025-03-10 12:07:08.037 | INFO     | magic_pdf.model.pdf_extract_kit:__init__:96 - using models_dir: /Users/yokumi/Documents/MinerU/models--opendatalab--PDF-Extract-Kit-1.0/snapshots/60416a2cabad3f7b7284b43ce37a99864484fba2/models\n"
     ]
    },
    {
     "name": "stdout",
     "output_type": "stream",
     "text": [
      "CustomVisionEncoderDecoderModel init\n",
      "VariableUnimerNetModel init\n",
      "VariableUnimerNetPatchEmbeddings init\n",
      "VariableUnimerNetModel init\n",
      "VariableUnimerNetPatchEmbeddings init\n",
      "CustomMBartForCausalLM init\n",
      "CustomMBartDecoder init\n"
     ]
    },
    {
     "name": "stderr",
     "output_type": "stream",
     "text": [
      "2025-03-10 12:07:16,198 - DownloadModel - DEBUG: /opt/homebrew/anaconda3/envs/MinerU/lib/python3.10/site-packages/rapid_table/models/slanet-plus.onnx already exists\n",
      "[2025-03-10 12:07:16,198] [   DEBUG] download_model.py:34 - /opt/homebrew/anaconda3/envs/MinerU/lib/python3.10/site-packages/rapid_table/models/slanet-plus.onnx already exists\n",
      "2025-03-10 12:07:16.407 | INFO     | magic_pdf.model.pdf_extract_kit:__init__:174 - DocAnalysis init done!\n",
      "2025-03-10 12:07:16.407 | INFO     | magic_pdf.model.doc_analyze_by_custom_model:custom_model_init:128 - model init cost: 8.371583938598633\n",
      "2025-03-10 12:07:17.749 | INFO     | magic_pdf.model.pdf_extract_kit:__call__:210 - layout detection time: 1.29\n",
      "2025-03-10 12:07:19.273 | INFO     | magic_pdf.model.pdf_extract_kit:__call__:216 - mfd time: 1.52\n",
      "2025-03-10 12:07:19.273 | INFO     | magic_pdf.model.pdf_extract_kit:__call__:223 - formula nums: 0, mfr time: 0.0\n",
      "2025-03-10 12:07:22.141 | INFO     | magic_pdf.model.pdf_extract_kit:__call__:255 - ocr time: 2.87\n",
      "2025-03-10 12:07:22.141 | INFO     | magic_pdf.model.pdf_extract_kit:__call__:297 - table time: 0.0\n",
      "2025-03-10 12:07:22.142 | INFO     | magic_pdf.model.doc_analyze_by_custom_model:doc_analyze:224 - -----page_id : 0, page total time: 5.69-----\n",
      "2025-03-10 12:07:22.268 | INFO     | magic_pdf.model.doc_analyze_by_custom_model:doc_analyze:235 - gc time: 0.13\n",
      "2025-03-10 12:07:22.268 | INFO     | magic_pdf.model.doc_analyze_by_custom_model:doc_analyze:239 - doc analyze time: 5.86, speed: 0.17 pages/second\n",
      "2025-03-10 12:07:22.282 | INFO     | magic_pdf.pdf_parse_union_core_v2:pdf_parse_union:946 - page_id: 0, last_page_cost_time: 0.0\n",
      "2025-03-10 12:07:22.289 | WARNING  | magic_pdf.libs.config_reader:get_local_layoutreader_model_dir:74 - 'layoutreader-model-dir' not exists, use /Users/yokumi/.cache/modelscope/hub/ppaanngggg/layoutreader as default\n",
      "2025-03-10 12:07:22.289 | WARNING  | magic_pdf.pdf_parse_union_core_v2:model_init:354 - local layoutreader model not exists, use online model from huggingface\n",
      "2025-03-10 12:07:24.792 | INFO     | magic_pdf.tools.common:do_parse:242 - local output dir is ocr_res/诗句或歌词/auto\n"
     ]
    },
    {
     "name": "stdout",
     "output_type": "stream",
     "text": [
      "已处理: 诗句或歌词.jpg\n"
     ]
    },
    {
     "name": "stderr",
     "output_type": "stream",
     "text": [
      "/opt/homebrew/anaconda3/envs/MinerU/lib/python3.10/site-packages/paddle/utils/cpp_extension/extension_utils.py:711: UserWarning: No ccache found. Please be aware that recompiling all source files may be required. You can download and install ccache from: https://github.com/ccache/ccache/blob/master/doc/INSTALL.md\n",
      "  warnings.warn(warning_message)\n"
     ]
    },
    {
     "name": "stdout",
     "output_type": "stream",
     "text": [
      "\u001b[93mimport tensorrt_llm failed, if do not use tensorrt, ignore this message\u001b[0m\n",
      "\u001b[93mimport lmdeploy failed, if do not use lmdeploy, ignore this message\u001b[0m\n"
     ]
    },
    {
     "name": "stderr",
     "output_type": "stream",
     "text": [
      "2025-03-10 12:07:29.600 | INFO     | magic_pdf.data.dataset:__init__:156 - lang: None\n",
      "2025-03-10 12:07:29.658 | INFO     | magic_pdf.libs.pdf_check:detect_invalid_chars:67 - cid_count: 0, text_len: 1, cid_chars_radio: 0.0\n",
      "2025-03-10 12:07:29.659 | WARNING  | magic_pdf.filter.pdf_classify_by_type:classify:335 - OCR needed based on classification result, by_image_area: False, by_text: False, by_avg_words: False, by_img_num: True, by_img_narrow_strips: True, by_invalid_chars: True\n",
      "2025-03-10 12:07:29.659 | INFO     | magic_pdf.model.pdf_extract_kit:__init__:78 - DocAnalysis init, this may take some times, layout_model: doclayout_yolo, apply_formula: True, apply_ocr: True, apply_table: True, table_model: rapid_table, lang: None\n",
      "2025-03-10 12:07:29.659 | INFO     | magic_pdf.model.pdf_extract_kit:__init__:92 - using device: mps\n",
      "2025-03-10 12:07:29.659 | INFO     | magic_pdf.model.pdf_extract_kit:__init__:96 - using models_dir: /Users/yokumi/Documents/MinerU/models--opendatalab--PDF-Extract-Kit-1.0/snapshots/60416a2cabad3f7b7284b43ce37a99864484fba2/models\n"
     ]
    },
    {
     "name": "stdout",
     "output_type": "stream",
     "text": [
      "CustomVisionEncoderDecoderModel init\n",
      "VariableUnimerNetModel init\n",
      "VariableUnimerNetPatchEmbeddings init\n",
      "VariableUnimerNetModel init\n",
      "VariableUnimerNetPatchEmbeddings init\n",
      "CustomMBartForCausalLM init\n",
      "CustomMBartDecoder init\n"
     ]
    },
    {
     "name": "stderr",
     "output_type": "stream",
     "text": [
      "2025-03-10 12:07:37,804 - DownloadModel - DEBUG: /opt/homebrew/anaconda3/envs/MinerU/lib/python3.10/site-packages/rapid_table/models/slanet-plus.onnx already exists\n",
      "[2025-03-10 12:07:37,804] [   DEBUG] download_model.py:34 - /opt/homebrew/anaconda3/envs/MinerU/lib/python3.10/site-packages/rapid_table/models/slanet-plus.onnx already exists\n",
      "2025-03-10 12:07:38.014 | INFO     | magic_pdf.model.pdf_extract_kit:__init__:174 - DocAnalysis init done!\n",
      "2025-03-10 12:07:38.014 | INFO     | magic_pdf.model.doc_analyze_by_custom_model:custom_model_init:128 - model init cost: 8.355329036712646\n",
      "2025-03-10 12:07:39.425 | INFO     | magic_pdf.model.pdf_extract_kit:__call__:210 - layout detection time: 1.36\n",
      "2025-03-10 12:07:41.022 | INFO     | magic_pdf.model.pdf_extract_kit:__call__:216 - mfd time: 1.6\n",
      "2025-03-10 12:07:41.023 | INFO     | magic_pdf.model.pdf_extract_kit:__call__:223 - formula nums: 0, mfr time: 0.0\n",
      "2025-03-10 12:07:43.070 | INFO     | magic_pdf.model.pdf_extract_kit:__call__:255 - ocr time: 2.05\n",
      "2025-03-10 12:07:43.070 | INFO     | magic_pdf.model.pdf_extract_kit:__call__:297 - table time: 0.0\n",
      "2025-03-10 12:07:43.071 | INFO     | magic_pdf.model.doc_analyze_by_custom_model:doc_analyze:224 - -----page_id : 0, page total time: 5.01-----\n",
      "2025-03-10 12:07:43.202 | INFO     | magic_pdf.model.doc_analyze_by_custom_model:doc_analyze:235 - gc time: 0.13\n",
      "2025-03-10 12:07:43.202 | INFO     | magic_pdf.model.doc_analyze_by_custom_model:doc_analyze:239 - doc analyze time: 5.19, speed: 0.19 pages/second\n",
      "2025-03-10 12:07:43.216 | INFO     | magic_pdf.pdf_parse_union_core_v2:pdf_parse_union:946 - page_id: 0, last_page_cost_time: 0.0\n",
      "2025-03-10 12:07:43.221 | WARNING  | magic_pdf.libs.config_reader:get_local_layoutreader_model_dir:74 - 'layoutreader-model-dir' not exists, use /Users/yokumi/.cache/modelscope/hub/ppaanngggg/layoutreader as default\n",
      "2025-03-10 12:07:43.221 | WARNING  | magic_pdf.pdf_parse_union_core_v2:model_init:354 - local layoutreader model not exists, use online model from huggingface\n",
      "2025-03-10 12:07:46.362 | INFO     | magic_pdf.tools.common:do_parse:242 - local output dir is ocr_res/感兴趣的科学学科_领域/auto\n"
     ]
    },
    {
     "name": "stdout",
     "output_type": "stream",
     "text": [
      "已处理: 感兴趣的科学学科_领域.jpg\n"
     ]
    },
    {
     "name": "stderr",
     "output_type": "stream",
     "text": [
      "/opt/homebrew/anaconda3/envs/MinerU/lib/python3.10/site-packages/paddle/utils/cpp_extension/extension_utils.py:711: UserWarning: No ccache found. Please be aware that recompiling all source files may be required. You can download and install ccache from: https://github.com/ccache/ccache/blob/master/doc/INSTALL.md\n",
      "  warnings.warn(warning_message)\n"
     ]
    },
    {
     "name": "stdout",
     "output_type": "stream",
     "text": [
      "\u001b[93mimport tensorrt_llm failed, if do not use tensorrt, ignore this message\u001b[0m\n",
      "\u001b[93mimport lmdeploy failed, if do not use lmdeploy, ignore this message\u001b[0m\n"
     ]
    },
    {
     "name": "stderr",
     "output_type": "stream",
     "text": [
      "2025-03-10 12:07:51.590 | INFO     | magic_pdf.data.dataset:__init__:156 - lang: None\n",
      "2025-03-10 12:07:51.663 | INFO     | magic_pdf.libs.pdf_check:detect_invalid_chars:67 - cid_count: 0, text_len: 1, cid_chars_radio: 0.0\n",
      "2025-03-10 12:07:51.663 | WARNING  | magic_pdf.filter.pdf_classify_by_type:classify:335 - OCR needed based on classification result, by_image_area: False, by_text: False, by_avg_words: False, by_img_num: True, by_img_narrow_strips: True, by_invalid_chars: True\n",
      "2025-03-10 12:07:51.664 | INFO     | magic_pdf.model.pdf_extract_kit:__init__:78 - DocAnalysis init, this may take some times, layout_model: doclayout_yolo, apply_formula: True, apply_ocr: True, apply_table: True, table_model: rapid_table, lang: None\n",
      "2025-03-10 12:07:51.664 | INFO     | magic_pdf.model.pdf_extract_kit:__init__:92 - using device: mps\n",
      "2025-03-10 12:07:51.664 | INFO     | magic_pdf.model.pdf_extract_kit:__init__:96 - using models_dir: /Users/yokumi/Documents/MinerU/models--opendatalab--PDF-Extract-Kit-1.0/snapshots/60416a2cabad3f7b7284b43ce37a99864484fba2/models\n"
     ]
    },
    {
     "name": "stdout",
     "output_type": "stream",
     "text": [
      "CustomVisionEncoderDecoderModel init\n",
      "VariableUnimerNetModel init\n",
      "VariableUnimerNetPatchEmbeddings init\n",
      "VariableUnimerNetModel init\n",
      "VariableUnimerNetPatchEmbeddings init\n",
      "CustomMBartForCausalLM init\n",
      "CustomMBartDecoder init\n"
     ]
    },
    {
     "name": "stderr",
     "output_type": "stream",
     "text": [
      "2025-03-10 12:08:00,175 - DownloadModel - DEBUG: /opt/homebrew/anaconda3/envs/MinerU/lib/python3.10/site-packages/rapid_table/models/slanet-plus.onnx already exists\n",
      "[2025-03-10 12:08:00,175] [   DEBUG] download_model.py:34 - /opt/homebrew/anaconda3/envs/MinerU/lib/python3.10/site-packages/rapid_table/models/slanet-plus.onnx already exists\n",
      "2025-03-10 12:08:00.424 | INFO     | magic_pdf.model.pdf_extract_kit:__init__:174 - DocAnalysis init done!\n",
      "2025-03-10 12:08:00.424 | INFO     | magic_pdf.model.doc_analyze_by_custom_model:custom_model_init:128 - model init cost: 8.760621070861816\n",
      "2025-03-10 12:08:01.991 | INFO     | magic_pdf.model.pdf_extract_kit:__call__:210 - layout detection time: 1.51\n",
      "2025-03-10 12:08:03.757 | INFO     | magic_pdf.model.pdf_extract_kit:__call__:216 - mfd time: 1.77\n",
      "2025-03-10 12:08:03.758 | INFO     | magic_pdf.model.pdf_extract_kit:__call__:223 - formula nums: 0, mfr time: 0.0\n",
      "2025-03-10 12:08:06.129 | INFO     | magic_pdf.model.pdf_extract_kit:__call__:255 - ocr time: 2.37\n",
      "2025-03-10 12:08:06.129 | INFO     | magic_pdf.model.pdf_extract_kit:__call__:297 - table time: 0.0\n",
      "2025-03-10 12:08:06.130 | INFO     | magic_pdf.model.doc_analyze_by_custom_model:doc_analyze:224 - -----page_id : 0, page total time: 5.66-----\n",
      "2025-03-10 12:08:06.271 | INFO     | magic_pdf.model.doc_analyze_by_custom_model:doc_analyze:235 - gc time: 0.14\n",
      "2025-03-10 12:08:06.271 | INFO     | magic_pdf.model.doc_analyze_by_custom_model:doc_analyze:239 - doc analyze time: 5.85, speed: 0.17 pages/second\n",
      "2025-03-10 12:08:06.284 | INFO     | magic_pdf.pdf_parse_union_core_v2:pdf_parse_union:946 - page_id: 0, last_page_cost_time: 0.0\n",
      "2025-03-10 12:08:06.291 | WARNING  | magic_pdf.libs.config_reader:get_local_layoutreader_model_dir:74 - 'layoutreader-model-dir' not exists, use /Users/yokumi/.cache/modelscope/hub/ppaanngggg/layoutreader as default\n",
      "2025-03-10 12:08:06.291 | WARNING  | magic_pdf.pdf_parse_union_core_v2:model_init:354 - local layoutreader model not exists, use online model from huggingface\n",
      "2025-03-10 12:08:09.014 | INFO     | magic_pdf.tools.common:do_parse:242 - local output dir is ocr_res/朋友做过的趣事/auto\n"
     ]
    },
    {
     "name": "stdout",
     "output_type": "stream",
     "text": [
      "已处理: 朋友做过的趣事.jpg\n"
     ]
    }
   ],
   "source": [
    "# 遍历 p1 和 p23 文件夹\n",
    "for dir_path in base_dirs:\n",
    "    if os.path.exists(dir_path):\n",
    "        process_images(dir_path)\n",
    "    else:\n",
    "        print(f\"目录不存在，跳过: {dir_path}\")"
   ]
  }
 ],
 "metadata": {
  "kernelspec": {
   "display_name": "MinerU",
   "language": "python",
   "name": "python3"
  },
  "language_info": {
   "codemirror_mode": {
    "name": "ipython",
    "version": 3
   },
   "file_extension": ".py",
   "mimetype": "text/x-python",
   "name": "python",
   "nbconvert_exporter": "python",
   "pygments_lexer": "ipython3",
   "version": "3.10.16"
  }
 },
 "nbformat": 4,
 "nbformat_minor": 2
}
